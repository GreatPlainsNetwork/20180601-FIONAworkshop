{
 "cells": [
  {
   "cell_type": "code",
   "execution_count": null,
   "metadata": {},
   "outputs": [],
   "source": [
    "COMMAND=\"dmidecode | grep Version\""
   ]
  },
  {
   "cell_type": "code",
   "execution_count": null,
   "metadata": {},
   "outputs": [],
   "source": [
    "COMMAND=\"dmidecode\""
   ]
  },
  {
   "cell_type": "code",
   "execution_count": null,
   "metadata": {},
   "outputs": [],
   "source": [
    "COMMAND=\"cat /proc/meminfo\""
   ]
  },
  {
   "cell_type": "code",
   "execution_count": null,
   "metadata": {},
   "outputs": [],
   "source": [
    "COMMAND=\"sensors-detect --auto\""
   ]
  },
  {
   "cell_type": "code",
   "execution_count": null,
   "metadata": {},
   "outputs": [],
   "source": [
    "COMMAND=\"sensors\""
   ]
  },
  {
   "cell_type": "code",
   "execution_count": null,
   "metadata": {},
   "outputs": [],
   "source": [
    "COMMAND=\"cat /var/log/gridftp\""
   ]
  },
  {
   "cell_type": "code",
   "execution_count": null,
   "metadata": {},
   "outputs": [],
   "source": [
    "COMMAND=\"ls -al /data/\""
   ]
  },
  {
   "cell_type": "code",
   "execution_count": null,
   "metadata": {},
   "outputs": [],
   "source": [
    "COMMAND=\"hostname -f\""
   ]
  },
  {
   "cell_type": "code",
   "execution_count": null,
   "metadata": {},
   "outputs": [],
   "source": [
    "COMMAND=\"ntpq -p\""
   ]
  },
  {
   "cell_type": "code",
   "execution_count": null,
   "metadata": {},
   "outputs": [],
   "source": [
    "COMMAND=\"yum -y install ntp\""
   ]
  },
  {
   "cell_type": "code",
   "execution_count": null,
   "metadata": {},
   "outputs": [],
   "source": [
    "COMMAND=\"systemctl enable ntpd\""
   ]
  },
  {
   "cell_type": "code",
   "execution_count": null,
   "metadata": {},
   "outputs": [],
   "source": [
    "COMMAND=\"systemctl start ntpd\""
   ]
  },
  {
   "cell_type": "code",
   "execution_count": null,
   "metadata": {},
   "outputs": [],
   "source": [
    "COMMAND=\"uptime\""
   ]
  },
  {
   "cell_type": "code",
   "execution_count": null,
   "metadata": {},
   "outputs": [],
   "source": [
    "COMMAND=\"cat /usr/local/bin/cron-gridftp-transfer-mesh.sh\""
   ]
  },
  {
   "cell_type": "code",
   "execution_count": null,
   "metadata": {},
   "outputs": [],
   "source": [
    "COMMAND=\"cron-gridftp-transfer-mesh.sh\""
   ]
  },
  {
   "cell_type": "code",
   "execution_count": null,
   "metadata": {},
   "outputs": [],
   "source": [
    "COMMAND=\"fdisk -l | grep GB | sort\""
   ]
  },
  {
   "cell_type": "code",
   "execution_count": null,
   "metadata": {},
   "outputs": [],
   "source": [
    "COMMAND=\"ls -al /var/log/cron-gridftp-load.log\""
   ]
  },
  {
   "cell_type": "code",
   "execution_count": null,
   "metadata": {},
   "outputs": [],
   "source": [
    "COMMAND=\"ifconfig enp3s0 | grep txqueue\""
   ]
  },
  {
   "cell_type": "code",
   "execution_count": null,
   "metadata": {},
   "outputs": [],
   "source": [
    "COMMAND=\"ifconfig enp3s0\""
   ]
  },
  {
   "cell_type": "code",
   "execution_count": null,
   "metadata": {},
   "outputs": [],
   "source": [
    "COMMAND=\"ifconfig enp3s0 txqueuelen 10000\""
   ]
  },
  {
   "cell_type": "code",
   "execution_count": null,
   "metadata": {},
   "outputs": [],
   "source": [
    "COMMAND=\"yum -y install net-tools\""
   ]
  },
  {
   "cell_type": "code",
   "execution_count": null,
   "metadata": {},
   "outputs": [],
   "source": [
    "COMMAND=\"cat /proc/cpuinfo | grep model\""
   ]
  },
  {
   "cell_type": "code",
   "execution_count": null,
   "metadata": {},
   "outputs": [],
   "source": [
    "COMMAND=\"zpool destroy data\""
   ]
  },
  {
   "cell_type": "code",
   "execution_count": null,
   "metadata": {},
   "outputs": [],
   "source": [
    "COMMAND=\"zpool status\""
   ]
  },
  {
   "cell_type": "code",
   "execution_count": null,
   "metadata": {},
   "outputs": [],
   "source": [
    "COMMAND=\"modprobe zfs\""
   ]
  },
  {
   "cell_type": "code",
   "execution_count": 303,
   "metadata": {},
   "outputs": [],
   "source": [
    "COMMAND=\"ps -aef | grep bwctl\""
   ]
  },
  {
   "cell_type": "code",
   "execution_count": null,
   "metadata": {},
   "outputs": [],
   "source": [
    "COMMAND=\"cat /etc/ntp.conf | grep iburst\""
   ]
  },
  {
   "cell_type": "code",
   "execution_count": 77,
   "metadata": {},
   "outputs": [],
   "source": [
    "COMMAND=\"cat /usr/local/bin/cron-gridftp-transfer-mesh-grp-03.sh\""
   ]
  },
  {
   "cell_type": "code",
   "execution_count": 165,
   "metadata": {},
   "outputs": [],
   "source": [
    "COMMAND=\"ls /usr/local/bin/\""
   ]
  },
  {
   "cell_type": "code",
   "execution_count": 384,
   "metadata": {},
   "outputs": [],
   "source": [
    "COMMAND=\"cron-load-gridftp.sh\""
   ]
  },
  {
   "cell_type": "code",
   "execution_count": 29,
   "metadata": {},
   "outputs": [],
   "source": [
    "COMMAND=\"cron-load-gridftp-grp-01.sh\""
   ]
  },
  {
   "cell_type": "code",
   "execution_count": 29,
   "metadata": {},
   "outputs": [],
   "source": [
    "COMMAND=\"cron-load-gridftp-grp-02.sh\""
   ]
  },
  {
   "cell_type": "code",
   "execution_count": 29,
   "metadata": {},
   "outputs": [],
   "source": [
    "COMMAND=\"cron-load-gridftp-grp-03.sh\""
   ]
  },
  {
   "cell_type": "code",
   "execution_count": 29,
   "metadata": {},
   "outputs": [],
   "source": [
    "COMMAND=\"cron-load-gridftp-grp-04.sh\""
   ]
  },
  {
   "cell_type": "code",
   "execution_count": 193,
   "metadata": {},
   "outputs": [],
   "source": [
    "COMMAND=\"cron-gridftp-transfer-mesh-grp-01.sh\""
   ]
  },
  {
   "cell_type": "code",
   "execution_count": 200,
   "metadata": {},
   "outputs": [],
   "source": [
    "COMMAND=\"cron-gridftp-transfer-mesh-grp-02.sh\""
   ]
  },
  {
   "cell_type": "code",
   "execution_count": 193,
   "metadata": {},
   "outputs": [],
   "source": [
    "COMMAND=\"cron-gridftp-transfer-mesh-grp-03.sh\""
   ]
  },
  {
   "cell_type": "code",
   "execution_count": 193,
   "metadata": {},
   "outputs": [],
   "source": [
    "COMMAND=\"cron-gridftp-transfer-mesh-grp-04.sh\""
   ]
  },
  {
   "cell_type": "code",
   "execution_count": null,
   "metadata": {},
   "outputs": [],
   "source": []
  },
  {
   "cell_type": "code",
   "execution_count": null,
   "metadata": {},
   "outputs": [],
   "source": [
    "!rm -rf /root/.ssh/known_hosts"
   ]
  },
  {
   "cell_type": "code",
   "execution_count": 312,
   "metadata": {},
   "outputs": [],
   "source": [
    "COMMAND=\"firewall-cmd --list-all | grep ports | wc -w\""
   ]
  },
  {
   "cell_type": "code",
   "execution_count": 347,
   "metadata": {},
   "outputs": [],
   "source": [
    "COMMAND=\"firewall-cmd --list-all | grep ports\""
   ]
  },
  {
   "cell_type": "code",
   "execution_count": null,
   "metadata": {},
   "outputs": [],
   "source": [
    "firewall-cmd --permanent --zone=public --add-port=4823/tcp\n",
    "firewall-cmd --permanent --zone=public --add-port=5001-5900/tcp\n",
    "firewall-cmd --permanent --zone=public --add-port=5001-5900/udp\n",
    "firewall-cmd --permanent --zone=public --add-port=6001-6200/tcp\n",
    "firewall-cmd --permanent --zone=public --add-port=6001-6200/udp\n",
    "firewall-cmd --permanent --zone=public --add-port=5301-5600/udp \n",
    "firewall-cmd --permanent --zone=public --add-port=5301-5600/tcp \n",
    "firewall-cmd --permanent --zone=public --add-port=5601-5900/udp \n",
    "firewall-cmd --permanent --zone=public --add-port=5601-5900/tcp \n",
    "firewall-cmd --permanent --zone=public --add-port=8760-9960/udp \n",
    "firewall-cmd --permanent --zone=public --add-port=8760-9960/tcp \n",
    "firewall-cmd --permanent --zone=public --add-port=8888/tcp \n",
    "firewall-cmd --permanent --zone=public --add-port=2811/tcp \n",
    "firewall-cmd --permanent --zone=public --add-port=7512/tcp \n",
    "firewall-cmd --permanent --zone=public --add-port=50000-51000/tcp \n",
    "firewall-cmd --permanent --zone=public --add-port=50000-51000/udp \n",
    "firewall-cmd --permanent --zone=public --add-port=2223/tcp \n",
    "firewall-cmd --permanent --zone=public --add-port=5001-5900/tcp \n",
    "firewall-cmd --permanent --zone=public --add-port=5001-5900/udp\n",
    "firewall-cmd --reload\n"
   ]
  },
  {
   "cell_type": "raw",
   "metadata": {},
   "source": [
    "pip uninstall urllib3\n",
    "yum reinstall -y python-urllib3\n",
    "systemctl start pscheduler-*\n",
    "systemctl status pscheduler-* -l"
   ]
  },
  {
   "cell_type": "markdown",
   "metadata": {},
   "source": [
    "## mynions"
   ]
  },
  {
   "cell_type": "code",
   "execution_count": 385,
   "metadata": {},
   "outputs": [
    {
     "name": "stdout",
     "output_type": "stream",
     "text": [
      "ts=2018-03-03 23:37:00,190 event=main.start id=1520149020 found last record: {'code': '226', 'date': '20180304070523.758518', 'file': '/data/1G.dat', 'start': '20180304070001.972229', 'retrans': '0', 'nl_evnt': 'FTP_INFO', 'stripes': '1', 'volume': '/', 'dest': '[137.164.48.221]', 'host': 'gigiot-01.conf.cenic.org', 'buffer': '235104', 'user': 'anonymous', 'taskid': 'none', 'prog': 'globus-gridftp-server', 'streams': '1', 'type': 'RETR', 'block': '262144', 'nbytes': '1073741824'}\n",
      "ts=2018-03-03 23:37:00,194 event=main.process id=1520149020 File /var/log/gridftp-transfer.log passes last record check\n",
      "ts=2018-03-03 23:37:00,544 event=scan_and_load_netlogger.end id=1520149020 Loaded 5 records\n",
      "--2018-03-03 23:37:00--  http://fiona-10-01:8000/cron-gridftp-transfer-mesh.sh\n",
      "Resolving fiona-10-01 (fiona-10-01)... 137.164.48.196\n",
      "Connecting to fiona-10-01 (fiona-10-01)|137.164.48.196|:8000... connected.\n",
      "HTTP request sent, awaiting response... 200 OK\n",
      "Length: 3423 (3.3K) [application/x-sh]\n",
      "Saving to: ‘/usr/local/bin/cron-gridftp-transfer-mesh.sh’\n",
      "\n",
      "     0K ...                                                   100%  121M=0s\n",
      "\n",
      "2018-03-03 23:37:00 (121 MB/s) - ‘/usr/local/bin/cron-gridftp-transfer-mesh.sh’ saved [3423/3423]\n",
      "\n"
     ]
    }
   ],
   "source": [
    "!ssh -o \"StrictHostKeyChecking no\" 137.164.48.201 $COMMAND"
   ]
  },
  {
   "cell_type": "code",
   "execution_count": 386,
   "metadata": {},
   "outputs": [
    {
     "name": "stdout",
     "output_type": "stream",
     "text": [
      "ts=2018-03-03 23:37:01,342 event=main.start id=1520149021 found last record: {'code': '226', 'date': '20180304070743.078040', 'file': '/data/1G.dat', 'start': '20180304070633.012520', 'retrans': '1', 'nl_evnt': 'FTP_INFO', 'stripes': '1', 'volume': '/', 'dest': '[137.164.48.201]', 'host': 'gigiot-03.conf.cenic.org', 'buffer': '235104', 'user': 'anonymous', 'taskid': 'none', 'prog': 'globus-gridftp-server', 'streams': '1', 'type': 'RETR', 'block': '262144', 'nbytes': '1073741824'}\n",
      "ts=2018-03-03 23:37:01,352 event=main.process id=1520149021 File /var/log/gridftp-transfer.log passes last record check\n",
      "ts=2018-03-03 23:37:01,720 event=scan_and_load_netlogger.end id=1520149021 Loaded 5 records\n",
      "--2018-03-03 23:37:01--  http://fiona-10-01:8000/cron-gridftp-transfer-mesh.sh\n",
      "Resolving fiona-10-01 (fiona-10-01)... 137.164.48.196\n",
      "Connecting to fiona-10-01 (fiona-10-01)|137.164.48.196|:8000... connected.\n",
      "HTTP request sent, awaiting response... 200 OK\n",
      "Length: 3423 (3.3K) [application/x-sh]\n",
      "Saving to: ‘/usr/local/bin/cron-gridftp-transfer-mesh.sh’\n",
      "\n",
      "     0K ...                                                   100%  210M=0s\n",
      "\n",
      "2018-03-03 23:37:01 (210 MB/s) - ‘/usr/local/bin/cron-gridftp-transfer-mesh.sh’ saved [3423/3423]\n",
      "\n"
     ]
    }
   ],
   "source": [
    "!ssh -o \"StrictHostKeyChecking no\" 137.164.48.203 $COMMAND"
   ]
  },
  {
   "cell_type": "code",
   "execution_count": 387,
   "metadata": {},
   "outputs": [
    {
     "name": "stdout",
     "output_type": "stream",
     "text": [
      "ts=2018-03-03 23:37:02,506 event=main.start id=1520149022 found last record: {'code': '226', 'date': '20180304070851.599239', 'file': '/data/1G.dat', 'start': '20180304070743.477940', 'retrans': '0', 'nl_evnt': 'FTP_INFO', 'stripes': '1', 'volume': '/', 'dest': '[137.164.48.201]', 'host': 'gigiot-04.conf.cenic.org', 'buffer': '235104', 'user': 'anonymous', 'taskid': 'none', 'prog': 'globus-gridftp-server', 'streams': '1', 'type': 'RETR', 'block': '262144', 'nbytes': '1073741824'}\n",
      "ts=2018-03-03 23:37:02,515 event=main.process id=1520149022 File /var/log/gridftp-transfer.log passes last record check\n",
      "ts=2018-03-03 23:37:02,863 event=scan_and_load_netlogger.end id=1520149022 Loaded 5 records\n",
      "--2018-03-03 23:37:02--  http://fiona-10-01:8000/cron-gridftp-transfer-mesh.sh\n",
      "Resolving fiona-10-01 (fiona-10-01)... 137.164.48.196\n",
      "Connecting to fiona-10-01 (fiona-10-01)|137.164.48.196|:8000... connected.\n",
      "HTTP request sent, awaiting response... 200 OK\n",
      "Length: 3423 (3.3K) [application/x-sh]\n",
      "Saving to: ‘/usr/local/bin/cron-gridftp-transfer-mesh.sh’\n",
      "\n",
      "     0K ...                                                   100%  220M=0s\n",
      "\n",
      "2018-03-03 23:37:02 (220 MB/s) - ‘/usr/local/bin/cron-gridftp-transfer-mesh.sh’ saved [3423/3423]\n",
      "\n"
     ]
    }
   ],
   "source": [
    "!ssh -o \"StrictHostKeyChecking no\" 137.164.48.204 $COMMAND"
   ]
  },
  {
   "cell_type": "code",
   "execution_count": 388,
   "metadata": {},
   "outputs": [
    {
     "name": "stdout",
     "output_type": "stream",
     "text": [
      "ts=2018-03-03 23:37:03,537 event=main.start id=1520149023 found last record: {'code': '226', 'date': '20180304071021.502410', 'file': '/data/1G.dat', 'start': '20180304070851.860644', 'retrans': '0', 'nl_evnt': 'FTP_INFO', 'stripes': '1', 'volume': '/', 'dest': '[137.164.48.201]', 'host': 'gigiot-05.conf.cenic.org', 'buffer': '235104', 'user': 'anonymous', 'taskid': 'none', 'prog': 'globus-gridftp-server', 'streams': '1', 'type': 'RETR', 'block': '262144', 'nbytes': '1073741824'}\n",
      "ts=2018-03-03 23:37:03,545 event=main.process id=1520149023 File /var/log/gridftp-transfer.log passes last record check\n",
      "ts=2018-03-03 23:37:03,867 event=scan_and_load_netlogger.end id=1520149023 Loaded 5 records\n",
      "--2018-03-03 23:37:03--  http://fiona-10-01:8000/cron-gridftp-transfer-mesh.sh\n",
      "Resolving fiona-10-01 (fiona-10-01)... 137.164.48.196\n",
      "Connecting to fiona-10-01 (fiona-10-01)|137.164.48.196|:8000... connected.\n",
      "HTTP request sent, awaiting response... 200 OK\n",
      "Length: 3423 (3.3K) [application/x-sh]\n",
      "Saving to: ‘/usr/local/bin/cron-gridftp-transfer-mesh.sh’\n",
      "\n",
      "     0K ...                                                   100%  209M=0s\n",
      "\n",
      "2018-03-03 23:37:03 (209 MB/s) - ‘/usr/local/bin/cron-gridftp-transfer-mesh.sh’ saved [3423/3423]\n",
      "\n"
     ]
    }
   ],
   "source": [
    "!ssh -o \"StrictHostKeyChecking no\" 137.164.48.205 $COMMAND"
   ]
  },
  {
   "cell_type": "code",
   "execution_count": 389,
   "metadata": {},
   "outputs": [
    {
     "name": "stdout",
     "output_type": "stream",
     "text": [
      "ts=2018-03-03 23:37:04,541 event=main.start id=1520149024 found last record: {'code': '226', 'date': '20180304072023.546920', 'file': '/data/1G.dat', 'start': '20180304071929.615963', 'retrans': '1', 'nl_evnt': 'FTP_INFO', 'stripes': '1', 'volume': '/', 'dest': '[137.164.48.222]', 'host': 'gigiot-06.conf.cenic.org', 'buffer': '235104', 'user': 'anonymous', 'taskid': 'none', 'prog': 'globus-gridftp-server', 'streams': '1', 'type': 'RETR', 'block': '262144', 'nbytes': '1073741824'}\n",
      "ts=2018-03-03 23:37:04,544 event=main.process id=1520149024 File /var/log/gridftp-transfer.log passes last record check\n",
      "ts=2018-03-03 23:37:04,623 event=scan_and_load_netlogger.end id=1520149024 Loaded 1 records\n",
      "--2018-03-03 23:37:04--  http://fiona-10-01:8000/cron-gridftp-transfer-mesh.sh\n",
      "Resolving fiona-10-01 (fiona-10-01)... 137.164.48.196\n",
      "Connecting to fiona-10-01 (fiona-10-01)|137.164.48.196|:8000... connected.\n",
      "HTTP request sent, awaiting response... 200 OK\n",
      "Length: 3423 (3.3K) [application/x-sh]\n",
      "Saving to: ‘/usr/local/bin/cron-gridftp-transfer-mesh.sh’\n",
      "\n",
      "     0K ...                                                   100%  205M=0s\n",
      "\n",
      "2018-03-03 23:37:04 (205 MB/s) - ‘/usr/local/bin/cron-gridftp-transfer-mesh.sh’ saved [3423/3423]\n",
      "\n"
     ]
    }
   ],
   "source": [
    "!ssh -o \"StrictHostKeyChecking no\" 137.164.48.206 $COMMAND"
   ]
  },
  {
   "cell_type": "raw",
   "metadata": {},
   "source": [
    "firewall-cmd --permanent --zone=public --add-port=5001-5300/udp\n",
    "firewall-cmd --permanent --zone=public --add-port=5001-5300/tcp \n",
    "firewall-cmd --permanent --zone=public --add-port=4823/tcp\n",
    "firewall-cmd --permanent --zone=public --add-port=5001-5900/tcp\n",
    "firewall-cmd --permanent --zone=public --add-port=5001-5900/udp\n",
    "firewall-cmd --permanent --zone=public --add-port=6001-6200/tcp\n",
    "firewall-cmd --permanent --zone=public --add-port=6001-6200/udp\n",
    "firewall-cmd --permanent --zone=public --add-port=5301-5600/udp \n",
    "firewall-cmd --permanent --zone=public --add-port=5301-5600/tcp \n",
    "firewall-cmd --permanent --zone=public --add-port=5601-5900/udp \n",
    "firewall-cmd --permanent --zone=public --add-port=5601-5900/tcp \n",
    "firewall-cmd --permanent --zone=public --add-port=8760-9960/udp \n",
    "firewall-cmd --permanent --zone=public --add-port=8760-9960/tcp \n",
    "firewall-cmd --permanent --zone=public --add-port=8888/tcp \n",
    "firewall-cmd --permanent --zone=public --add-port=2811/tcp \n",
    "firewall-cmd --permanent --zone=public --add-port=7512/tcp \n",
    "firewall-cmd --permanent --zone=public --add-port=50000-51000/tcp \n",
    "firewall-cmd --permanent --zone=public --add-port=50000-51000/udp \n",
    "firewall-cmd --permanent --zone=public --add-port=2223/tcp \n",
    "firewall-cmd --permanent --zone=public --add-port=5001-5900/tcp \n",
    "firewall-cmd --permanent --zone=public --add-port=5001-5900/udp\n",
    "firewall-cmd --reload"
   ]
  },
  {
   "cell_type": "code",
   "execution_count": 390,
   "metadata": {},
   "outputs": [
    {
     "name": "stdout",
     "output_type": "stream",
     "text": [
      "ts=2018-03-03 23:37:05,284 event=main.start id=1520149025 found last record: {'code': '226', 'date': '20180304071253.139506', 'file': '/data/1G.dat', 'start': '20180304071134.528893', 'retrans': '0', 'nl_evnt': 'FTP_INFO', 'stripes': '1', 'volume': '/', 'dest': '[137.164.48.201]', 'host': 'gigiot-07.conf.cenic.org', 'buffer': '235104', 'user': 'anonymous', 'taskid': 'none', 'prog': 'globus-gridftp-server', 'streams': '1', 'type': 'RETR', 'block': '262144', 'nbytes': '1073741824'}\n",
      "ts=2018-03-03 23:37:05,292 event=main.process id=1520149025 File /var/log/gridftp-transfer.log passes last record check\n",
      "ts=2018-03-03 23:37:05,561 event=scan_and_load_netlogger.end id=1520149025 Loaded 4 records\n",
      "--2018-03-03 23:37:05--  http://fiona-10-01:8000/cron-gridftp-transfer-mesh.sh\n",
      "Resolving fiona-10-01 (fiona-10-01)... 137.164.48.196\n",
      "Connecting to fiona-10-01 (fiona-10-01)|137.164.48.196|:8000... connected.\n",
      "HTTP request sent, awaiting response... 200 OK\n",
      "Length: 3423 (3.3K) [application/x-sh]\n",
      "Saving to: ‘/usr/local/bin/cron-gridftp-transfer-mesh.sh’\n",
      "\n",
      "     0K ...                                                   100%  229M=0s\n",
      "\n",
      "2018-03-03 23:37:05 (229 MB/s) - ‘/usr/local/bin/cron-gridftp-transfer-mesh.sh’ saved [3423/3423]\n",
      "\n"
     ]
    }
   ],
   "source": [
    "!ssh -o \"StrictHostKeyChecking no\" 137.164.48.207 $COMMAND"
   ]
  },
  {
   "cell_type": "code",
   "execution_count": 391,
   "metadata": {},
   "outputs": [
    {
     "name": "stdout",
     "output_type": "stream",
     "text": [
      "ts=2018-03-03 23:37:06,292 event=main.start id=1520149026 found last record: {'code': '226', 'date': '20180304071520.350867', 'file': '/data/1G.dat', 'start': '20180304071501.578185', 'retrans': '0', 'nl_evnt': 'FTP_INFO', 'stripes': '1', 'volume': '/', 'dest': '[137.164.48.210]', 'host': 'gigiot-08.conf.cenic.org', 'buffer': '235104', 'user': 'anonymous', 'taskid': 'none', 'prog': 'globus-gridftp-server', 'streams': '1', 'type': 'RETR', 'block': '262144', 'nbytes': '1073741824'}\n",
      "ts=2018-03-03 23:37:06,300 event=main.process id=1520149026 File /var/log/gridftp-transfer.log passes last record check\n",
      "ts=2018-03-03 23:37:06,641 event=scan_and_load_netlogger.end id=1520149026 Loaded 4 records\n",
      "--2018-03-03 23:37:06--  http://fiona-10-01:8000/cron-gridftp-transfer-mesh.sh\n",
      "Resolving fiona-10-01 (fiona-10-01)... 137.164.48.196\n",
      "Connecting to fiona-10-01 (fiona-10-01)|137.164.48.196|:8000... connected.\n",
      "HTTP request sent, awaiting response... 200 OK\n",
      "Length: 3423 (3.3K) [application/x-sh]\n",
      "Saving to: ‘/usr/local/bin/cron-gridftp-transfer-mesh.sh’\n",
      "\n",
      "     0K ...                                                   100%  214M=0s\n",
      "\n",
      "2018-03-03 23:37:06 (214 MB/s) - ‘/usr/local/bin/cron-gridftp-transfer-mesh.sh’ saved [3423/3423]\n",
      "\n"
     ]
    }
   ],
   "source": [
    "!ssh -o \"StrictHostKeyChecking no\" 137.164.48.208 $COMMAND"
   ]
  },
  {
   "cell_type": "code",
   "execution_count": 392,
   "metadata": {},
   "outputs": [
    {
     "name": "stdout",
     "output_type": "stream",
     "text": [
      "ts=2018-03-03 23:37:07,410 event=main.start id=1520149027 found last record: {'code': '226', 'date': '20180304071551.032126', 'file': '/data/1G.dat', 'start': '20180304071520.762403', 'retrans': '0', 'nl_evnt': 'FTP_INFO', 'stripes': '1', 'volume': '/', 'dest': '[137.164.48.210]', 'host': 'gigiot-09.conf.cenic.org', 'buffer': '235104', 'user': 'anonymous', 'taskid': 'none', 'prog': 'globus-gridftp-server', 'streams': '1', 'type': 'RETR', 'block': '262144', 'nbytes': '1073741824'}\n",
      "ts=2018-03-03 23:37:07,419 event=main.process id=1520149027 File /var/log/gridftp-transfer.log passes last record check\n",
      "ts=2018-03-03 23:37:07,726 event=scan_and_load_netlogger.end id=1520149027 Loaded 4 records\n",
      "--2018-03-03 23:37:07--  http://fiona-10-01:8000/cron-gridftp-transfer-mesh.sh\n",
      "Resolving fiona-10-01 (fiona-10-01)... 137.164.48.196\n",
      "Connecting to fiona-10-01 (fiona-10-01)|137.164.48.196|:8000... connected.\n",
      "HTTP request sent, awaiting response... 200 OK\n",
      "Length: 3423 (3.3K) [application/x-sh]\n",
      "Saving to: ‘/usr/local/bin/cron-gridftp-transfer-mesh.sh’\n",
      "\n",
      "     0K ...                                                   100%  199M=0s\n",
      "\n",
      "2018-03-03 23:37:07 (199 MB/s) - ‘/usr/local/bin/cron-gridftp-transfer-mesh.sh’ saved [3423/3423]\n",
      "\n"
     ]
    }
   ],
   "source": [
    "!ssh -o \"StrictHostKeyChecking no\" 137.164.48.209 $COMMAND"
   ]
  },
  {
   "cell_type": "code",
   "execution_count": 393,
   "metadata": {},
   "outputs": [
    {
     "name": "stdout",
     "output_type": "stream",
     "text": [
      "ts=2018-03-03 23:37:08,393 event=main.start id=1520149028 found last record: {'code': '226', 'date': '20180304071647.018263', 'file': '/data/1G.dat', 'start': '20180304071551.354474', 'retrans': '1', 'nl_evnt': 'FTP_INFO', 'stripes': '1', 'volume': '/', 'dest': '[137.164.48.210]', 'host': 'gigiot-10.conf.cenic.org', 'buffer': '1061296', 'user': 'anonymous', 'taskid': 'none', 'prog': 'globus-gridftp-server', 'streams': '1', 'type': 'RETR', 'block': '262144', 'nbytes': '1073741824'}\n",
      "ts=2018-03-03 23:37:08,400 event=main.process id=1520149028 File /var/log/gridftp-transfer.log passes last record check\n",
      "ts=2018-03-03 23:37:08,685 event=scan_and_load_netlogger.end id=1520149028 Loaded 4 records\n",
      "--2018-03-03 23:37:08--  http://fiona-10-01:8000/cron-gridftp-transfer-mesh.sh\n",
      "Resolving fiona-10-01 (fiona-10-01)... 137.164.48.196\n",
      "Connecting to fiona-10-01 (fiona-10-01)|137.164.48.196|:8000... connected.\n",
      "HTTP request sent, awaiting response... 200 OK\n",
      "Length: 3423 (3.3K) [application/x-sh]\n",
      "Saving to: ‘/usr/local/bin/cron-gridftp-transfer-mesh.sh’\n",
      "\n",
      "     0K ...                                                   100%  227M=0s\n",
      "\n",
      "2018-03-03 23:37:08 (227 MB/s) - ‘/usr/local/bin/cron-gridftp-transfer-mesh.sh’ saved [3423/3423]\n",
      "\n"
     ]
    }
   ],
   "source": [
    "!ssh -o \"StrictHostKeyChecking no\" 137.164.48.210 $COMMAND"
   ]
  },
  {
   "cell_type": "code",
   "execution_count": 394,
   "metadata": {},
   "outputs": [
    {
     "name": "stdout",
     "output_type": "stream",
     "text": [
      "ts=2018-03-03 23:37:09,482 event=main.start id=1520149029 found last record: {'code': '226', 'date': '20180304071714.467203', 'file': '/data/1G.dat', 'start': '20180304071647.184434', 'retrans': '0', 'nl_evnt': 'FTP_INFO', 'stripes': '1', 'volume': '/', 'dest': '[137.164.48.210]', 'host': 'gigiot-11.conf.cenic.org', 'buffer': '367360', 'user': 'anonymous', 'taskid': 'none', 'prog': 'globus-gridftp-server', 'streams': '1', 'type': 'RETR', 'block': '262144', 'nbytes': '1073741824'}\n",
      "ts=2018-03-03 23:37:09,493 event=main.process id=1520149029 File /var/log/gridftp-transfer.log passes last record check\n",
      "ts=2018-03-03 23:37:09,857 event=scan_and_load_netlogger.end id=1520149029 Loaded 4 records\n",
      "--2018-03-03 23:37:09--  http://fiona-10-01:8000/cron-gridftp-transfer-mesh.sh\n",
      "Resolving fiona-10-01 (fiona-10-01)... 137.164.48.196\n",
      "Connecting to fiona-10-01 (fiona-10-01)|137.164.48.196|:8000... connected.\n",
      "HTTP request sent, awaiting response... 200 OK\n",
      "Length: 3423 (3.3K) [application/x-sh]\n",
      "Saving to: ‘/usr/local/bin/cron-gridftp-transfer-mesh.sh’\n",
      "\n",
      "     0K ...                                                   100%  177M=0s\n",
      "\n",
      "2018-03-03 23:37:09 (177 MB/s) - ‘/usr/local/bin/cron-gridftp-transfer-mesh.sh’ saved [3423/3423]\n",
      "\n"
     ]
    }
   ],
   "source": [
    "!ssh -o \"StrictHostKeyChecking no\" 137.164.48.211 $COMMAND"
   ]
  },
  {
   "cell_type": "code",
   "execution_count": 395,
   "metadata": {},
   "outputs": [
    {
     "name": "stdout",
     "output_type": "stream",
     "text": [
      "ts=2018-03-03 23:37:10,587 event=main.start id=1520149030 found last record: {'code': '226', 'date': '20180304071752.675832', 'file': '/data/1G.dat', 'start': '20180304071715.619232', 'retrans': '0', 'nl_evnt': 'FTP_INFO', 'stripes': '1', 'volume': '/', 'dest': '[137.164.48.210]', 'host': 'gigiot-12.conf.cenic.org', 'buffer': '235104', 'user': 'anonymous', 'taskid': 'none', 'prog': 'globus-gridftp-server', 'streams': '1', 'type': 'RETR', 'block': '262144', 'nbytes': '1073741824'}\n",
      "ts=2018-03-03 23:37:10,595 event=main.process id=1520149030 File /var/log/gridftp-transfer.log passes last record check\n",
      "ts=2018-03-03 23:37:10,938 event=scan_and_load_netlogger.end id=1520149030 Loaded 4 records\n",
      "--2018-03-03 23:37:10--  http://fiona-10-01:8000/cron-gridftp-transfer-mesh.sh\n",
      "Resolving fiona-10-01 (fiona-10-01)... 137.164.48.196\n",
      "Connecting to fiona-10-01 (fiona-10-01)|137.164.48.196|:8000... connected.\n",
      "HTTP request sent, awaiting response... 200 OK\n",
      "Length: 3423 (3.3K) [application/x-sh]\n",
      "Saving to: ‘/usr/local/bin/cron-gridftp-transfer-mesh.sh’\n",
      "\n",
      "     0K ...                                                   100%  213M=0s\n",
      "\n",
      "2018-03-03 23:37:10 (213 MB/s) - ‘/usr/local/bin/cron-gridftp-transfer-mesh.sh’ saved [3423/3423]\n",
      "\n"
     ]
    }
   ],
   "source": [
    "!ssh -o \"StrictHostKeyChecking no\" 137.164.48.212 $COMMAND"
   ]
  },
  {
   "cell_type": "code",
   "execution_count": 396,
   "metadata": {},
   "outputs": [
    {
     "name": "stdout",
     "output_type": "stream",
     "text": [
      "ts=2018-03-03 23:37:11,611 event=main.start id=1520149031 found last record: {'code': '226', 'date': '20180304071822.324134', 'file': '/data/1G.dat', 'start': '20180304071752.958646', 'retrans': '0', 'nl_evnt': 'FTP_INFO', 'stripes': '1', 'volume': '/', 'dest': '[137.164.48.210]', 'host': 'gigiot-13.conf.cenic.org', 'buffer': '235104', 'user': 'anonymous', 'taskid': 'none', 'prog': 'globus-gridftp-server', 'streams': '1', 'type': 'RETR', 'block': '262144', 'nbytes': '1073741824'}\n",
      "ts=2018-03-03 23:37:11,619 event=main.process id=1520149031 File /var/log/gridftp-transfer.log passes last record check\n",
      "ts=2018-03-03 23:37:11,899 event=scan_and_load_netlogger.end id=1520149031 Loaded 4 records\n",
      "--2018-03-03 23:37:11--  http://fiona-10-01:8000/cron-gridftp-transfer-mesh.sh\n",
      "Resolving fiona-10-01 (fiona-10-01)... 137.164.48.196\n",
      "Connecting to fiona-10-01 (fiona-10-01)|137.164.48.196|:8000... connected.\n",
      "HTTP request sent, awaiting response... 200 OK\n",
      "Length: 3423 (3.3K) [application/x-sh]\n",
      "Saving to: ‘/usr/local/bin/cron-gridftp-transfer-mesh.sh’\n",
      "\n",
      "     0K ...                                                   100% 23.4M=0s\n",
      "\n",
      "2018-03-03 23:37:11 (23.4 MB/s) - ‘/usr/local/bin/cron-gridftp-transfer-mesh.sh’ saved [3423/3423]\n",
      "\n"
     ]
    }
   ],
   "source": [
    "!ssh -o \"StrictHostKeyChecking no\" 137.164.48.213 $COMMAND"
   ]
  },
  {
   "cell_type": "code",
   "execution_count": 397,
   "metadata": {},
   "outputs": [
    {
     "name": "stdout",
     "output_type": "stream",
     "text": [
      "ts=2018-03-03 23:37:12,625 event=main.start id=1520149032 found last record: {'code': '226', 'date': '20180304071856.327757', 'file': '/data/1G.dat', 'start': '20180304071822.698854', 'retrans': '0', 'nl_evnt': 'FTP_INFO', 'stripes': '1', 'volume': '/', 'dest': '[137.164.48.210]', 'host': 'gigiot-14.conf.cenic.org', 'buffer': '235104', 'user': 'anonymous', 'taskid': 'none', 'prog': 'globus-gridftp-server', 'streams': '1', 'type': 'RETR', 'block': '262144', 'nbytes': '1073741824'}\n",
      "ts=2018-03-03 23:37:12,632 event=main.process id=1520149032 File /var/log/gridftp-transfer.log passes last record check\n",
      "ts=2018-03-03 23:37:12,971 event=scan_and_load_netlogger.end id=1520149032 Loaded 4 records\n",
      "--2018-03-03 23:37:13--  http://fiona-10-01:8000/cron-gridftp-transfer-mesh.sh\n",
      "Resolving fiona-10-01 (fiona-10-01)... 137.164.48.196\n",
      "Connecting to fiona-10-01 (fiona-10-01)|137.164.48.196|:8000... connected.\n",
      "HTTP request sent, awaiting response... 200 OK\n",
      "Length: 3423 (3.3K) [application/x-sh]\n",
      "Saving to: ‘/usr/local/bin/cron-gridftp-transfer-mesh.sh’\n",
      "\n",
      "     0K ...                                                   100%  250M=0s\n",
      "\n",
      "2018-03-03 23:37:13 (250 MB/s) - ‘/usr/local/bin/cron-gridftp-transfer-mesh.sh’ saved [3423/3423]\n",
      "\n"
     ]
    }
   ],
   "source": [
    "!ssh -o \"StrictHostKeyChecking no\" 137.164.48.214 $COMMAND"
   ]
  },
  {
   "cell_type": "code",
   "execution_count": 398,
   "metadata": {},
   "outputs": [
    {
     "name": "stdout",
     "output_type": "stream",
     "text": [
      "ts=2018-03-03 23:37:13,709 event=main.start id=1520149033 found last record: {'code': '226', 'date': '20180304071412.949767', 'file': '/data/1G.dat', 'start': '20180304071340.415553', 'retrans': '0', 'nl_evnt': 'FTP_INFO', 'stripes': '1', 'volume': '/', 'dest': '[137.164.48.217]', 'host': 'gigiot-15.conf.cenic.org', 'buffer': '235104', 'user': 'anonymous', 'taskid': 'none', 'prog': 'globus-gridftp-server', 'streams': '1', 'type': 'RETR', 'block': '262144', 'nbytes': '1073741824'}\n",
      "ts=2018-03-03 23:37:13,716 event=main.process id=1520149033 File /var/log/gridftp-transfer.log passes last record check\n",
      "ts=2018-03-03 23:37:14,095 event=scan_and_load_netlogger.end id=1520149034 Loaded 5 records\n",
      "--2018-03-03 23:37:14--  http://fiona-10-01:8000/cron-gridftp-transfer-mesh.sh\n",
      "Resolving fiona-10-01 (fiona-10-01)... 137.164.48.196\n",
      "Connecting to fiona-10-01 (fiona-10-01)|137.164.48.196|:8000... connected.\n",
      "HTTP request sent, awaiting response... 200 OK\n",
      "Length: 3423 (3.3K) [application/x-sh]\n",
      "Saving to: ‘/usr/local/bin/cron-gridftp-transfer-mesh.sh’\n",
      "\n",
      "     0K ...                                                   100%  207M=0s\n",
      "\n",
      "2018-03-03 23:37:14 (207 MB/s) - ‘/usr/local/bin/cron-gridftp-transfer-mesh.sh’ saved [3423/3423]\n",
      "\n"
     ]
    }
   ],
   "source": [
    "!ssh -o \"StrictHostKeyChecking no\" 137.164.48.215 $COMMAND"
   ]
  },
  {
   "cell_type": "code",
   "execution_count": 399,
   "metadata": {},
   "outputs": [
    {
     "name": "stdout",
     "output_type": "stream",
     "text": [
      "ts=2018-03-03 23:37:14,788 event=main.start id=1520149034 found last record: {'code': '226', 'date': '20180304072457.717013', 'file': '/data/1G.dat', 'start': '20180304072431.517594', 'retrans': '0', 'nl_evnt': 'FTP_INFO', 'stripes': '1', 'volume': '/', 'dest': '[137.164.48.218]', 'host': 'gigiot-16.conf.cenic.org', 'buffer': '235104', 'user': 'anonymous', 'taskid': 'none', 'prog': 'globus-gridftp-server', 'streams': '1', 'type': 'RETR', 'block': '262144', 'nbytes': '1073741824'}\n",
      "ts=2018-03-03 23:37:14,795 event=main.process id=1520149034 File /var/log/gridftp-transfer.log passes last record check\n",
      "ts=2018-03-03 23:37:15,152 event=scan_and_load_netlogger.end id=1520149035 Loaded 4 records\n",
      "--2018-03-03 23:37:15--  http://fiona-10-01:8000/cron-gridftp-transfer-mesh.sh\n",
      "Resolving fiona-10-01 (fiona-10-01)... 137.164.48.196\n",
      "Connecting to fiona-10-01 (fiona-10-01)|137.164.48.196|:8000... connected.\n",
      "HTTP request sent, awaiting response... 200 OK\n",
      "Length: 3423 (3.3K) [application/x-sh]\n",
      "Saving to: ‘/usr/local/bin/cron-gridftp-transfer-mesh.sh’\n",
      "\n",
      "     0K ...                                                   100%  226M=0s\n",
      "\n",
      "2018-03-03 23:37:15 (226 MB/s) - ‘/usr/local/bin/cron-gridftp-transfer-mesh.sh’ saved [3423/3423]\n",
      "\n"
     ]
    }
   ],
   "source": [
    "!ssh -o \"StrictHostKeyChecking no\" 137.164.48.216 $COMMAND"
   ]
  },
  {
   "cell_type": "code",
   "execution_count": 400,
   "metadata": {},
   "outputs": [
    {
     "name": "stdout",
     "output_type": "stream",
     "text": [
      "ts=2018-03-03 23:37:15,852 event=main.start id=1520149035 found last record: {'code': '226', 'date': '20180304072532.356800', 'file': '/data/1G.dat', 'start': '20180304072458.260970', 'retrans': '0', 'nl_evnt': 'FTP_INFO', 'stripes': '1', 'volume': '/', 'dest': '[137.164.48.218]', 'host': 'gigiot-17.conf.cenic.org', 'buffer': '367360', 'user': 'anonymous', 'taskid': 'none', 'prog': 'globus-gridftp-server', 'streams': '1', 'type': 'RETR', 'block': '262144', 'nbytes': '1073741824'}\n",
      "ts=2018-03-03 23:37:15,859 event=main.process id=1520149035 File /var/log/gridftp-transfer.log passes last record check\n",
      "ts=2018-03-03 23:37:16,148 event=scan_and_load_netlogger.end id=1520149036 Loaded 4 records\n",
      "--2018-03-03 23:37:16--  http://fiona-10-01:8000/cron-gridftp-transfer-mesh.sh\n",
      "Resolving fiona-10-01 (fiona-10-01)... 137.164.48.196\n",
      "Connecting to fiona-10-01 (fiona-10-01)|137.164.48.196|:8000... connected.\n",
      "HTTP request sent, awaiting response... 200 OK\n",
      "Length: 3423 (3.3K) [application/x-sh]\n",
      "Saving to: ‘/usr/local/bin/cron-gridftp-transfer-mesh.sh’\n",
      "\n",
      "     0K ...                                                   100%  228M=0s\n",
      "\n",
      "2018-03-03 23:37:16 (228 MB/s) - ‘/usr/local/bin/cron-gridftp-transfer-mesh.sh’ saved [3423/3423]\n",
      "\n"
     ]
    }
   ],
   "source": [
    "!ssh -o \"StrictHostKeyChecking no\" 137.164.48.217 $COMMAND"
   ]
  },
  {
   "cell_type": "code",
   "execution_count": 401,
   "metadata": {},
   "outputs": [
    {
     "name": "stdout",
     "output_type": "stream",
     "text": [
      "ts=2018-03-03 23:37:16,794 event=main.start id=1520149036 found last record: {'code': '226', 'date': '20180304071653.089073', 'file': '/data/1G.dat', 'start': '20180304071606.814577', 'retrans': '0', 'nl_evnt': 'FTP_INFO', 'stripes': '1', 'volume': '/', 'dest': '[137.164.48.221]', 'host': 'gigiot-18.conf.cenic.org', 'buffer': '367360', 'user': 'anonymous', 'taskid': 'none', 'prog': 'globus-gridftp-server', 'streams': '1', 'type': 'RETR', 'block': '262144', 'nbytes': '1073741824'}\n",
      "ts=2018-03-03 23:37:16,801 event=main.process id=1520149036 File /var/log/gridftp-transfer.log passes last record check\n",
      "ts=2018-03-03 23:37:17,001 event=scan_and_load_netlogger.end id=1520149037 Loaded 3 records\n",
      "--2018-03-03 23:37:17--  http://fiona-10-01:8000/cron-gridftp-transfer-mesh.sh\n",
      "Resolving fiona-10-01 (fiona-10-01)... 137.164.48.196\n",
      "Connecting to fiona-10-01 (fiona-10-01)|137.164.48.196|:8000... connected.\n",
      "HTTP request sent, awaiting response... 200 OK\n",
      "Length: 3423 (3.3K) [application/x-sh]\n",
      "Saving to: ‘/usr/local/bin/cron-gridftp-transfer-mesh.sh’\n",
      "\n",
      "     0K ...                                                   100%  241M=0s\n",
      "\n",
      "2018-03-03 23:37:17 (241 MB/s) - ‘/usr/local/bin/cron-gridftp-transfer-mesh.sh’ saved [3423/3423]\n",
      "\n"
     ]
    }
   ],
   "source": [
    "!ssh -o \"StrictHostKeyChecking no\" 137.164.48.218 $COMMAND"
   ]
  },
  {
   "cell_type": "code",
   "execution_count": 402,
   "metadata": {},
   "outputs": [
    {
     "name": "stdout",
     "output_type": "stream",
     "text": [
      "ts=2018-03-03 23:37:17,760 event=main.start id=1520149037 found last record: {'code': '226', 'date': '20180304072602.689932', 'file': '/data/1G.dat', 'start': '20180304072532.936135', 'retrans': '0', 'nl_evnt': 'FTP_INFO', 'stripes': '1', 'volume': '/', 'dest': '[137.164.48.218]', 'host': 'gigiot-19.conf.cenic.org', 'buffer': '235104', 'user': 'anonymous', 'taskid': 'none', 'prog': 'globus-gridftp-server', 'streams': '1', 'type': 'RETR', 'block': '262144', 'nbytes': '1073741824'}\n",
      "ts=2018-03-03 23:37:17,767 event=main.process id=1520149037 File /var/log/gridftp-transfer.log passes last record check\n",
      "ts=2018-03-03 23:37:18,011 event=scan_and_load_netlogger.end id=1520149038 Loaded 3 records\n",
      "--2018-03-03 23:37:18--  http://fiona-10-01:8000/cron-gridftp-transfer-mesh.sh\n",
      "Resolving fiona-10-01 (fiona-10-01)... 137.164.48.196\n",
      "Connecting to fiona-10-01 (fiona-10-01)|137.164.48.196|:8000... connected.\n",
      "HTTP request sent, awaiting response... 200 OK\n",
      "Length: 3423 (3.3K) [application/x-sh]\n",
      "Saving to: ‘/usr/local/bin/cron-gridftp-transfer-mesh.sh’\n",
      "\n",
      "     0K ...                                                   100%  114M=0s\n",
      "\n",
      "2018-03-03 23:37:18 (114 MB/s) - ‘/usr/local/bin/cron-gridftp-transfer-mesh.sh’ saved [3423/3423]\n",
      "\n"
     ]
    }
   ],
   "source": [
    "!ssh -o \"StrictHostKeyChecking no\" 137.164.48.219 $COMMAND"
   ]
  },
  {
   "cell_type": "code",
   "execution_count": 403,
   "metadata": {},
   "outputs": [
    {
     "name": "stdout",
     "output_type": "stream",
     "text": [
      "Traceback (most recent call last):\n",
      "  File \"/usr/bin/esmond-ps-load-gridftp\", line 25, in <module>\n",
      "    from esmond_client.perfsonar.post import (\n",
      "  File \"/usr/lib/python2.7/site-packages/esmond_client/perfsonar/post.py\", line 5, in <module>\n",
      "    import requests\n",
      "  File \"/usr/lib/python2.7/site-packages/requests/__init__.py\", line 43, in <module>\n",
      "    import urllib3\n",
      "ImportError: No module named urllib3\n",
      "--2018-03-03 23:37:18--  http://fiona-10-01:8000/cron-gridftp-transfer-mesh.sh\n",
      "Resolving fiona-10-01 (fiona-10-01)... 137.164.48.196\n",
      "Connecting to fiona-10-01 (fiona-10-01)|137.164.48.196|:8000... connected.\n",
      "HTTP request sent, awaiting response... 200 OK\n",
      "Length: 3423 (3.3K) [application/x-sh]\n",
      "Saving to: ‘/usr/local/bin/cron-gridftp-transfer-mesh.sh’\n",
      "\n",
      "     0K ...                                                   100%  245M=0s\n",
      "\n",
      "2018-03-03 23:37:18 (245 MB/s) - ‘/usr/local/bin/cron-gridftp-transfer-mesh.sh’ saved [3423/3423]\n",
      "\n"
     ]
    }
   ],
   "source": [
    "!ssh -o \"StrictHostKeyChecking no\" 137.164.48.220 $COMMAND"
   ]
  },
  {
   "cell_type": "code",
   "execution_count": 404,
   "metadata": {},
   "outputs": [
    {
     "name": "stdout",
     "output_type": "stream",
     "text": [
      "ts=2018-03-03 23:37:19,168 event=main.start id=1520149039 found last record: {'code': '226', 'date': '20180304072710.952210', 'file': '/data/1G.dat', 'start': '20180304072634.570477', 'retrans': '0', 'nl_evnt': 'FTP_INFO', 'stripes': '1', 'volume': '/', 'dest': '[137.164.48.218]', 'host': 'gigiot-21.conf.cenic.org', 'buffer': '367360', 'user': 'anonymous', 'taskid': 'none', 'prog': 'globus-gridftp-server', 'streams': '1', 'type': 'RETR', 'block': '262144', 'nbytes': '1073741824'}\n",
      "ts=2018-03-03 23:37:19,175 event=main.process id=1520149039 File /var/log/gridftp-transfer.log passes last record check\n",
      "ts=2018-03-03 23:37:19,375 event=scan_and_load_netlogger.end id=1520149039 Loaded 3 records\n",
      "--2018-03-03 23:37:19--  http://fiona-10-01:8000/cron-gridftp-transfer-mesh.sh\n",
      "Resolving fiona-10-01 (fiona-10-01)... 137.164.48.196\n",
      "Connecting to fiona-10-01 (fiona-10-01)|137.164.48.196|:8000... connected.\n",
      "HTTP request sent, awaiting response... 200 OK\n",
      "Length: 3423 (3.3K) [application/x-sh]\n",
      "Saving to: ‘/usr/local/bin/cron-gridftp-transfer-mesh.sh’\n",
      "\n",
      "     0K ...                                                   100% 72.5M=0s\n",
      "\n",
      "2018-03-03 23:37:19 (72.5 MB/s) - ‘/usr/local/bin/cron-gridftp-transfer-mesh.sh’ saved [3423/3423]\n",
      "\n"
     ]
    }
   ],
   "source": [
    "!ssh -o \"StrictHostKeyChecking no\" 137.164.48.221 $COMMAND"
   ]
  },
  {
   "cell_type": "code",
   "execution_count": 405,
   "metadata": {},
   "outputs": [
    {
     "name": "stdout",
     "output_type": "stream",
     "text": [
      "ts=2018-03-03 23:37:20,215 event=main.start id=1520149040 found last record: {'code': '226', 'date': '20180304071916.834642', 'file': '/data/1G.dat', 'start': '20180304071831.403478', 'retrans': '0', 'nl_evnt': 'FTP_INFO', 'stripes': '1', 'volume': '/', 'dest': '[137.164.48.217]', 'host': 'gigiot-22.conf.cenic.org', 'buffer': '235104', 'user': 'anonymous', 'taskid': 'none', 'prog': 'globus-gridftp-server', 'streams': '1', 'type': 'RETR', 'block': '262144', 'nbytes': '1073741824'}\n",
      "ts=2018-03-03 23:37:20,222 event=main.process id=1520149040 File /var/log/gridftp-transfer.log passes last record check\n",
      "ts=2018-03-03 23:37:20,311 event=scan_and_load_netlogger.end id=1520149040 Loaded 1 records\n",
      "--2018-03-03 23:37:20--  http://fiona-10-01:8000/cron-gridftp-transfer-mesh.sh\n",
      "Resolving fiona-10-01 (fiona-10-01)... 137.164.48.196\n",
      "Connecting to fiona-10-01 (fiona-10-01)|137.164.48.196|:8000... connected.\n",
      "HTTP request sent, awaiting response... 200 OK\n",
      "Length: 3423 (3.3K) [application/x-sh]\n",
      "Saving to: ‘/usr/local/bin/cron-gridftp-transfer-mesh.sh’\n",
      "\n",
      "     0K ...                                                   100%  156M=0s\n",
      "\n",
      "2018-03-03 23:37:20 (156 MB/s) - ‘/usr/local/bin/cron-gridftp-transfer-mesh.sh’ saved [3423/3423]\n",
      "\n"
     ]
    }
   ],
   "source": [
    "!ssh -o \"StrictHostKeyChecking no\" 137.164.48.222 $COMMAND"
   ]
  },
  {
   "cell_type": "code",
   "execution_count": 406,
   "metadata": {},
   "outputs": [
    {
     "name": "stdout",
     "output_type": "stream",
     "text": [
      "ts=2018-03-03 23:37:20,975 event=main.start id=1520149040 no last record found\n",
      "ts=2018-03-03 23:37:20,975 event=main.process id=1520149040 No last record, processing /var/log/gridftp-transfer.log\n",
      "ts=2018-03-03 23:37:20,975 event=scan_and_load_netlogger.end id=1520149040 Loaded 0 records\n",
      "--2018-03-03 23:37:21--  http://fiona-10-01:8000/cron-gridftp-transfer-mesh.sh\n",
      "Resolving fiona-10-01 (fiona-10-01)... 137.164.48.196\n",
      "Connecting to fiona-10-01 (fiona-10-01)|137.164.48.196|:8000... connected.\n",
      "HTTP request sent, awaiting response... 200 OK\n",
      "Length: 3423 (3.3K) [application/x-sh]\n",
      "Saving to: ‘/usr/local/bin/cron-gridftp-transfer-mesh.sh’\n",
      "\n",
      "     0K ...                                                   100%  232M=0s\n",
      "\n",
      "2018-03-03 23:37:21 (232 MB/s) - ‘/usr/local/bin/cron-gridftp-transfer-mesh.sh’ saved [3423/3423]\n",
      "\n"
     ]
    }
   ],
   "source": [
    "!ssh -o \"StrictHostKeyChecking no\" 137.164.48.223 $COMMAND"
   ]
  },
  {
   "cell_type": "code",
   "execution_count": 407,
   "metadata": {},
   "outputs": [
    {
     "name": "stdout",
     "output_type": "stream",
     "text": [
      "ts=2018-03-03 23:37:21,822 event=main.start id=1520149041 found last record: {'code': '226', 'date': '20180304072752.779621', 'file': '/data/1G.dat', 'start': '20180304072711.692365', 'retrans': '0', 'nl_evnt': 'FTP_INFO', 'stripes': '1', 'volume': '/', 'dest': '[137.164.48.218]', 'host': 'gigiot-24.conf.cenic.org', 'buffer': '235104', 'user': 'anonymous', 'taskid': 'none', 'prog': 'globus-gridftp-server', 'streams': '1', 'type': 'RETR', 'block': '262144', 'nbytes': '1073741824'}\n",
      "ts=2018-03-03 23:37:21,830 event=main.process id=1520149041 File /var/log/gridftp-transfer.log passes last record check\n",
      "ts=2018-03-03 23:37:21,930 event=scan_and_load_netlogger.end id=1520149041 Loaded 1 records\n",
      "--2018-03-03 23:37:21--  http://fiona-10-01:8000/cron-gridftp-transfer-mesh.sh\n",
      "Resolving fiona-10-01 (fiona-10-01)... 137.164.48.196\n",
      "Connecting to fiona-10-01 (fiona-10-01)|137.164.48.196|:8000... connected.\n",
      "HTTP request sent, awaiting response... 200 OK\n",
      "Length: 3423 (3.3K) [application/x-sh]\n",
      "Saving to: ‘/usr/local/bin/cron-gridftp-transfer-mesh.sh’\n",
      "\n",
      "     0K ...                                                   100%  155M=0s\n",
      "\n",
      "2018-03-03 23:37:21 (155 MB/s) - ‘/usr/local/bin/cron-gridftp-transfer-mesh.sh’ saved [3423/3423]\n",
      "\n"
     ]
    }
   ],
   "source": [
    "!ssh -o \"StrictHostKeyChecking no\" 137.164.48.224 $COMMAND"
   ]
  },
  {
   "cell_type": "code",
   "execution_count": 408,
   "metadata": {},
   "outputs": [
    {
     "name": "stdout",
     "output_type": "stream",
     "text": [
      "ts=2018-03-03 23:37:22,659 event=main.start id=1520149042 found last record: {'code': '226', 'date': '20180304072828.894189', 'file': '/data/1G.dat', 'start': '20180304072753.128667', 'retrans': '0', 'nl_evnt': 'FTP_INFO', 'stripes': '1', 'volume': '/', 'dest': '[137.164.48.218]', 'host': 'gigiot-25.conf.cenic.org', 'buffer': '235104', 'user': 'anonymous', 'taskid': 'none', 'prog': 'globus-gridftp-server', 'streams': '1', 'type': 'RETR', 'block': '262144', 'nbytes': '1073741824'}\n",
      "ts=2018-03-03 23:37:22,666 event=main.process id=1520149042 File /var/log/gridftp-transfer.log passes last record check\n",
      "ts=2018-03-03 23:37:22,752 event=scan_and_load_netlogger.end id=1520149042 Loaded 1 records\n",
      "--2018-03-03 23:37:22--  http://fiona-10-01:8000/cron-gridftp-transfer-mesh.sh\n",
      "Resolving fiona-10-01 (fiona-10-01)... 137.164.48.196\n",
      "Connecting to fiona-10-01 (fiona-10-01)|137.164.48.196|:8000... connected.\n",
      "HTTP request sent, awaiting response... 200 OK\n",
      "Length: 3423 (3.3K) [application/x-sh]\n",
      "Saving to: ‘/usr/local/bin/cron-gridftp-transfer-mesh.sh’\n",
      "\n",
      "     0K ...                                                   100%  204M=0s\n",
      "\n",
      "2018-03-03 23:37:22 (204 MB/s) - ‘/usr/local/bin/cron-gridftp-transfer-mesh.sh’ saved [3423/3423]\n",
      "\n"
     ]
    }
   ],
   "source": [
    "!ssh -o \"StrictHostKeyChecking no\" 137.164.48.225 $COMMAND"
   ]
  },
  {
   "cell_type": "code",
   "execution_count": 409,
   "metadata": {},
   "outputs": [
    {
     "name": "stdout",
     "output_type": "stream",
     "text": [
      "ts=2018-03-03 23:37:23,414 event=main.start id=1520149043 found last record: {'code': '226', 'date': '20180304072904.750650', 'file': '/data/1G.dat', 'start': '20180304072829.313002', 'retrans': '0', 'nl_evnt': 'FTP_INFO', 'stripes': '1', 'volume': '/', 'dest': '[137.164.48.218]', 'host': 'gigiot-26.conf.cenic.org', 'buffer': '235104', 'user': 'anonymous', 'taskid': 'none', 'prog': 'globus-gridftp-server', 'streams': '1', 'type': 'RETR', 'block': '262144', 'nbytes': '1073741824'}\n",
      "ts=2018-03-03 23:37:23,421 event=main.process id=1520149043 File /var/log/gridftp-transfer.log passes last record check\n",
      "ts=2018-03-03 23:37:23,503 event=scan_and_load_netlogger.end id=1520149043 Loaded 1 records\n",
      "--2018-03-03 23:37:23--  http://fiona-10-01:8000/cron-gridftp-transfer-mesh.sh\n",
      "Resolving fiona-10-01 (fiona-10-01)... 137.164.48.196\n",
      "Connecting to fiona-10-01 (fiona-10-01)|137.164.48.196|:8000... connected.\n",
      "HTTP request sent, awaiting response... 200 OK\n",
      "Length: 3423 (3.3K) [application/x-sh]\n",
      "Saving to: ‘/usr/local/bin/cron-gridftp-transfer-mesh.sh’\n",
      "\n",
      "     0K ...                                                   100%  236M=0s\n",
      "\n",
      "2018-03-03 23:37:23 (236 MB/s) - ‘/usr/local/bin/cron-gridftp-transfer-mesh.sh’ saved [3423/3423]\n",
      "\n"
     ]
    }
   ],
   "source": [
    "!ssh -o \"StrictHostKeyChecking no\" 137.164.48.226 $COMMAND"
   ]
  },
  {
   "cell_type": "code",
   "execution_count": 410,
   "metadata": {},
   "outputs": [
    {
     "name": "stdout",
     "output_type": "stream",
     "text": [
      "ts=2018-03-03 23:37:24,220 event=main.start id=1520149044 no last record found\n",
      "ts=2018-03-03 23:37:24,220 event=main.process id=1520149044 No last record, processing /var/log/gridftp-transfer.log\n",
      "ts=2018-03-03 23:37:24,221 event=scan_and_load_netlogger.end id=1520149044 Loaded 0 records\n",
      "--2018-03-03 23:37:24--  http://fiona-10-01:8000/cron-gridftp-transfer-mesh.sh\n",
      "Resolving fiona-10-01 (fiona-10-01)... 137.164.48.196\n",
      "Connecting to fiona-10-01 (fiona-10-01)|137.164.48.196|:8000... connected.\n",
      "HTTP request sent, awaiting response... 200 OK\n",
      "Length: 3423 (3.3K) [application/x-sh]\n",
      "Saving to: ‘/usr/local/bin/cron-gridftp-transfer-mesh.sh’\n",
      "\n",
      "     0K ...                                                   100% 34.4M=0s\n",
      "\n",
      "2018-03-03 23:37:24 (34.4 MB/s) - ‘/usr/local/bin/cron-gridftp-transfer-mesh.sh’ saved [3423/3423]\n",
      "\n"
     ]
    }
   ],
   "source": [
    "!ssh -o \"StrictHostKeyChecking no\" 137.164.48.227 $COMMAND"
   ]
  },
  {
   "cell_type": "code",
   "execution_count": 411,
   "metadata": {},
   "outputs": [
    {
     "name": "stdout",
     "output_type": "stream",
     "text": [
      "bash: cron-load-gridftp.sh: command not found\n"
     ]
    }
   ],
   "source": [
    "!ssh -o \"StrictHostKeyChecking no\" 137.164.48.228 $COMMAND"
   ]
  },
  {
   "cell_type": "code",
   "execution_count": 412,
   "metadata": {},
   "outputs": [],
   "source": [
    "#!ssh -o \"StrictHostKeyChecking no\" 137.164.48.229 $COMMAND"
   ]
  },
  {
   "cell_type": "code",
   "execution_count": 413,
   "metadata": {},
   "outputs": [],
   "source": [
    "#!ssh -o \"StrictHostKeyChecking no\" 137.164.48.230 $COMMAND"
   ]
  },
  {
   "cell_type": "code",
   "execution_count": 414,
   "metadata": {},
   "outputs": [],
   "source": [
    "#!ssh -o \"StrictHostKeyChecking no\" 137.164.48.231 $COMMAND"
   ]
  },
  {
   "cell_type": "code",
   "execution_count": 415,
   "metadata": {},
   "outputs": [],
   "source": [
    "#!ssh -o \"StrictHostKeyChecking no\" 137.164.48.232 $COMMAND"
   ]
  },
  {
   "cell_type": "code",
   "execution_count": 416,
   "metadata": {},
   "outputs": [],
   "source": [
    "#!ssh -o \"StrictHostKeyChecking no\" 137.164.48.233 $COMMAND"
   ]
  },
  {
   "cell_type": "code",
   "execution_count": 417,
   "metadata": {},
   "outputs": [],
   "source": [
    "# !ssh -o \"StrictHostKeyChecking no\" 137.164.48.238 $COMMAND"
   ]
  },
  {
   "cell_type": "code",
   "execution_count": 418,
   "metadata": {},
   "outputs": [],
   "source": [
    "# sage2-2 !ssh -o \"StrictHostKeyChecking no\" 137.164.48.239 $COMMAND"
   ]
  },
  {
   "cell_type": "raw",
   "metadata": {},
   "source": []
  },
  {
   "cell_type": "raw",
   "metadata": {},
   "source": []
  }
 ],
 "metadata": {
  "kernelspec": {
   "display_name": "Python 2",
   "language": "python",
   "name": "python2"
  },
  "language_info": {
   "codemirror_mode": {
    "name": "ipython",
    "version": 2
   },
   "file_extension": ".py",
   "mimetype": "text/x-python",
   "name": "python",
   "nbconvert_exporter": "python",
   "pygments_lexer": "ipython2",
   "version": "2.7.5"
  }
 },
 "nbformat": 4,
 "nbformat_minor": 2
}
