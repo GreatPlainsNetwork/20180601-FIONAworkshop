{
 "cells": [
  {
   "cell_type": "markdown",
   "metadata": {},
   "source": [
    "# perfSONAR testpoint installation and initial configuration\n",
    "<p>the following steps will install the `perfsonar-testpoint` bundle</p>\n",
    "<p>depending on the goals for this node, additional tasks include:\n",
    "<ul>\n",
    "<li>configuring this perfSONAR (pS) node to participate in a mesh</li>\n",
    "<li>setting up this node to participate in GridFTP disk-to-disk testing</p>\n",
    "</ul>"
   ]
  },
  {
   "cell_type": "markdown",
   "metadata": {},
   "source": [
    "## pull in the perfsonar-testpoint notebook\n",
    "<p>using your terminal app log into your fionette as root, and cd into /root</p>\n",
    "<p>use wget to transfer the perfsonar-testpoint notebook<pre>\n",
    "wget http://fiona-10-01:8000/perfsonar-testpoint.ipynb -O perfsonar-testpoint.ipynb\n",
    "</pre>\n",
    "<p>launch jupyter lab</p>\n",
    "<pre>jupyter lab --allow-root --ip=`your.fionette.ip`</pre>"
   ]
  },
  {
   "cell_type": "markdown",
   "metadata": {},
   "source": [
    "## first we will prepare the system for installing the `perfsonar-testpoint` bundle"
   ]
  },
  {
   "cell_type": "code",
   "execution_count": null,
   "metadata": {},
   "outputs": [],
   "source": [
    "uname -r"
   ]
  },
  {
   "cell_type": "code",
   "execution_count": null,
   "metadata": {},
   "outputs": [],
   "source": [
    "sed -i 's/SELINUX=enforcing/SELINUX=disabled/g' /etc/selinux/config\n",
    "setenforce 0"
   ]
  },
  {
   "cell_type": "markdown",
   "metadata": {},
   "source": [
    "## setup NTP, bind-utils, traceroute (if not already present)"
   ]
  },
  {
   "cell_type": "code",
   "execution_count": null,
   "metadata": {},
   "outputs": [],
   "source": [
    "yum -y install ntp bind-utils traceroute"
   ]
  },
  {
   "cell_type": "code",
   "execution_count": null,
   "metadata": {},
   "outputs": [],
   "source": [
    "systemctl enable ntpd"
   ]
  },
  {
   "cell_type": "markdown",
   "metadata": {},
   "source": [
    "# adjust `/etc/ntp.conf` for the workshop NTP server\n",
    "<p>review the contents of the file</p>"
   ]
  },
  {
   "cell_type": "code",
   "execution_count": null,
   "metadata": {},
   "outputs": [],
   "source": [
    "cat /etc/ntp.conf"
   ]
  },
  {
   "cell_type": "markdown",
   "metadata": {},
   "source": [
    "<p>using your favorite editor, comment out NTP servers outside of the workshop and add an entry for the local NTP server</p>\n",
    "<pre>\n",
    "#server time.apple.com\n",
    "server 137.164.48.196 iburst\n",
    "</pre>"
   ]
  },
  {
   "cell_type": "markdown",
   "metadata": {},
   "source": [
    "## verify the changes"
   ]
  },
  {
   "cell_type": "code",
   "execution_count": null,
   "metadata": {},
   "outputs": [],
   "source": [
    "cat /etc/ntp.conf"
   ]
  },
  {
   "cell_type": "code",
   "execution_count": null,
   "metadata": {},
   "outputs": [],
   "source": [
    "systemctl start ntpd"
   ]
  },
  {
   "cell_type": "code",
   "execution_count": null,
   "metadata": {},
   "outputs": [],
   "source": [
    "systemctl status ntpd -l"
   ]
  },
  {
   "cell_type": "code",
   "execution_count": null,
   "metadata": {},
   "outputs": [],
   "source": [
    "ntpq -p -c rv"
   ]
  },
  {
   "cell_type": "markdown",
   "metadata": {},
   "source": [
    "## determine default interface"
   ]
  },
  {
   "cell_type": "code",
   "execution_count": null,
   "metadata": {},
   "outputs": [],
   "source": [
    "default_iface=$(awk '$2 == 00000000 { print $1 }' /proc/net/route)\n",
    "echo $default_iface"
   ]
  },
  {
   "cell_type": "markdown",
   "metadata": {},
   "source": [
    "## confirm `hostname -f` responds with FQHN"
   ]
  },
  {
   "cell_type": "code",
   "execution_count": null,
   "metadata": {},
   "outputs": [],
   "source": [
    "hostname -f"
   ]
  },
  {
   "cell_type": "markdown",
   "metadata": {},
   "source": [
    "## use hostnamectl to set if its not a valid FQHN"
   ]
  },
  {
   "cell_type": "code",
   "execution_count": null,
   "metadata": {},
   "outputs": [],
   "source": [
    "myip=$(ip addr show dev $default_iface | grep 'inet '| awk '{print $2}' | awk -F \"/\" '{print $1}')\n",
    "dig -x $myip +short"
   ]
  },
  {
   "cell_type": "code",
   "execution_count": null,
   "metadata": {},
   "outputs": [],
   "source": [
    "hostnamectl set-hostname `dig -x $myip +short`\n",
    "hostname -f"
   ]
  },
  {
   "cell_type": "markdown",
   "metadata": {},
   "source": [
    "## view current link settings on default interface"
   ]
  },
  {
   "cell_type": "code",
   "execution_count": null,
   "metadata": {},
   "outputs": [],
   "source": [
    "ip link show dev $default_iface\n",
    "tc qdisc show"
   ]
  },
  {
   "cell_type": "markdown",
   "metadata": {},
   "source": [
    "## create a custom udev rules file for tuning the NIC configuration "
   ]
  },
  {
   "cell_type": "code",
   "execution_count": null,
   "metadata": {},
   "outputs": [],
   "source": [
    "if [ ! -f /etc/udev/rules.d/80-prp-fiona-ws--ps-netconf.rules ]; then\n",
    "cat > /etc/udev/rules.d/80-prp-fiona-ws--ps-netconf.rules <<EOL\n",
    "KERNEL==\"$default_iface\", RUN+=\"/sbin/ip link set %k mtu 9000\"\n",
    "KERNEL==\"$default_iface\", RUN+=\"/sbin/ip link set %k txqueuelen 10000\"\n",
    "EOL\n",
    "chmod 644 /etc/udev/rules.d/80-prp-fiona-ws--ps-netconf.rules\n",
    "fi"
   ]
  },
  {
   "cell_type": "markdown",
   "metadata": {},
   "source": [
    "## Use udevadm to reload the rules and trigger the action"
   ]
  },
  {
   "cell_type": "code",
   "execution_count": null,
   "metadata": {},
   "outputs": [],
   "source": [
    "/sbin/udevadm control --reload-rules\n",
    "/sbin/udevadm trigger"
   ]
  },
  {
   "cell_type": "markdown",
   "metadata": {},
   "source": [
    "## confirm new NIC tuning settings are present"
   ]
  },
  {
   "cell_type": "code",
   "execution_count": null,
   "metadata": {},
   "outputs": [],
   "source": [
    "ip link show dev $default_iface\n",
    "tc qdisc show"
   ]
  },
  {
   "cell_type": "markdown",
   "metadata": {},
   "source": [
    "## Create a custom sysctl file with desired settings"
   ]
  },
  {
   "cell_type": "code",
   "execution_count": null,
   "metadata": {},
   "outputs": [],
   "source": [
    "if [ ! -f /etc/sysctl.d/80-prp-fiona-ws--ps-sysctl.conf ]; then\n",
    "cat>/etc/sysctl.d/80-prp-fiona-ws--ps-sysctl.conf <<EOL\n",
    "net.core.rmem_max = 67108864 \n",
    "net.core.wmem_max = 67108864 \n",
    "net.ipv4.tcp_rmem = 4096 87380 33554432\n",
    "net.ipv4.tcp_wmem = 4096 65536 33554432\n",
    "net.ipv4.tcp_congestion_control=htcp\n",
    "EOL\n",
    "fi\n",
    "chmod 644 /etc/sysctl.d/80-prp-fiona-ws--ps-sysctl.conf"
   ]
  },
  {
   "cell_type": "markdown",
   "metadata": {},
   "source": [
    "## Adjust kernel boot-time defaults and rebuild grub.cfg"
   ]
  },
  {
   "cell_type": "code",
   "execution_count": null,
   "metadata": {},
   "outputs": [],
   "source": [
    "if ! grep --quiet default_hugepagesz /etc/default/grub; then\n",
    "\tsed -i 's/^GRUB_CMDLINE_LINUX=\\\"[^\\\"]*/& default_hugepagesz=1GB hugepagesz=1GB hugepages=8 elevator=noop processor.max_cstate=1 intel_iommu=off idle=poll intel_idle.max_cstate=0 nosoftlockup mce=ignore_mce/' /etc/default/grub\n",
    "\tgrub2-mkconfig -o /boot/grub2/grub.cfg\n",
    "fi"
   ]
  },
  {
   "cell_type": "code",
   "execution_count": null,
   "metadata": {},
   "outputs": [],
   "source": [
    "cat /etc/default/grub"
   ]
  },
  {
   "cell_type": "markdown",
   "metadata": {},
   "source": [
    "# SAVE your work NOW"
   ]
  },
  {
   "cell_type": "code",
   "execution_count": null,
   "metadata": {},
   "outputs": [],
   "source": [
    "reboot"
   ]
  },
  {
   "cell_type": "markdown",
   "metadata": {},
   "source": [
    "## confirm intended tuning settings are present "
   ]
  },
  {
   "cell_type": "code",
   "execution_count": null,
   "metadata": {},
   "outputs": [],
   "source": [
    "ip link show | grep UP | grep -v lo\n",
    "tc qdisc show"
   ]
  },
  {
   "cell_type": "markdown",
   "metadata": {},
   "source": [
    "## stop & disable a few un-wanted services and start & enable the `tuned` service"
   ]
  },
  {
   "cell_type": "code",
   "execution_count": null,
   "metadata": {},
   "outputs": [],
   "source": [
    "systemctl stop NetworkManager \n",
    "systemctl disable NetworkManager\n",
    "systemctl stop irqbalance.service\n",
    "systemctl disable irqbalance.service\n",
    "systemctl stop wpa_supplicant\n",
    "systemctl disable wpa_supplicant\n",
    "systemctl start tuned\n",
    "systemctl enable tuned\n"
   ]
  },
  {
   "cell_type": "markdown",
   "metadata": {},
   "source": [
    "## check the current clock rate of the CPU cores"
   ]
  },
  {
   "cell_type": "code",
   "execution_count": null,
   "metadata": {},
   "outputs": [],
   "source": [
    "cat /proc/cpuinfo | grep Hz"
   ]
  },
  {
   "cell_type": "markdown",
   "metadata": {},
   "source": [
    "## use `tuned-adm` to show the current active profile"
   ]
  },
  {
   "cell_type": "code",
   "execution_count": null,
   "metadata": {},
   "outputs": [],
   "source": [
    "tuned-adm active"
   ]
  },
  {
   "cell_type": "markdown",
   "metadata": {},
   "source": [
    "## set `network-throughput` at the active profile"
   ]
  },
  {
   "cell_type": "code",
   "execution_count": null,
   "metadata": {},
   "outputs": [],
   "source": [
    "tuned-adm profile network-throughput"
   ]
  },
  {
   "cell_type": "markdown",
   "metadata": {},
   "source": [
    "## re-check the clock rate of the CPU cores"
   ]
  },
  {
   "cell_type": "code",
   "execution_count": null,
   "metadata": {},
   "outputs": [],
   "source": [
    "cat /proc/cpuinfo | grep Hz"
   ]
  },
  {
   "cell_type": "markdown",
   "metadata": {},
   "source": [
    "## Install the perfSONAR testpoint bundle (perfsonar-testpoint) and additional tools\n",
    "\n",
    "<p>The assumption is that CentOS 7 is installed on your machine and that you have access to the necessary tools and configuration to install the perfsonar-testpoint software bundle.</p>\n",
    "<p>First we will install some addditional and supplementary tools, if not already present on the system</p>"
   ]
  },
  {
   "cell_type": "markdown",
   "metadata": {},
   "source": [
    "## Installing the perfSONAR testpoint bundle\n",
    "<p>The instructions below are based on the perfSONAR CentOS Bundle Installation page, here:</p>\n",
    "<p>http://docs.perfsonar.net/install_centos.html</p>\n",
    "<p>with modifications for this workshop</p>\n",
    "## First we need to install the Extra Packages for Enterprise Linux (EPEL)"
   ]
  },
  {
   "cell_type": "markdown",
   "metadata": {},
   "source": [
    "## point yum to local perfSONAR repo "
   ]
  },
  {
   "cell_type": "code",
   "execution_count": null,
   "metadata": {},
   "outputs": [],
   "source": [
    "cat << EOF > /etc/yum.repos.d/perfsonar.repo\n",
    "[perfsonar]\n",
    "name=Extra Packages for Enterprise Linux 7 - $basearch\n",
    "baseurl=http://137.164.48.196/centos-7-x86_64/perfsonar\n",
    "failovermethod=priority\n",
    "enabled=1\n",
    "gpgcheck=0\n",
    "EOF"
   ]
  },
  {
   "cell_type": "markdown",
   "metadata": {},
   "source": [
    "## Refresh the yum cache"
   ]
  },
  {
   "cell_type": "code",
   "execution_count": null,
   "metadata": {},
   "outputs": [],
   "source": [
    "yum clean all"
   ]
  },
  {
   "cell_type": "markdown",
   "metadata": {},
   "source": [
    "## Now we can proceed to install the `perfsonar-testpoint` bundle:\n",
    "<p>NOTE: due to the extensive output from installing this bundle, the call to yum includes the `-q` switch to set quiet mode.  output to `stderr` and any non-zero exit code will appear in the cell below.</p>\n",
    "<p>NOTE: in a terminal session, run <pre>tail -f /var/log/yum.log</pre> to track the bundle installation</p>"
   ]
  },
  {
   "cell_type": "code",
   "execution_count": null,
   "metadata": {},
   "outputs": [],
   "source": [
    "yum -y -q install perfsonar-testpoint"
   ]
  },
  {
   "cell_type": "markdown",
   "metadata": {},
   "source": [
    "## install optional `perfsonar-testpoint` packages"
   ]
  },
  {
   "cell_type": "code",
   "execution_count": null,
   "metadata": {},
   "outputs": [],
   "source": [
    "yum -y install perfsonar-toolkit-ntp perfsonar-toolkit-security perfsonar-toolkit-sysctl perfsonar-toolkit-servicewatcher perfsonar-toolkit-systemenv-testpoint"
   ]
  },
  {
   "cell_type": "markdown",
   "metadata": {},
   "source": [
    "## reload the firewall ruleset"
   ]
  },
  {
   "cell_type": "code",
   "execution_count": null,
   "metadata": {},
   "outputs": [],
   "source": [
    "firewall-cmd --reload"
   ]
  },
  {
   "cell_type": "markdown",
   "metadata": {},
   "source": [
    "## check current active firewall rules"
   ]
  },
  {
   "cell_type": "code",
   "execution_count": null,
   "metadata": {},
   "outputs": [],
   "source": [
    "firewall-cmd --list-all"
   ]
  },
  {
   "cell_type": "markdown",
   "metadata": {},
   "source": [
    "## NOTE: if the output of entry for `services:` entry does include `bwctl` or `owamp-control` re-run the script to configure the firewall rules for perfSONAR"
   ]
  },
  {
   "cell_type": "code",
   "execution_count": null,
   "metadata": {},
   "outputs": [],
   "source": [
    "/usr/lib/perfsonar/scripts/configure_firewall install"
   ]
  },
  {
   "cell_type": "markdown",
   "metadata": {},
   "source": [
    "## re-check firewall rules"
   ]
  },
  {
   "cell_type": "code",
   "execution_count": null,
   "metadata": {},
   "outputs": [],
   "source": [
    "firewall-cmd --list-all"
   ]
  },
  {
   "cell_type": "markdown",
   "metadata": {},
   "source": [
    "## use `systemctl` to check the status of processes"
   ]
  },
  {
   "cell_type": "code",
   "execution_count": null,
   "metadata": {},
   "outputs": [],
   "source": [
    "systemctl status postgresql-9.5 -l\n",
    "systemctl status httpd -l\n",
    "systemctl status pscheduler* -l\n",
    "systemctl status perfsonar-meshconfig-agent -l"
   ]
  },
  {
   "cell_type": "markdown",
   "metadata": {},
   "source": [
    "## Save your work NOW\n",
    "## Reboot the server and verify everything came up as expected\n",
    "## You will need to re-login to your machine and launch the notebook"
   ]
  },
  {
   "cell_type": "code",
   "execution_count": null,
   "metadata": {},
   "outputs": [],
   "source": [
    "reboot"
   ]
  },
  {
   "cell_type": "code",
   "execution_count": null,
   "metadata": {},
   "outputs": [],
   "source": [
    "systemctl status postgresql-9.5 -l\n",
    "systemctl status httpd -l\n",
    "systemctl status pscheduler* -l\n",
    "systemctl status perfsonar-meshconfig-agent -l"
   ]
  },
  {
   "cell_type": "markdown",
   "metadata": {},
   "source": [
    "## update the `meshconfig-agent` to add a reference for the group mesh json\n",
    "<p>review the current contents</p>"
   ]
  },
  {
   "cell_type": "code",
   "execution_count": null,
   "metadata": {},
   "outputs": [],
   "source": [
    "cat /etc/perfsonar/meshconfig-agent.conf"
   ]
  },
  {
   "cell_type": "markdown",
   "metadata": {},
   "source": [
    "## update the `meshconfig-agent.conf` with a mesh stanza referencing the group mesh json"
   ]
  },
  {
   "cell_type": "code",
   "execution_count": null,
   "metadata": {},
   "outputs": [],
   "source": [
    "cd /etc/perfsonar\n",
    "wget http://fiona-10-01:8000/host-to-group -O /usr/local/etc/prp-fiona-ws--host-to-group\n",
    "mygrp=$(grep $(hostname -s) /usr/local/etc/prp-fiona-ws--host-to-group | awk '{print $4}')\n",
    "if [ ! -f /etc/perfsonar/meshconfig-agent.conf.orig ]; then\n",
    "cp /etc/perfsonar/meshconfig-agent.conf /etc/perfsonar/meshconfig-agent.conf.orig\n",
    "fi\n",
    "cat >> /etc/perfsonar/meshconfig-agent.conf <<EOL\n",
    "<mesh>\n",
    "   configuration_url http://gigiot-ma-$mygrp/prp-fiona-ws-mesh--gigiot-ma-$mygrp.json\n",
    "   #validate_certificate         0\n",
    "   #ca_certificate_file          /etc/pki/tls/certs/ca-bundle.crt\n",
    "   configure_archives 1\n",
    "</mesh>\n",
    "EOL\n",
    "chown perfsonar:perfsonar /etc/perfsonar/meshconfig-agent.conf\n",
    "chmod 644 /etc/perfsonar/meshconfig-agent.conf"
   ]
  },
  {
   "cell_type": "code",
   "execution_count": null,
   "metadata": {},
   "outputs": [],
   "source": [
    "cat /etc/perfsonar/meshconfig-agent.conf"
   ]
  },
  {
   "cell_type": "markdown",
   "metadata": {},
   "source": [
    "## restart the `perfsonar-meshconfig-agent` process"
   ]
  },
  {
   "cell_type": "code",
   "execution_count": null,
   "metadata": {},
   "outputs": [],
   "source": [
    "systemctl restart perfsonar-meshconfig-agent"
   ]
  },
  {
   "cell_type": "markdown",
   "metadata": {},
   "source": [
    "## verify the contents of `meshconfig-agent-tasks.conf` to determine if the mesh json has been processed correctly\n",
    "<p>it should have `<test>` stanzas which includes sections for test schedule, parameters, targets, and measurement archives</p> "
   ]
  },
  {
   "cell_type": "code",
   "execution_count": null,
   "metadata": {},
   "outputs": [],
   "source": [
    "cat /etc/perfsonar/meshconfig-agent-tasks.conf"
   ]
  },
  {
   "cell_type": "markdown",
   "metadata": {},
   "source": [
    "# confirming a succesful installation and mesh participation\n"
   ]
  },
  {
   "cell_type": "markdown",
   "metadata": {},
   "source": [
    "## open a terminal session and run the following to help determine the functionality of the system\n",
    "<ul>\n",
    "<li> `pscheduler monitor` to show an updating display of completed, running, and pending tasks</li>\n",
    "<li> `pscheduler task throughput --dest some.other.ps.node` to run a throughput (iperf3) test</li>\n",
    "<li> `pscheduler task latency --dest some.other.ps.node` to run a latency/loss (owping) test</li> \n",
    "</ul>"
   ]
  },
  {
   "cell_type": "markdown",
   "metadata": {},
   "source": [
    "# perfSONAR testpoint appendix: perfSONAR testpoint installation troubleshooting "
   ]
  },
  {
   "cell_type": "markdown",
   "metadata": {},
   "source": [
    "## pscheduler processes fail to start \n",
    "<p>there are reports of a recent dependency breakage in the perfSONAR repo which may cause `httpd` to be absent from the bundle installation. pScheduler will not function without httpd.  if you attempt to use pscheduler and you receive an error message that says:<pre>Unable to find pScheduler on localhost</pre> this can be an indication that httpd is missing.</p>\n",
    "<p>install and enable httpd if not present on the system</p>"
   ]
  },
  {
   "cell_type": "code",
   "execution_count": null,
   "metadata": {},
   "outputs": [],
   "source": [
    "yum -y -q install httpd\n",
    "systemctl enable httpd\n",
    "systemctl start httpd\n",
    "systemctl status httpd -l"
   ]
  },
  {
   "cell_type": "markdown",
   "metadata": {},
   "source": [
    "## python library incompatibility on systems having both perSONAR and GridFTP\n",
    "<p>We have seen an issue with the GridFTP installation where an incompatible python library is installed and this causes the pscheduler processes to not start. If your pscheduler-* processes do not start you can try the following:</p>"
   ]
  },
  {
   "cell_type": "code",
   "execution_count": null,
   "metadata": {},
   "outputs": [],
   "source": [
    "pip uninstall urllib3\n",
    "yum install -y python-urllib3\n",
    "systemctl start pscheduler-*\n",
    "systemctl status pscheduler-* -l"
   ]
  },
  {
   "cell_type": "markdown",
   "metadata": {},
   "source": [
    "# Setting up scheduled GridFTP testing\n",
    "<p>the following steps will set up cron jobs to accomplish</p>\n",
    "<ul>\n",
    "<li>a schedule of GridFTP transfers from a group of participating nodes</li>\n",
    "<li>parsing the GridFTP transfer log and uploading the results to a central Measurement Archive (MA)</li>\n",
    "</ul>"
   ]
  },
  {
   "cell_type": "markdown",
   "metadata": {},
   "source": [
    "## wget the host-to-group map and the group-specific script for GridFTP and make it executable"
   ]
  },
  {
   "cell_type": "code",
   "execution_count": null,
   "metadata": {},
   "outputs": [],
   "source": [
    "wget http://fiona-10-01:8000/host-to-group -O /usr/local/etc/prp-fiona-ws--host-to-group\n",
    "mygrp=$(grep $(hostname -s) /usr/local/etc/prp-fiona-ws--host-to-group | awk '{print $4}')\n",
    "wget http://fiona-10-01:8000/cron-load-gridftp-grp-0$mygrp.sh -O /usr/local/bin/cron-load-gridftp-grp-0$mygrp.sh\n",
    "chmod 755 /usr/local/bin/cron-load-gridftp-grp-0$mygrp.sh"
   ]
  },
  {
   "cell_type": "markdown",
   "metadata": {},
   "source": [
    "## inspect the contents of the script"
   ]
  },
  {
   "cell_type": "code",
   "execution_count": null,
   "metadata": {},
   "outputs": [],
   "source": [
    "cat /usr/local/bin/cron-load-gridftp-grp-0$mygrp.sh"
   ]
  },
  {
   "cell_type": "markdown",
   "metadata": {},
   "source": [
    "## using your favorite editor, update the `GRIDFTP_API_KEY` entry\n",
    "<p>update the <pre>GRIDFTP_API_KEY</pre> entry with the API key generated earlier for the gridftp user on the MA for your group<p>"
   ]
  },
  {
   "cell_type": "markdown",
   "metadata": {},
   "source": [
    "## Grab a helper script that gragefully times out the globus url copy if it exceeds a value in seconds."
   ]
  },
  {
   "cell_type": "code",
   "execution_count": null,
   "metadata": {},
   "outputs": [],
   "source": [
    "mkdir /opt/esmond-gridftp/\n",
    "wget http://fiona-10-01:8000/timeout.sh -O /usr/local/bin/timeout.sh\n",
    "chmod 755 /usr/local/bin/timeout.sh"
   ]
  },
  {
   "cell_type": "markdown",
   "metadata": {},
   "source": [
    "## This script scrapes the gridftp transfer log for transfers that it has not yet processed\n",
    "<p>The results are uploaded to the central measurement archive running on the MA host for your group.</p>"
   ]
  },
  {
   "cell_type": "code",
   "execution_count": null,
   "metadata": {},
   "outputs": [],
   "source": [
    "/usr/local/bin/cron-load-gridftp-grp-0$mygrp.sh "
   ]
  },
  {
   "cell_type": "markdown",
   "metadata": {},
   "source": [
    "\n",
    "## Running this file the first time pulls in the cron-gridftp-transfer-mesh for this host"
   ]
  },
  {
   "cell_type": "code",
   "execution_count": null,
   "metadata": {},
   "outputs": [],
   "source": [
    "chmod 644 /etc/cron.d/cron-gridftp-transfer-mesh-grp-0$mygrp"
   ]
  },
  {
   "cell_type": "markdown",
   "metadata": {},
   "source": [
    "## Inspect the cron job"
   ]
  },
  {
   "cell_type": "code",
   "execution_count": null,
   "metadata": {},
   "outputs": [],
   "source": [
    "cat /etc/cron.d/cron-gridftp-transfer-mesh-grp-0$mygrp"
   ]
  }
 ],
 "metadata": {
  "kernelspec": {
   "display_name": "MetaKernel Bash",
   "language": "bash",
   "name": "metakernel_bash"
  },
  "language_info": {
   "file_extension": ".sh",
   "help_links": [
    {
     "text": "MetaKernel Magics",
     "url": "https://github.com/calysto/metakernel/blob/master/metakernel/magics/README.md"
    }
   ],
   "mimetype": "text/x-bash",
   "name": "bash"
  }
 },
 "nbformat": 4,
 "nbformat_minor": 2
}
