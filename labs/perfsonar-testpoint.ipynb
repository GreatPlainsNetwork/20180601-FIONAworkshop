{
 "cells": [
  {
   "cell_type": "markdown",
   "metadata": {},
   "source": [
    "# perfSONAR testpoint installation and initial configuration\n",
    "<p>the following steps will install the `perfsonar-testpoint` bundle</p>\n",
    "<p>depending on the goals for this node, additional tasks include:\n",
    "<ul>\n",
    "<li>configuring this perfSONAR (pS) node to participate in a mesh</li>\n",
    "<li>setting up this node to participate in GridFTP disk-to-disk testing</p>\n",
    "</ul>"
   ]
  },
  {
   "cell_type": "markdown",
   "metadata": {},
   "source": [
    "## pull in the perfsonar-testpoint notebook\n",
    "<p>using your terminal app log into your fionette as root, and cd into /root</p>\n",
    "<p>use wget to transfer the perfsonar-testpoint notebook<pre>\n",
    "wget http://fiona-10-01:8000/perfsonar-testpoint.ipynb -O perfsonar-testpoint.ipynb\n",
    "</pre>\n",
    "<p>launch jupyter lab</p>\n",
    "<pre>jupyter lab --allow-root --ip=`your.fionette.ip`</pre>"
   ]
  },
  {
   "cell_type": "markdown",
   "metadata": {},
   "source": [
    "## first we will prepare the system for installing the `perfsonar-testpoint` bundle"
   ]
  },
  {
   "cell_type": "code",
   "execution_count": 1,
   "metadata": {},
   "outputs": [
    {
     "name": "stdout",
     "output_type": "stream",
     "text": [
      "3.10.0-693.17.1.el7.x86_64\n"
     ]
    }
   ],
   "source": [
    "uname -r"
   ]
  },
  {
   "cell_type": "code",
   "execution_count": 2,
   "metadata": {},
   "outputs": [
    {
     "name": "stdout",
     "output_type": "stream",
     "text": [
      "setenforce: SELinux is disabled\n"
     ]
    },
    {
     "ename": "",
     "evalue": "1",
     "execution_count": 2,
     "output_type": "error",
     "traceback": []
    }
   ],
   "source": [
    "sed -i 's/SELINUX=enforcing/SELINUX=disabled/g' /etc/selinux/config\n",
    "setenforce 0"
   ]
  },
  {
   "cell_type": "markdown",
   "metadata": {},
   "source": [
    "## setup NTP, bind-utils, traceroute (if not already present)"
   ]
  },
  {
   "cell_type": "code",
   "execution_count": 3,
   "metadata": {},
   "outputs": [
    {
     "name": "stdout",
     "output_type": "stream",
     "text": [
      "Loaded plugins: fastestmirror\n",
      "base                                                     | 3.6 kB     00:00     \n",
      "epel                                                     | 4.7 kB     00:00     \n",
      "extras                                                   | 3.4 kB     00:00     \n",
      "globus                                                   | 2.9 kB     00:00     \n",
      "perfSONAR                                                | 2.9 kB     00:00     \n",
      "perfsonar                                                | 2.9 kB     00:00     \n",
      "updates                                                  | 3.4 kB     00:00     \n",
      "Loading mirror speeds from cached hostfile\n",
      " * perfSONAR: linux.mirrors.es.net\n",
      "Package ntp-4.2.6p5-25.el7.centos.2.x86_64 already installed and latest version\n",
      "Resolving Dependencies\n",
      "--> Running transaction check\n",
      "---> Package bind-utils.x86_64 32:9.9.4-51.el7_4.2 will be installed\n",
      "--> Processing Dependency: bind-libs = 32:9.9.4-51.el7_4.2 for package: 32:bind-utils-9.9.4-51.el7_4.2.x86_64\n",
      "--> Processing Dependency: liblwres.so.90()(64bit) for package: 32:bind-utils-9.9.4-51.el7_4.2.x86_64\n",
      "--> Processing Dependency: libisccfg.so.90()(64bit) for package: 32:bind-utils-9.9.4-51.el7_4.2.x86_64\n",
      "--> Processing Dependency: libisccc.so.90()(64bit) for package: 32:bind-utils-9.9.4-51.el7_4.2.x86_64\n",
      "--> Processing Dependency: libisc.so.95()(64bit) for package: 32:bind-utils-9.9.4-51.el7_4.2.x86_64\n",
      "--> Processing Dependency: libdns.so.100()(64bit) for package: 32:bind-utils-9.9.4-51.el7_4.2.x86_64\n",
      "--> Processing Dependency: libbind9.so.90()(64bit) for package: 32:bind-utils-9.9.4-51.el7_4.2.x86_64\n",
      "---> Package traceroute.x86_64 3:2.0.22-2.el7 will be installed\n",
      "--> Running transaction check\n",
      "---> Package bind-libs.x86_64 32:9.9.4-51.el7_4.2 will be installed\n",
      "--> Finished Dependency Resolution\n",
      "\n",
      "Dependencies Resolved\n",
      "\n",
      "================================================================================\n",
      " Package          Arch         Version                      Repository     Size\n",
      "================================================================================\n",
      "Installing:\n",
      " bind-utils       x86_64       32:9.9.4-51.el7_4.2          updates       203 k\n",
      " traceroute       x86_64       3:2.0.22-2.el7               base           59 k\n",
      "Installing for dependencies:\n",
      " bind-libs        x86_64       32:9.9.4-51.el7_4.2          updates       1.0 M\n",
      "\n",
      "Transaction Summary\n",
      "================================================================================\n",
      "Install  2 Packages (+1 Dependent package)\n",
      "\n",
      "Total download size: 1.3 M\n",
      "Installed size: 3.1 M\n",
      "Downloading packages:\n",
      "(1/3): bind-utils-9.9.4-51.el7_4.2.x86_64.rpm              | 203 kB   00:00     \n",
      "(2/3): bind-libs-9.9.4-51.el7_4.2.x86_64.rpm               | 1.0 MB   00:00     \n",
      "(3/3): traceroute-2.0.22-2.el7.x86_64.rpm                  |  59 kB   00:00     \n",
      "--------------------------------------------------------------------------------\n",
      "Total                                              5.6 MB/s | 1.3 MB  00:00     \n",
      "Running transaction check\n",
      "Running transaction test\n",
      "Transaction test succeeded\n",
      "Running transaction\n",
      "  Installing : 32:bind-libs-9.9.4-51.el7_4.2.x86_64                         1/3 \n",
      "  Installing : 32:bind-utils-9.9.4-51.el7_4.2.x86_64                        2/3 \n",
      "  Installing : 3:traceroute-2.0.22-2.el7.x86_64                             3/3 \n",
      "  Verifying  : 32:bind-libs-9.9.4-51.el7_4.2.x86_64                         1/3 \n",
      "  Verifying  : 3:traceroute-2.0.22-2.el7.x86_64                             2/3 \n",
      "  Verifying  : 32:bind-utils-9.9.4-51.el7_4.2.x86_64                        3/3 \n",
      "\n",
      "Installed:\n",
      "  bind-utils.x86_64 32:9.9.4-51.el7_4.2     traceroute.x86_64 3:2.0.22-2.el7    \n",
      "\n",
      "Dependency Installed:\n",
      "  bind-libs.x86_64 32:9.9.4-51.el7_4.2                                          \n",
      "\n",
      "Complete!\n"
     ]
    }
   ],
   "source": [
    "yum -y install ntp bind-utils traceroute"
   ]
  },
  {
   "cell_type": "code",
   "execution_count": 4,
   "metadata": {},
   "outputs": [],
   "source": [
    "systemctl enable ntpd"
   ]
  },
  {
   "cell_type": "markdown",
   "metadata": {},
   "source": [
    "# adjust `/etc/ntp.conf` for the workshop NTP server\n",
    "<p>review the contents of the file</p>"
   ]
  },
  {
   "cell_type": "code",
   "execution_count": 5,
   "metadata": {},
   "outputs": [
    {
     "name": "stdout",
     "output_type": "stream",
     "text": [
      "# For more information about this file, see the man pages\n",
      "# ntp.conf(5), ntp_acc(5), ntp_auth(5), ntp_clock(5), ntp_misc(5), ntp_mon(5).\n",
      "\n",
      "driftfile /var/lib/ntp/drift\n",
      "\n",
      "# Permit time synchronization with our time source, but do not\n",
      "# permit the source to query or modify the service on this system.\n",
      "restrict default nomodify notrap nopeer noquery\n",
      "\n",
      "# Permit all access over the loopback interface.  This could\n",
      "# be tightened as well, but to do so would effect some of\n",
      "# the administrative functions.\n",
      "restrict 127.0.0.1 \n",
      "restrict ::1\n",
      "\n",
      "# Hosts on local network are less restricted.\n",
      "#restrict 192.168.1.0 mask 255.255.255.0 nomodify notrap\n",
      "\n",
      "# Use public servers from the pool.ntp.org project.\n",
      "# Please consider joining the pool (http://www.pool.ntp.org/join.html).\n",
      "server 0.centos.pool.ntp.org iburst\n",
      "server 1.centos.pool.ntp.org iburst\n",
      "server 2.centos.pool.ntp.org iburst\n",
      "server 3.centos.pool.ntp.org iburst\n",
      "\n",
      "#broadcast 192.168.1.255 autokey\t# broadcast server\n",
      "#broadcastclient\t\t\t# broadcast client\n",
      "#broadcast 224.0.1.1 autokey\t\t# multicast server\n",
      "#multicastclient 224.0.1.1\t\t# multicast client\n",
      "#manycastserver 239.255.254.254\t\t# manycast server\n",
      "#manycastclient 239.255.254.254 autokey # manycast client\n",
      "\n",
      "# Enable public key cryptography.\n",
      "#crypto\n",
      "\n",
      "includefile /etc/ntp/crypto/pw\n",
      "\n",
      "# Key file containing the keys and key identifiers used when operating\n",
      "# with symmetric key cryptography. \n",
      "keys /etc/ntp/keys\n",
      "\n",
      "# Specify the key identifiers which are trusted.\n",
      "#trustedkey 4 8 42\n",
      "\n",
      "# Specify the key identifier to use with the ntpdc utility.\n",
      "#requestkey 8\n",
      "\n",
      "# Specify the key identifier to use with the ntpq utility.\n",
      "#controlkey 8\n",
      "\n",
      "# Enable writing of statistics records.\n",
      "#statistics clockstats cryptostats loopstats peerstats\n",
      "\n",
      "# Disable the monitoring facility to prevent amplification attacks using ntpdc\n",
      "# monlist command when default restrict does not include the noquery flag. See\n",
      "# CVE-2013-5211 for more details.\n",
      "# Note: Monitoring will not be disabled with the limited restriction flag.\n",
      "disable monitor\n",
      "server 137.164.48.196   # added by /sbin/dhclient-script\n"
     ]
    }
   ],
   "source": [
    "cat /etc/ntp.conf"
   ]
  },
  {
   "cell_type": "markdown",
   "metadata": {},
   "source": [
    "<p>using your favorite editor, comment out NTP servers outside of the workshop and add an entry for the local NTP server</p>\n",
    "<pre>\n",
    "#server time.apple.com\n",
    "server 137.164.48.196 iburst\n",
    "</pre>"
   ]
  },
  {
   "cell_type": "markdown",
   "metadata": {},
   "source": [
    "## verify the changes"
   ]
  },
  {
   "cell_type": "code",
   "execution_count": 6,
   "metadata": {},
   "outputs": [
    {
     "name": "stdout",
     "output_type": "stream",
     "text": [
      "# For more information about this file, see the man pages\n",
      "# ntp.conf(5), ntp_acc(5), ntp_auth(5), ntp_clock(5), ntp_misc(5), ntp_mon(5).\n",
      "\n",
      "driftfile /var/lib/ntp/drift\n",
      "\n",
      "# Permit time synchronization with our time source, but do not\n",
      "# permit the source to query or modify the service on this system.\n",
      "restrict default nomodify notrap nopeer noquery\n",
      "\n",
      "# Permit all access over the loopback interface.  This could\n",
      "# be tightened as well, but to do so would effect some of\n",
      "# the administrative functions.\n",
      "restrict 127.0.0.1 \n",
      "restrict ::1\n",
      "\n",
      "# Hosts on local network are less restricted.\n",
      "#restrict 192.168.1.0 mask 255.255.255.0 nomodify notrap\n",
      "\n",
      "# Use public servers from the pool.ntp.org project.\n",
      "# Please consider joining the pool (http://www.pool.ntp.org/join.html).\n",
      "server 0.centos.pool.ntp.org iburst\n",
      "server 1.centos.pool.ntp.org iburst\n",
      "server 2.centos.pool.ntp.org iburst\n",
      "server 3.centos.pool.ntp.org iburst\n",
      "\n",
      "#broadcast 192.168.1.255 autokey\t# broadcast server\n",
      "#broadcastclient\t\t\t# broadcast client\n",
      "#broadcast 224.0.1.1 autokey\t\t# multicast server\n",
      "#multicastclient 224.0.1.1\t\t# multicast client\n",
      "#manycastserver 239.255.254.254\t\t# manycast server\n",
      "#manycastclient 239.255.254.254 autokey # manycast client\n",
      "\n",
      "# Enable public key cryptography.\n",
      "#crypto\n",
      "\n",
      "includefile /etc/ntp/crypto/pw\n",
      "\n",
      "# Key file containing the keys and key identifiers used when operating\n",
      "# with symmetric key cryptography. \n",
      "keys /etc/ntp/keys\n",
      "\n",
      "# Specify the key identifiers which are trusted.\n",
      "#trustedkey 4 8 42\n",
      "\n",
      "# Specify the key identifier to use with the ntpdc utility.\n",
      "#requestkey 8\n",
      "\n",
      "# Specify the key identifier to use with the ntpq utility.\n",
      "#controlkey 8\n",
      "\n",
      "# Enable writing of statistics records.\n",
      "#statistics clockstats cryptostats loopstats peerstats\n",
      "\n",
      "# Disable the monitoring facility to prevent amplification attacks using ntpdc\n",
      "# monlist command when default restrict does not include the noquery flag. See\n",
      "# CVE-2013-5211 for more details.\n",
      "# Note: Monitoring will not be disabled with the limited restriction flag.\n",
      "disable monitor\n",
      "server 137.164.48.196   # added by /sbin/dhclient-script\n"
     ]
    }
   ],
   "source": [
    "cat /etc/ntp.conf"
   ]
  },
  {
   "cell_type": "code",
   "execution_count": 7,
   "metadata": {},
   "outputs": [],
   "source": [
    "systemctl start ntpd"
   ]
  },
  {
   "cell_type": "code",
   "execution_count": 8,
   "metadata": {},
   "outputs": [
    {
     "name": "stdout",
     "output_type": "stream",
     "text": [
      "\u001b[1;32m●\u001b[0m ntpd.service - Network Time Service\n",
      "   Loaded: loaded (/usr/lib/systemd/system/ntpd.service; enabled; vendor preset: disabled)\n",
      "   Active: \u001b[1;32mactive (running)\u001b[0m since Sat 2018-03-03 21:20:51 PST; 1s ago\n",
      "  Process: 14621 ExecStart=/usr/sbin/ntpd -u ntp:ntp $OPTIONS (code=exited, status=0/SUCCESS)\n",
      " Main PID: 14622 (ntpd)\n",
      "   CGroup: /system.slice/ntpd.service\n",
      "           └─14622 /usr/sbin/ntpd -u ntp:ntp -g\n",
      "\n",
      "Mar 03 21:20:51 gigiot-12 ntpd[14622]: Listen and drop on 1 v6wildcard :: UDP 123\n",
      "Mar 03 21:20:51 gigiot-12 ntpd[14622]: Listen normally on 2 lo 127.0.0.1 UDP 123\n",
      "Mar 03 21:20:51 gigiot-12 ntpd[14622]: Listen normally on 3 enp3s0 137.164.48.212 UDP 123\n",
      "Mar 03 21:20:51 gigiot-12 ntpd[14622]: Listen normally on 4 lo ::1 UDP 123\n",
      "Mar 03 21:20:51 gigiot-12 ntpd[14622]: Listen normally on 5 enp3s0 fe80::428d:5cff:fef9:678c UDP 123\n",
      "Mar 03 21:20:51 gigiot-12 ntpd[14622]: Listening on routing socket on fd #22 for interface updates\n",
      "Mar 03 21:20:51 gigiot-12 systemd[1]: Started Network Time Service.\n",
      "Mar 03 21:20:51 gigiot-12 ntpd[14622]: 0.0.0.0 c016 06 restart\n",
      "Mar 03 21:20:51 gigiot-12 ntpd[14622]: 0.0.0.0 c012 02 freq_set kernel 0.000 PPM\n",
      "Mar 03 21:20:51 gigiot-12 ntpd[14622]: 0.0.0.0 c011 01 freq_not_set\n"
     ]
    }
   ],
   "source": [
    "systemctl status ntpd -l"
   ]
  },
  {
   "cell_type": "code",
   "execution_count": 9,
   "metadata": {},
   "outputs": [
    {
     "name": "stdout",
     "output_type": "stream",
     "text": [
      "     remote           refid      st t when poll reach   delay   offset  jitter\n",
      "==============================================================================\n",
      " chl.la          216.218.254.202  2 u    -   64    1   12.338    3.282   0.065\n",
      " doomshack.org   216.218.254.202  2 u    3   64    1   12.361    2.688   0.000\n",
      " resolver1.skyfi 216.218.192.202  2 u    -   64    1   29.711   -0.166   0.380\n",
      " PBX.cytranet.ne 198.60.22.240    3 u    1   64    1   12.314   -3.299   0.000\n",
      " fiona-10-01     69.89.207.99     2 u    -   64    1    0.231   -0.042   0.000\n",
      "associd=0 status=c011 leap_alarm, sync_unspec, 1 event, freq_not_set,\n",
      "version=\"ntpd 4.2.6p5@1.2349-o Wed Apr 12 21:24:06 UTC 2017 (1)\",\n",
      "processor=\"x86_64\", system=\"Linux/3.10.0-693.17.1.el7.x86_64\", leap=11,\n",
      "stratum=16, precision=-23, rootdelay=0.000, rootdisp=0.075, refid=INIT,\n",
      "reftime=00000000.00000000  Sun, Dec 31 1899 16:00:00.000,\n",
      "clock=de4600b8.6f7cce7e  Sat, Mar  3 2018 21:20:56.435, peer=0, tc=3,\n",
      "mintc=3, offset=0.000, frequency=0.000, sys_jitter=0.000,\n",
      "clk_jitter=0.000, clk_wander=0.000\n"
     ]
    }
   ],
   "source": [
    "ntpq -p -c rv"
   ]
  },
  {
   "cell_type": "markdown",
   "metadata": {},
   "source": [
    "## determine default interface"
   ]
  },
  {
   "cell_type": "code",
   "execution_count": 10,
   "metadata": {},
   "outputs": [
    {
     "name": "stdout",
     "output_type": "stream",
     "text": [
      "enp3s0\n"
     ]
    }
   ],
   "source": [
    "default_iface=$(awk '$2 == 00000000 { print $1 }' /proc/net/route)\n",
    "echo $default_iface"
   ]
  },
  {
   "cell_type": "markdown",
   "metadata": {},
   "source": [
    "## confirm `hostname -f` responds with FQHN"
   ]
  },
  {
   "cell_type": "code",
   "execution_count": 11,
   "metadata": {},
   "outputs": [
    {
     "name": "stdout",
     "output_type": "stream",
     "text": [
      "gigiot-12.conf.cenic.org\n"
     ]
    }
   ],
   "source": [
    "hostname -f"
   ]
  },
  {
   "cell_type": "markdown",
   "metadata": {},
   "source": [
    "## use hostnamectl to set if its not a valid FQHN"
   ]
  },
  {
   "cell_type": "code",
   "execution_count": null,
   "metadata": {},
   "outputs": [],
   "source": [
    "myip=$(ip addr show dev $default_iface | grep 'inet '| awk '{print $2}' | awk -F \"/\" '{print $1}')\n",
    "dig -x $myip +short"
   ]
  },
  {
   "cell_type": "code",
   "execution_count": null,
   "metadata": {},
   "outputs": [],
   "source": [
    "hostnamectl set-hostname `dig -x $myip +short`\n",
    "hostname -f"
   ]
  },
  {
   "cell_type": "markdown",
   "metadata": {},
   "source": [
    "## view current link settings on default interface"
   ]
  },
  {
   "cell_type": "code",
   "execution_count": 12,
   "metadata": {},
   "outputs": [
    {
     "name": "stdout",
     "output_type": "stream",
     "text": [
      "2: enp3s0: <BROADCAST,MULTICAST,UP,LOWER_UP> mtu 1500 qdisc fq state UP mode DEFAULT qlen 1000\n",
      "    link/ether 40:8d:5c:f9:67:8c brd ff:ff:ff:ff:ff:ff\n",
      "qdisc noqueue 0: dev lo root refcnt 2 \n",
      "qdisc fq 0: dev enp3s0 root refcnt 2 limit 10000p flow_limit 100p buckets 1024 quantum 3028 initial_quantum 15140 \n"
     ]
    }
   ],
   "source": [
    "ip link show dev $default_iface\n",
    "tc qdisc show"
   ]
  },
  {
   "cell_type": "markdown",
   "metadata": {},
   "source": [
    "## create a custom udev rules file for tuning the NIC configuration "
   ]
  },
  {
   "cell_type": "code",
   "execution_count": 13,
   "metadata": {},
   "outputs": [],
   "source": [
    "if [ ! -f /etc/udev/rules.d/80-prp-fiona-ws--ps-netconf.rules ]; then\n",
    "cat > /etc/udev/rules.d/80-prp-fiona-ws--ps-netconf.rules <<EOL\n",
    "KERNEL==\"$default_iface\", RUN+=\"/sbin/ip link set %k mtu 9000\"\n",
    "KERNEL==\"$default_iface\", RUN+=\"/sbin/ip link set %k txqueuelen 10000\"\n",
    "EOL\n",
    "chmod 644 /etc/udev/rules.d/80-prp-fiona-ws--ps-netconf.rules\n",
    "fi"
   ]
  },
  {
   "cell_type": "markdown",
   "metadata": {},
   "source": [
    "## Use udevadm to reload the rules and trigger the action"
   ]
  },
  {
   "cell_type": "code",
   "execution_count": 14,
   "metadata": {},
   "outputs": [],
   "source": [
    "/sbin/udevadm control --reload-rules\n",
    "/sbin/udevadm trigger"
   ]
  },
  {
   "cell_type": "markdown",
   "metadata": {},
   "source": [
    "## confirm new NIC tuning settings are present"
   ]
  },
  {
   "cell_type": "code",
   "execution_count": 15,
   "metadata": {},
   "outputs": [
    {
     "name": "stdout",
     "output_type": "stream",
     "text": [
      "2: enp3s0: <BROADCAST,MULTICAST,UP,LOWER_UP> mtu 9000 qdisc fq state UP mode DEFAULT qlen 10000\n",
      "    link/ether 40:8d:5c:f9:67:8c brd ff:ff:ff:ff:ff:ff\n",
      "qdisc noqueue 0: dev lo root refcnt 2 \n",
      "qdisc fq 0: dev enp3s0 root refcnt 2 limit 10000p flow_limit 100p buckets 1024 quantum 3028 initial_quantum 15140 \n"
     ]
    }
   ],
   "source": [
    "ip link show dev $default_iface\n",
    "tc qdisc show"
   ]
  },
  {
   "cell_type": "markdown",
   "metadata": {},
   "source": [
    "## Create a custom sysctl file with desired settings"
   ]
  },
  {
   "cell_type": "code",
   "execution_count": 16,
   "metadata": {},
   "outputs": [],
   "source": [
    "if [ ! -f /etc/sysctl.d/80-prp-fiona-ws--ps-sysctl.conf ]; then\n",
    "cat>/etc/sysctl.d/80-prp-fiona-ws--ps-sysctl.conf <<EOL\n",
    "net.core.rmem_max = 67108864 \n",
    "net.core.wmem_max = 67108864 \n",
    "net.ipv4.tcp_rmem = 4096 87380 33554432\n",
    "net.ipv4.tcp_wmem = 4096 65536 33554432\n",
    "net.ipv4.tcp_congestion_control=htcp\n",
    "EOL\n",
    "fi\n",
    "chmod 644 /etc/sysctl.d/80-prp-fiona-ws--ps-sysctl.conf"
   ]
  },
  {
   "cell_type": "markdown",
   "metadata": {},
   "source": [
    "## Adjust kernel boot-time defaults and rebuild grub.cfg"
   ]
  },
  {
   "cell_type": "code",
   "execution_count": 17,
   "metadata": {},
   "outputs": [],
   "source": [
    "if ! grep --quiet default_hugepagesz /etc/default/grub; then\n",
    "\tsed -i 's/^GRUB_CMDLINE_LINUX=\\\"[^\\\"]*/& default_hugepagesz=1GB hugepagesz=1GB hugepages=8 elevator=noop processor.max_cstate=1 intel_iommu=off idle=poll intel_idle.max_cstate=0 nosoftlockup mce=ignore_mce/' /etc/default/grub\n",
    "\tgrub2-mkconfig -o /boot/grub2/grub.cfg\n",
    "fi"
   ]
  },
  {
   "cell_type": "code",
   "execution_count": 18,
   "metadata": {},
   "outputs": [
    {
     "name": "stdout",
     "output_type": "stream",
     "text": [
      "GRUB_TIMEOUT=5\n",
      "GRUB_DISTRIBUTOR=\"$(sed 's, release .*$,,g' /etc/system-release)\"\n",
      "GRUB_DEFAULT=saved\n",
      "GRUB_DISABLE_SUBMENU=true\n",
      "GRUB_TERMINAL_OUTPUT=\"console\"\n",
      "GRUB_CMDLINE_LINUX=\"crashkernel=auto rhgb quiet default_hugepagesz=1GB hugepagesz=1GB hugepages=8 elevator=noop processor.max_cstate=1 intel_iommu=off idle=poll intel_idle.max_cstate=0 nosoftlockup mce=ignore_mce\"\n",
      "GRUB_DISABLE_RECOVERY=\"true\"\n"
     ]
    }
   ],
   "source": [
    "cat /etc/default/grub"
   ]
  },
  {
   "cell_type": "markdown",
   "metadata": {},
   "source": [
    "# SAVE your work NOW"
   ]
  },
  {
   "cell_type": "code",
   "execution_count": null,
   "metadata": {},
   "outputs": [],
   "source": [
    "reboot"
   ]
  },
  {
   "cell_type": "markdown",
   "metadata": {},
   "source": [
    "## confirm intended tuning settings are present "
   ]
  },
  {
   "cell_type": "code",
   "execution_count": null,
   "metadata": {},
   "outputs": [],
   "source": [
    "ip link show | grep UP | grep -v lo\n",
    "tc qdisc show"
   ]
  },
  {
   "cell_type": "markdown",
   "metadata": {},
   "source": [
    "## stop & disable a few un-wanted services and start & enable the `tuned` service"
   ]
  },
  {
   "cell_type": "code",
   "execution_count": 19,
   "metadata": {},
   "outputs": [],
   "source": [
    "systemctl stop NetworkManager \n",
    "systemctl disable NetworkManager\n",
    "systemctl stop irqbalance.service\n",
    "systemctl disable irqbalance.service\n",
    "systemctl stop wpa_supplicant\n",
    "systemctl disable wpa_supplicant\n",
    "systemctl start tuned\n",
    "systemctl enable tuned\n"
   ]
  },
  {
   "cell_type": "markdown",
   "metadata": {},
   "source": [
    "## check the current clock rate of the CPU cores"
   ]
  },
  {
   "cell_type": "code",
   "execution_count": 20,
   "metadata": {},
   "outputs": [
    {
     "name": "stdout",
     "output_type": "stream",
     "text": [
      "model name\t: Intel(R) Pentium(R) CPU  N3710  @ 1.60G\u001b[01;31m\u001b[KHz\u001b[m\u001b[K\n",
      "cpu M\u001b[01;31m\u001b[KHz\u001b[m\u001b[K\t\t: 1601.000\n",
      "model name\t: Intel(R) Pentium(R) CPU  N3710  @ 1.60G\u001b[01;31m\u001b[KHz\u001b[m\u001b[K\n",
      "cpu M\u001b[01;31m\u001b[KHz\u001b[m\u001b[K\t\t: 1601.000\n",
      "model name\t: Intel(R) Pentium(R) CPU  N3710  @ 1.60G\u001b[01;31m\u001b[KHz\u001b[m\u001b[K\n",
      "cpu M\u001b[01;31m\u001b[KHz\u001b[m\u001b[K\t\t: 1601.000\n",
      "model name\t: Intel(R) Pentium(R) CPU  N3710  @ 1.60G\u001b[01;31m\u001b[KHz\u001b[m\u001b[K\n",
      "cpu M\u001b[01;31m\u001b[KHz\u001b[m\u001b[K\t\t: 1601.000\n"
     ]
    }
   ],
   "source": [
    "cat /proc/cpuinfo | grep Hz"
   ]
  },
  {
   "cell_type": "markdown",
   "metadata": {},
   "source": [
    "## use `tuned-adm` to show the current active profile"
   ]
  },
  {
   "cell_type": "code",
   "execution_count": null,
   "metadata": {},
   "outputs": [],
   "source": [
    "tuned-adm active"
   ]
  },
  {
   "cell_type": "markdown",
   "metadata": {},
   "source": [
    "## set `network-throughput` at the active profile"
   ]
  },
  {
   "cell_type": "code",
   "execution_count": null,
   "metadata": {},
   "outputs": [],
   "source": [
    "tuned-adm profile network-throughput"
   ]
  },
  {
   "cell_type": "markdown",
   "metadata": {},
   "source": [
    "## re-check the clock rate of the CPU cores"
   ]
  },
  {
   "cell_type": "code",
   "execution_count": null,
   "metadata": {},
   "outputs": [],
   "source": [
    "cat /proc/cpuinfo | grep Hz"
   ]
  },
  {
   "cell_type": "markdown",
   "metadata": {},
   "source": [
    "## Install the perfSONAR testpoint bundle (perfsonar-testpoint) and additional tools\n",
    "\n",
    "<p>The assumption is that CentOS 7 is installed on your machine and that you have access to the necessary tools and configuration to install the perfsonar-testpoint software bundle.</p>\n",
    "<p>First we will install some addditional and supplementary tools, if not already present on the system</p>"
   ]
  },
  {
   "cell_type": "markdown",
   "metadata": {},
   "source": [
    "## Installing the perfSONAR testpoint bundle\n",
    "<p>The instructions below are based on the perfSONAR CentOS Bundle Installation page, here:</p>\n",
    "<p>http://docs.perfsonar.net/install_centos.html</p>\n",
    "<p>with modifications for this workshop</p>\n",
    "## First we need to install the Extra Packages for Enterprise Linux (EPEL)"
   ]
  },
  {
   "cell_type": "markdown",
   "metadata": {},
   "source": [
    "## point yum to local perfSONAR repo "
   ]
  },
  {
   "cell_type": "code",
   "execution_count": 21,
   "metadata": {},
   "outputs": [],
   "source": [
    "cat << EOF > /etc/yum.repos.d/perfsonar.repo\n",
    "[perfsonar]\n",
    "name=Extra Packages for Enterprise Linux 7 - $basearch\n",
    "baseurl=http://137.164.48.196/centos-7-x86_64/perfsonar\n",
    "failovermethod=priority\n",
    "enabled=1\n",
    "gpgcheck=0\n",
    "EOF"
   ]
  },
  {
   "cell_type": "markdown",
   "metadata": {},
   "source": [
    "## Refresh the yum cache"
   ]
  },
  {
   "cell_type": "code",
   "execution_count": 22,
   "metadata": {},
   "outputs": [
    {
     "name": "stdout",
     "output_type": "stream",
     "text": [
      "Loaded plugins: fastestmirror\n",
      "Cleaning repos: base epel extras globus perfSONAR perfsonar updates zfs\n",
      "Cleaning up everything\n",
      "Maybe you want: rm -rf /var/cache/yum, to also free up space taken by orphaned data from disabled or removed repos\n",
      "Cleaning up list of fastest mirrors\n"
     ]
    }
   ],
   "source": [
    "yum clean all"
   ]
  },
  {
   "cell_type": "markdown",
   "metadata": {},
   "source": [
    "## Now we can proceed to install the `perfsonar-testpoint` bundle:\n",
    "<p>NOTE: due to the extensive output from installing this bundle, the call to yum includes the `-q` switch to set quiet mode.  output to `stderr` and any non-zero exit code will appear in the cell below.</p>\n",
    "<p>NOTE: in a terminal session, run <pre>tail -f /var/log/yum.log</pre> to track the bundle installation</p>"
   ]
  },
  {
   "cell_type": "code",
   "execution_count": 23,
   "metadata": {},
   "outputs": [
    {
     "name": "stdout",
     "output_type": "stream",
     "text": [
      "Created symlink from /etc/systemd/system/multi-user.target.wants/owamp-server.service to /usr/lib/systemd/system/owamp-server.service.\n",
      "Created symlink from /etc/systemd/system/multi-user.target.wants/bwctl-server.service to /usr/lib/systemd/system/bwctl-server.service.\n",
      "Error unpacking rpm package python-urllib3-1.10.2-3.el7.noarch\n",
      "error: unpacking of archive failed on file /usr/lib/python2.7/site-packages/urllib3/packages/ssl_match_hostname: cpio: rename failed - Is a directory\n",
      "error: python-urllib3-1.10.2-3.el7.noarch: install failed\n",
      "Error unpacking rpm package python-subprocess32-3.2.7-1.el7.centos.x86_64\n",
      "error: unpacking of archive failed on file /usr/lib64/python2.7/site-packages/subprocess32-3.2.7-py2.7.egg-info: cpio: rename failed - Is a directory\n",
      "error: python-subprocess32-3.2.7-1.el7.centos.x86_64: install failed\n",
      "Created symlink from /etc/systemd/system/multi-user.target.wants/perfsonar-meshconfig-agent.service to /usr/lib/systemd/system/perfsonar-meshconfig-agent.service.\n",
      "Created symlink from /etc/systemd/system/multi-user.target.wants/pscheduler-ticker.service to /usr/lib/systemd/system/pscheduler-ticker.service.\n",
      "Created symlink from /etc/systemd/system/multi-user.target.wants/pscheduler-runner.service to /usr/lib/systemd/system/pscheduler-runner.service.\n",
      "Created symlink from /etc/systemd/system/multi-user.target.wants/pscheduler-archiver.service to /usr/lib/systemd/system/pscheduler-archiver.service.\n",
      "Created symlink from /etc/systemd/system/multi-user.target.wants/pscheduler-scheduler.service to /usr/lib/systemd/system/pscheduler-scheduler.service.\n",
      "Created symlink from /etc/systemd/system/multi-user.target.wants/httpd.service to /usr/lib/systemd/system/httpd.service.\n",
      "ERROR:  ImportError: No module named 'requests.packages.urllib3'\n",
      "CONTEXT:  Traceback (most recent call last):\n",
      "  PL/Python function \"pscheduler_internal\", line 3, in <module>\n",
      "    import pscheduler\n",
      "  PL/Python function \"pscheduler_internal\", line 4, in <module>\n",
      "  PL/Python function \"pscheduler_internal\", line 16, in <module>\n",
      "  PL/Python function \"pscheduler_internal\", line 7, in <module>\n",
      "  PL/Python function \"pscheduler_internal\", line 57, in <module>\n",
      "  PL/Python function \"pscheduler_internal\", line 31, in <module>\n",
      "  PL/Python function \"pscheduler_internal\", line 9, in <module>\n",
      "  PL/Python function \"pscheduler_internal\", line 94, in load_module\n",
      "PL/Python function \"pscheduler_internal\"\n",
      "PL/pgSQL function test_boot() line 10 at assignment\n",
      "SQL statement \"SELECT test_boot()\"\n",
      "PL/pgSQL function warm_boot() line 4 at PERFORM\n",
      "SQL statement \"SELECT warm_boot()\"\n",
      "PL/pgSQL function inline_code_block line 3 at PERFORM\n",
      "warning: %post(pscheduler-test-throughput-1.0.2.3-1.el7.centos.noarch) scriptlet failed, exit status 3\n",
      "Non-fatal POSTIN scriptlet failure in rpm package pscheduler-test-throughput-1.0.2.3-1.el7.centos.noarch\n",
      "ERROR:  ImportError: No module named 'requests.packages.urllib3'\n",
      "CONTEXT:  Traceback (most recent call last):\n",
      "  PL/Python function \"pscheduler_internal\", line 3, in <module>\n",
      "    import pscheduler\n",
      "  PL/Python function \"pscheduler_internal\", line 4, in <module>\n",
      "  PL/Python function \"pscheduler_internal\", line 16, in <module>\n",
      "  PL/Python function \"pscheduler_internal\", line 7, in <module>\n",
      "  PL/Python function \"pscheduler_internal\", line 57, in <module>\n",
      "  PL/Python function \"pscheduler_internal\", line 31, in <module>\n",
      "  PL/Python function \"pscheduler_internal\", line 9, in <module>\n",
      "  PL/Python function \"pscheduler_internal\", line 94, in load_module\n",
      "PL/Python function \"pscheduler_internal\"\n",
      "PL/pgSQL function test_boot() line 10 at assignment\n",
      "SQL statement \"SELECT test_boot()\"\n",
      "PL/pgSQL function warm_boot() line 4 at PERFORM\n",
      "SQL statement \"SELECT warm_boot()\"\n",
      "PL/pgSQL function inline_code_block line 3 at PERFORM\n",
      "warning: %post(pscheduler-test-trace-1.0.2.3-1.el7.centos.noarch) scriptlet failed, exit status 3\n",
      "Non-fatal POSTIN scriptlet failure in rpm package pscheduler-test-trace-1.0.2.3-1.el7.centos.noarch\n",
      "ERROR:  ImportError: No module named 'requests.packages.urllib3'\n",
      "CONTEXT:  Traceback (most recent call last):\n",
      "  PL/Python function \"pscheduler_internal\", line 3, in <module>\n",
      "    import pscheduler\n",
      "  PL/Python function \"pscheduler_internal\", line 4, in <module>\n",
      "  PL/Python function \"pscheduler_internal\", line 16, in <module>\n",
      "  PL/Python function \"pscheduler_internal\", line 7, in <module>\n",
      "  PL/Python function \"pscheduler_internal\", line 57, in <module>\n",
      "  PL/Python function \"pscheduler_internal\", line 31, in <module>\n",
      "  PL/Python function \"pscheduler_internal\", line 9, in <module>\n",
      "  PL/Python function \"pscheduler_internal\", line 94, in load_module\n",
      "PL/Python function \"pscheduler_internal\"\n",
      "PL/pgSQL function test_boot() line 10 at assignment\n",
      "SQL statement \"SELECT test_boot()\"\n",
      "PL/pgSQL function warm_boot() line 4 at PERFORM\n",
      "SQL statement \"SELECT warm_boot()\"\n",
      "PL/pgSQL function inline_code_block line 3 at PERFORM\n",
      "warning: %post(pscheduler-test-idle-1.0.2.3-1.el7.centos.noarch) scriptlet failed, exit status 3\n",
      "Non-fatal POSTIN scriptlet failure in rpm package pscheduler-test-idle-1.0.2.3-1.el7.centos.noarch\n",
      "ERROR:  ImportError: No module named 'requests.packages.urllib3'\n",
      "CONTEXT:  Traceback (most recent call last):\n",
      "  PL/Python function \"pscheduler_internal\", line 3, in <module>\n",
      "    import pscheduler\n",
      "  PL/Python function \"pscheduler_internal\", line 4, in <module>\n",
      "  PL/Python function \"pscheduler_internal\", line 16, in <module>\n",
      "  PL/Python function \"pscheduler_internal\", line 7, in <module>\n",
      "  PL/Python function \"pscheduler_internal\", line 57, in <module>\n",
      "  PL/Python function \"pscheduler_internal\", line 31, in <module>\n",
      "  PL/Python function \"pscheduler_internal\", line 9, in <module>\n",
      "  PL/Python function \"pscheduler_internal\", line 94, in load_module\n",
      "PL/Python function \"pscheduler_internal\"\n",
      "PL/pgSQL function test_boot() line 10 at assignment\n",
      "SQL statement \"SELECT test_boot()\"\n",
      "PL/pgSQL function warm_boot() line 4 at PERFORM\n",
      "SQL statement \"SELECT warm_boot()\"\n",
      "PL/pgSQL function inline_code_block line 3 at PERFORM\n",
      "warning: %post(pscheduler-test-rtt-1.0.2.3-1.el7.centos.noarch) scriptlet failed, exit status 3\n",
      "Non-fatal POSTIN scriptlet failure in rpm package pscheduler-test-rtt-1.0.2.3-1.el7.centos.noarch\n",
      "ERROR:  ImportError: No module named 'requests.packages.urllib3'\n",
      "CONTEXT:  Traceback (most recent call last):\n",
      "  PL/Python function \"pscheduler_internal\", line 3, in <module>\n",
      "    import pscheduler\n",
      "  PL/Python function \"pscheduler_internal\", line 4, in <module>\n",
      "  PL/Python function \"pscheduler_internal\", line 16, in <module>\n",
      "  PL/Python function \"pscheduler_internal\", line 7, in <module>\n",
      "  PL/Python function \"pscheduler_internal\", line 57, in <module>\n",
      "  PL/Python function \"pscheduler_internal\", line 31, in <module>\n",
      "  PL/Python function \"pscheduler_internal\", line 9, in <module>\n",
      "  PL/Python function \"pscheduler_internal\", line 94, in load_module\n",
      "PL/Python function \"pscheduler_internal\"\n",
      "PL/pgSQL function test_boot() line 10 at assignment\n",
      "SQL statement \"SELECT test_boot()\"\n",
      "PL/pgSQL function warm_boot() line 4 at PERFORM\n",
      "SQL statement \"SELECT warm_boot()\"\n",
      "PL/pgSQL function inline_code_block line 3 at PERFORM\n",
      "warning: %post(pscheduler-test-dns-1.0.2.3-1.el7.centos.noarch) scriptlet failed, exit status 3\n",
      "Non-fatal POSTIN scriptlet failure in rpm package pscheduler-test-dns-1.0.2.3-1.el7.centos.noarch\n",
      "ERROR:  ImportError: No module named 'requests.packages.urllib3'\n",
      "CONTEXT:  Traceback (most recent call last):\n",
      "  PL/Python function \"pscheduler_internal\", line 3, in <module>\n",
      "    import pscheduler\n",
      "  PL/Python function \"pscheduler_internal\", line 4, in <module>\n",
      "  PL/Python function \"pscheduler_internal\", line 16, in <module>\n",
      "  PL/Python function \"pscheduler_internal\", line 7, in <module>\n",
      "  PL/Python function \"pscheduler_internal\", line 57, in <module>\n",
      "  PL/Python function \"pscheduler_internal\", line 31, in <module>\n",
      "  PL/Python function \"pscheduler_internal\", line 9, in <module>\n",
      "  PL/Python function \"pscheduler_internal\", line 94, in load_module\n",
      "PL/Python function \"pscheduler_internal\"\n",
      "PL/pgSQL function test_boot() line 10 at assignment\n",
      "SQL statement \"SELECT test_boot()\"\n",
      "PL/pgSQL function warm_boot() line 4 at PERFORM\n",
      "SQL statement \"SELECT warm_boot()\"\n",
      "PL/pgSQL function inline_code_block line 3 at PERFORM\n",
      "warning: %post(pscheduler-test-latency-1.0.2.3-1.el7.centos.noarch) scriptlet failed, exit status 3\n",
      "Non-fatal POSTIN scriptlet failure in rpm package pscheduler-test-latency-1.0.2.3-1.el7.centos.noarch\n",
      "ERROR:  ImportError: No module named 'requests.packages.urllib3'\n",
      "CONTEXT:  Traceback (most recent call last):\n",
      "  PL/Python function \"pscheduler_internal\", line 3, in <module>\n",
      "    import pscheduler\n",
      "  PL/Python function \"pscheduler_internal\", line 4, in <module>\n",
      "  PL/Python function \"pscheduler_internal\", line 16, in <module>\n",
      "  PL/Python function \"pscheduler_internal\", line 7, in <module>\n",
      "  PL/Python function \"pscheduler_internal\", line 57, in <module>\n",
      "  PL/Python function \"pscheduler_internal\", line 31, in <module>\n",
      "  PL/Python function \"pscheduler_internal\", line 9, in <module>\n",
      "  PL/Python function \"pscheduler_internal\", line 94, in load_module\n",
      "PL/Python function \"pscheduler_internal\"\n",
      "PL/pgSQL function test_boot() line 10 at assignment\n",
      "SQL statement \"SELECT test_boot()\"\n",
      "PL/pgSQL function warm_boot() line 4 at PERFORM\n",
      "SQL statement \"SELECT warm_boot()\"\n",
      "PL/pgSQL function inline_code_block line 3 at PERFORM\n",
      "warning: %post(pscheduler-test-simplestream-1.0.2.3-1.el7.centos.noarch) scriptlet failed, exit status 3\n",
      "Non-fatal POSTIN scriptlet failure in rpm package pscheduler-test-simplestream-1.0.2.3-1.el7.centos.noarch\n",
      "ERROR:  ImportError: No module named 'requests.packages.urllib3'\n",
      "CONTEXT:  Traceback (most recent call last):\n",
      "  PL/Python function \"pscheduler_internal\", line 3, in <module>\n",
      "    import pscheduler\n",
      "  PL/Python function \"pscheduler_internal\", line 4, in <module>\n",
      "  PL/Python function \"pscheduler_internal\", line 16, in <module>\n",
      "  PL/Python function \"pscheduler_internal\", line 7, in <module>\n",
      "  PL/Python function \"pscheduler_internal\", line 57, in <module>\n",
      "  PL/Python function \"pscheduler_internal\", line 31, in <module>\n",
      "  PL/Python function \"pscheduler_internal\", line 9, in <module>\n",
      "  PL/Python function \"pscheduler_internal\", line 94, in load_module\n",
      "PL/Python function \"pscheduler_internal\"\n",
      "PL/pgSQL function test_boot() line 10 at assignment\n",
      "SQL statement \"SELECT test_boot()\"\n",
      "PL/pgSQL function warm_boot() line 4 at PERFORM\n",
      "SQL statement \"SELECT warm_boot()\"\n",
      "PL/pgSQL function inline_code_block line 3 at PERFORM\n",
      "warning: %post(pscheduler-test-latencybg-1.0.2.3-1.el7.centos.noarch) scriptlet failed, exit status 3\n",
      "Non-fatal POSTIN scriptlet failure in rpm package pscheduler-test-latencybg-1.0.2.3-1.el7.centos.noarch\n",
      "ERROR:  ImportError: No module named 'requests.packages.urllib3'\n",
      "CONTEXT:  Traceback (most recent call last):\n",
      "  PL/Python function \"pscheduler_internal\", line 3, in <module>\n",
      "    import pscheduler\n",
      "  PL/Python function \"pscheduler_internal\", line 4, in <module>\n",
      "  PL/Python function \"pscheduler_internal\", line 16, in <module>\n",
      "  PL/Python function \"pscheduler_internal\", line 7, in <module>\n",
      "  PL/Python function \"pscheduler_internal\", line 57, in <module>\n",
      "  PL/Python function \"pscheduler_internal\", line 31, in <module>\n",
      "  PL/Python function \"pscheduler_internal\", line 9, in <module>\n",
      "  PL/Python function \"pscheduler_internal\", line 94, in load_module\n",
      "PL/Python function \"pscheduler_internal\"\n",
      "PL/pgSQL function test_boot() line 10 at assignment\n",
      "SQL statement \"SELECT test_boot()\"\n",
      "PL/pgSQL function warm_boot() line 4 at PERFORM\n",
      "SQL statement \"SELECT warm_boot()\"\n",
      "PL/pgSQL function inline_code_block line 3 at PERFORM\n",
      "warning: %post(pscheduler-tool-powstream-1.0.2.3-1.el7.centos.noarch) scriptlet failed, exit status 3\n",
      "Non-fatal POSTIN scriptlet failure in rpm package pscheduler-tool-powstream-1.0.2.3-1.el7.centos.noarch\n",
      "ERROR:  ImportError: No module named 'requests.packages.urllib3'\n",
      "CONTEXT:  Traceback (most recent call last):\n",
      "  PL/Python function \"pscheduler_internal\", line 3, in <module>\n",
      "    import pscheduler\n",
      "  PL/Python function \"pscheduler_internal\", line 4, in <module>\n",
      "  PL/Python function \"pscheduler_internal\", line 16, in <module>\n",
      "  PL/Python function \"pscheduler_internal\", line 7, in <module>\n",
      "  PL/Python function \"pscheduler_internal\", line 57, in <module>\n",
      "  PL/Python function \"pscheduler_internal\", line 31, in <module>\n",
      "  PL/Python function \"pscheduler_internal\", line 9, in <module>\n",
      "  PL/Python function \"pscheduler_internal\", line 94, in load_module\n",
      "PL/Python function \"pscheduler_internal\"\n",
      "PL/pgSQL function test_boot() line 10 at assignment\n",
      "SQL statement \"SELECT test_boot()\"\n",
      "PL/pgSQL function warm_boot() line 4 at PERFORM\n",
      "SQL statement \"SELECT warm_boot()\"\n",
      "PL/pgSQL function inline_code_block line 3 at PERFORM\n",
      "warning: %post(pscheduler-tool-simplestreamer-1.0.2.3-1.el7.centos.noarch) scriptlet failed, exit status 3\n",
      "Non-fatal POSTIN scriptlet failure in rpm package pscheduler-tool-simplestreamer-1.0.2.3-1.el7.centos.noarch\n",
      "ERROR:  ImportError: No module named 'requests.packages.urllib3'\n",
      "CONTEXT:  Traceback (most recent call last):\n",
      "  PL/Python function \"pscheduler_internal\", line 3, in <module>\n",
      "    import pscheduler\n",
      "  PL/Python function \"pscheduler_internal\", line 4, in <module>\n",
      "  PL/Python function \"pscheduler_internal\", line 16, in <module>\n",
      "  PL/Python function \"pscheduler_internal\", line 7, in <module>\n",
      "  PL/Python function \"pscheduler_internal\", line 57, in <module>\n",
      "  PL/Python function \"pscheduler_internal\", line 31, in <module>\n",
      "  PL/Python function \"pscheduler_internal\", line 9, in <module>\n",
      "  PL/Python function \"pscheduler_internal\", line 94, in load_module\n",
      "PL/Python function \"pscheduler_internal\"\n",
      "PL/pgSQL function test_boot() line 10 at assignment\n",
      "SQL statement \"SELECT test_boot()\"\n",
      "PL/pgSQL function warm_boot() line 4 at PERFORM\n",
      "SQL statement \"SELECT warm_boot()\"\n",
      "PL/pgSQL function inline_code_block line 3 at PERFORM\n",
      "warning: %post(pscheduler-tool-owping-1.0.2.3-1.el7.centos.noarch) scriptlet failed, exit status 3\n",
      "Non-fatal POSTIN scriptlet failure in rpm package pscheduler-tool-owping-1.0.2.3-1.el7.centos.noarch\n",
      "ERROR:  ImportError: No module named 'requests.packages.urllib3'\n",
      "CONTEXT:  Traceback (most recent call last):\n",
      "  PL/Python function \"pscheduler_internal\", line 3, in <module>\n",
      "    import pscheduler\n",
      "  PL/Python function \"pscheduler_internal\", line 4, in <module>\n",
      "  PL/Python function \"pscheduler_internal\", line 16, in <module>\n",
      "  PL/Python function \"pscheduler_internal\", line 7, in <module>\n",
      "  PL/Python function \"pscheduler_internal\", line 57, in <module>\n",
      "  PL/Python function \"pscheduler_internal\", line 31, in <module>\n",
      "  PL/Python function \"pscheduler_internal\", line 9, in <module>\n",
      "  PL/Python function \"pscheduler_internal\", line 94, in load_module\n",
      "PL/Python function \"pscheduler_internal\"\n",
      "PL/pgSQL function test_boot() line 10 at assignment\n",
      "SQL statement \"SELECT test_boot()\"\n",
      "PL/pgSQL function warm_boot() line 4 at PERFORM\n",
      "SQL statement \"SELECT warm_boot()\"\n",
      "PL/pgSQL function inline_code_block line 3 at PERFORM\n",
      "warning: %post(pscheduler-tool-dnspy-1.0.2.3-1.el7.centos.noarch) scriptlet failed, exit status 3\n",
      "Non-fatal POSTIN scriptlet failure in rpm package pscheduler-tool-dnspy-1.0.2.3-1.el7.centos.noarch\n",
      "ERROR:  ImportError: No module named 'requests.packages.urllib3'\n",
      "CONTEXT:  Traceback (most recent call last):\n",
      "  PL/Python function \"pscheduler_internal\", line 3, in <module>\n",
      "    import pscheduler\n",
      "  PL/Python function \"pscheduler_internal\", line 4, in <module>\n",
      "  PL/Python function \"pscheduler_internal\", line 16, in <module>\n",
      "  PL/Python function \"pscheduler_internal\", line 7, in <module>\n",
      "  PL/Python function \"pscheduler_internal\", line 57, in <module>\n",
      "  PL/Python function \"pscheduler_internal\", line 31, in <module>\n",
      "  PL/Python function \"pscheduler_internal\", line 9, in <module>\n",
      "  PL/Python function \"pscheduler_internal\", line 94, in load_module\n",
      "PL/Python function \"pscheduler_internal\"\n",
      "PL/pgSQL function test_boot() line 10 at assignment\n",
      "SQL statement \"SELECT test_boot()\"\n",
      "PL/pgSQL function warm_boot() line 4 at PERFORM\n",
      "SQL statement \"SELECT warm_boot()\"\n",
      "PL/pgSQL function inline_code_block line 3 at PERFORM\n",
      "warning: %post(pscheduler-tool-ping-1.0.2.3-1.el7.centos.noarch) scriptlet failed, exit status 3\n",
      "Non-fatal POSTIN scriptlet failure in rpm package pscheduler-tool-ping-1.0.2.3-1.el7.centos.noarch\n",
      "ERROR:  ImportError: No module named 'requests.packages.urllib3'\n",
      "CONTEXT:  Traceback (most recent call last):\n",
      "  PL/Python function \"pscheduler_internal\", line 3, in <module>\n",
      "    import pscheduler\n",
      "  PL/Python function \"pscheduler_internal\", line 4, in <module>\n",
      "  PL/Python function \"pscheduler_internal\", line 16, in <module>\n",
      "  PL/Python function \"pscheduler_internal\", line 7, in <module>\n",
      "  PL/Python function \"pscheduler_internal\", line 57, in <module>\n",
      "  PL/Python function \"pscheduler_internal\", line 31, in <module>\n",
      "  PL/Python function \"pscheduler_internal\", line 9, in <module>\n",
      "  PL/Python function \"pscheduler_internal\", line 94, in load_module\n",
      "PL/Python function \"pscheduler_internal\"\n",
      "PL/pgSQL function test_boot() line 10 at assignment\n",
      "SQL statement \"SELECT test_boot()\"\n",
      "PL/pgSQL function warm_boot() line 4 at PERFORM\n",
      "SQL statement \"SELECT warm_boot()\"\n",
      "PL/pgSQL function inline_code_block line 3 at PERFORM\n",
      "warning: %post(pscheduler-tool-bwctlping-1.0.2.3-1.el7.centos.noarch) scriptlet failed, exit status 3\n",
      "Non-fatal POSTIN scriptlet failure in rpm package pscheduler-tool-bwctlping-1.0.2.3-1.el7.centos.noarch\n",
      "ERROR:  ImportError: No module named 'requests.packages.urllib3'\n",
      "CONTEXT:  Traceback (most recent call last):\n",
      "  PL/Python function \"pscheduler_internal\", line 3, in <module>\n",
      "    import pscheduler\n",
      "  PL/Python function \"pscheduler_internal\", line 4, in <module>\n",
      "  PL/Python function \"pscheduler_internal\", line 16, in <module>\n",
      "  PL/Python function \"pscheduler_internal\", line 7, in <module>\n",
      "  PL/Python function \"pscheduler_internal\", line 57, in <module>\n",
      "  PL/Python function \"pscheduler_internal\", line 31, in <module>\n",
      "  PL/Python function \"pscheduler_internal\", line 9, in <module>\n",
      "  PL/Python function \"pscheduler_internal\", line 94, in load_module\n",
      "PL/Python function \"pscheduler_internal\"\n",
      "PL/pgSQL function test_boot() line 10 at assignment\n",
      "SQL statement \"SELECT test_boot()\"\n",
      "PL/pgSQL function warm_boot() line 4 at PERFORM\n",
      "SQL statement \"SELECT warm_boot()\"\n",
      "PL/pgSQL function inline_code_block line 3 at PERFORM\n",
      "warning: %post(pscheduler-tool-snooze-1.0.2.3-1.el7.centos.noarch) scriptlet failed, exit status 3\n",
      "Non-fatal POSTIN scriptlet failure in rpm package pscheduler-tool-snooze-1.0.2.3-1.el7.centos.noarch\n",
      "ERROR:  ImportError: No module named 'requests.packages.urllib3'\n",
      "CONTEXT:  Traceback (most recent call last):\n",
      "  PL/Python function \"pscheduler_internal\", line 3, in <module>\n",
      "    import pscheduler\n",
      "  PL/Python function \"pscheduler_internal\", line 4, in <module>\n",
      "  PL/Python function \"pscheduler_internal\", line 16, in <module>\n",
      "  PL/Python function \"pscheduler_internal\", line 7, in <module>\n",
      "  PL/Python function \"pscheduler_internal\", line 57, in <module>\n",
      "  PL/Python function \"pscheduler_internal\", line 31, in <module>\n",
      "  PL/Python function \"pscheduler_internal\", line 9, in <module>\n",
      "  PL/Python function \"pscheduler_internal\", line 94, in load_module\n",
      "PL/Python function \"pscheduler_internal\"\n",
      "PL/pgSQL function test_boot() line 10 at assignment\n",
      "SQL statement \"SELECT test_boot()\"\n",
      "PL/pgSQL function warm_boot() line 4 at PERFORM\n",
      "SQL statement \"SELECT warm_boot()\"\n",
      "PL/pgSQL function inline_code_block line 3 at PERFORM\n",
      "warning: %post(pscheduler-tool-sleep-1.0.2.3-1.el7.centos.noarch) scriptlet failed, exit status 3\n",
      "Non-fatal POSTIN scriptlet failure in rpm package pscheduler-tool-sleep-1.0.2.3-1.el7.centos.noarch\n",
      "ERROR:  ImportError: No module named 'requests.packages.urllib3'\n",
      "CONTEXT:  Traceback (most recent call last):\n",
      "  PL/Python function \"pscheduler_internal\", line 3, in <module>\n",
      "    import pscheduler\n",
      "  PL/Python function \"pscheduler_internal\", line 4, in <module>\n",
      "  PL/Python function \"pscheduler_internal\", line 16, in <module>\n",
      "  PL/Python function \"pscheduler_internal\", line 7, in <module>\n",
      "  PL/Python function \"pscheduler_internal\", line 57, in <module>\n",
      "  PL/Python function \"pscheduler_internal\", line 31, in <module>\n",
      "  PL/Python function \"pscheduler_internal\", line 9, in <module>\n",
      "  PL/Python function \"pscheduler_internal\", line 94, in load_module\n",
      "PL/Python function \"pscheduler_internal\"\n",
      "PL/pgSQL function test_boot() line 10 at assignment\n",
      "SQL statement \"SELECT test_boot()\"\n",
      "PL/pgSQL function warm_boot() line 4 at PERFORM\n",
      "SQL statement \"SELECT warm_boot()\"\n",
      "PL/pgSQL function inline_code_block line 3 at PERFORM\n",
      "warning: %post(pscheduler-tool-psclock-1.0.2.3-1.el7.centos.noarch) scriptlet failed, exit status 3\n",
      "Non-fatal POSTIN scriptlet failure in rpm package pscheduler-tool-psclock-1.0.2.3-1.el7.centos.noarch\n",
      "ERROR:  ImportError: No module named 'requests.packages.urllib3'\n",
      "CONTEXT:  Traceback (most recent call last):\n",
      "  PL/Python function \"pscheduler_internal\", line 3, in <module>\n",
      "    import pscheduler\n",
      "  PL/Python function \"pscheduler_internal\", line 4, in <module>\n",
      "  PL/Python function \"pscheduler_internal\", line 16, in <module>\n",
      "  PL/Python function \"pscheduler_internal\", line 7, in <module>\n",
      "  PL/Python function \"pscheduler_internal\", line 57, in <module>\n",
      "  PL/Python function \"pscheduler_internal\", line 31, in <module>\n",
      "  PL/Python function \"pscheduler_internal\", line 9, in <module>\n",
      "  PL/Python function \"pscheduler_internal\", line 94, in load_module\n",
      "PL/Python function \"pscheduler_internal\"\n",
      "PL/pgSQL function test_boot() line 10 at assignment\n",
      "SQL statement \"SELECT test_boot()\"\n",
      "PL/pgSQL function warm_boot() line 4 at PERFORM\n",
      "SQL statement \"SELECT warm_boot()\"\n",
      "PL/pgSQL function inline_code_block line 3 at PERFORM\n",
      "warning: %post(pscheduler-tool-sleepbgm-1.0.2.3-1.el7.centos.noarch) scriptlet failed, exit status 3\n",
      "Non-fatal POSTIN scriptlet failure in rpm package pscheduler-tool-sleepbgm-1.0.2.3-1.el7.centos.noarch\n",
      "ERROR:  ImportError: No module named 'requests.packages.urllib3'\n",
      "CONTEXT:  Traceback (most recent call last):\n",
      "  PL/Python function \"pscheduler_internal\", line 3, in <module>\n",
      "    import pscheduler\n",
      "  PL/Python function \"pscheduler_internal\", line 4, in <module>\n",
      "  PL/Python function \"pscheduler_internal\", line 16, in <module>\n",
      "  PL/Python function \"pscheduler_internal\", line 7, in <module>\n",
      "  PL/Python function \"pscheduler_internal\", line 57, in <module>\n",
      "  PL/Python function \"pscheduler_internal\", line 31, in <module>\n",
      "  PL/Python function \"pscheduler_internal\", line 9, in <module>\n",
      "  PL/Python function \"pscheduler_internal\", line 94, in load_module\n",
      "PL/Python function \"pscheduler_internal\"\n",
      "PL/pgSQL function test_boot() line 10 at assignment\n",
      "SQL statement \"SELECT test_boot()\"\n",
      "PL/pgSQL function warm_boot() line 4 at PERFORM\n",
      "SQL statement \"SELECT warm_boot()\"\n",
      "PL/pgSQL function inline_code_block line 3 at PERFORM\n",
      "warning: %post(pscheduler-tool-tracepath-1.0.2.3-1.el7.centos.noarch) scriptlet failed, exit status 3\n",
      "Non-fatal POSTIN scriptlet failure in rpm package pscheduler-tool-tracepath-1.0.2.3-1.el7.centos.noarch\n",
      "ERROR:  ImportError: No module named 'requests.packages.urllib3'\n",
      "CONTEXT:  Traceback (most recent call last):\n",
      "  PL/Python function \"pscheduler_internal\", line 3, in <module>\n",
      "    import pscheduler\n",
      "  PL/Python function \"pscheduler_internal\", line 4, in <module>\n",
      "  PL/Python function \"pscheduler_internal\", line 16, in <module>\n",
      "  PL/Python function \"pscheduler_internal\", line 7, in <module>\n",
      "  PL/Python function \"pscheduler_internal\", line 57, in <module>\n",
      "  PL/Python function \"pscheduler_internal\", line 31, in <module>\n",
      "  PL/Python function \"pscheduler_internal\", line 9, in <module>\n",
      "  PL/Python function \"pscheduler_internal\", line 94, in load_module\n",
      "PL/Python function \"pscheduler_internal\"\n",
      "PL/pgSQL function test_boot() line 10 at assignment\n",
      "SQL statement \"SELECT test_boot()\"\n",
      "PL/pgSQL function warm_boot() line 4 at PERFORM\n",
      "SQL statement \"SELECT warm_boot()\"\n",
      "PL/pgSQL function inline_code_block line 3 at PERFORM\n",
      "warning: %post(pscheduler-tool-traceroute-1.0.2.3-1.el7.centos.noarch) scriptlet failed, exit status 3\n",
      "Non-fatal POSTIN scriptlet failure in rpm package pscheduler-tool-traceroute-1.0.2.3-1.el7.centos.noarch\n",
      "ERROR:  ImportError: No module named 'requests.packages.urllib3'\n",
      "CONTEXT:  Traceback (most recent call last):\n",
      "  PL/Python function \"pscheduler_internal\", line 3, in <module>\n",
      "    import pscheduler\n",
      "  PL/Python function \"pscheduler_internal\", line 4, in <module>\n",
      "  PL/Python function \"pscheduler_internal\", line 16, in <module>\n",
      "  PL/Python function \"pscheduler_internal\", line 7, in <module>\n",
      "  PL/Python function \"pscheduler_internal\", line 57, in <module>\n",
      "  PL/Python function \"pscheduler_internal\", line 31, in <module>\n",
      "  PL/Python function \"pscheduler_internal\", line 9, in <module>\n",
      "  PL/Python function \"pscheduler_internal\", line 94, in load_module\n",
      "PL/Python function \"pscheduler_internal\"\n",
      "PL/pgSQL function test_boot() line 10 at assignment\n",
      "SQL statement \"SELECT test_boot()\"\n",
      "PL/pgSQL function warm_boot() line 4 at PERFORM\n",
      "SQL statement \"SELECT warm_boot()\"\n",
      "PL/pgSQL function inline_code_block line 3 at PERFORM\n",
      "warning: %post(pscheduler-tool-bwctltracepath-1.0.2.3-1.el7.centos.noarch) scriptlet failed, exit status 3\n",
      "Non-fatal POSTIN scriptlet failure in rpm package pscheduler-tool-bwctltracepath-1.0.2.3-1.el7.centos.noarch\n",
      "ERROR:  ImportError: No module named 'requests.packages.urllib3'\n",
      "CONTEXT:  Traceback (most recent call last):\n",
      "  PL/Python function \"pscheduler_internal\", line 3, in <module>\n",
      "    import pscheduler\n",
      "  PL/Python function \"pscheduler_internal\", line 4, in <module>\n",
      "  PL/Python function \"pscheduler_internal\", line 16, in <module>\n",
      "  PL/Python function \"pscheduler_internal\", line 7, in <module>\n",
      "  PL/Python function \"pscheduler_internal\", line 57, in <module>\n",
      "  PL/Python function \"pscheduler_internal\", line 31, in <module>\n",
      "  PL/Python function \"pscheduler_internal\", line 9, in <module>\n",
      "  PL/Python function \"pscheduler_internal\", line 94, in load_module\n",
      "PL/Python function \"pscheduler_internal\"\n",
      "PL/pgSQL function test_boot() line 10 at assignment\n",
      "SQL statement \"SELECT test_boot()\"\n",
      "PL/pgSQL function warm_boot() line 4 at PERFORM\n",
      "SQL statement \"SELECT warm_boot()\"\n",
      "PL/pgSQL function inline_code_block line 3 at PERFORM\n",
      "warning: %post(pscheduler-tool-bwctltraceroute-1.0.2.3-1.el7.centos.noarch) scriptlet failed, exit status 3\n",
      "Non-fatal POSTIN scriptlet failure in rpm package pscheduler-tool-bwctltraceroute-1.0.2.3-1.el7.centos.noarch\n",
      "ERROR:  ImportError: No module named 'requests.packages.urllib3'\n",
      "CONTEXT:  Traceback (most recent call last):\n",
      "  PL/Python function \"pscheduler_internal\", line 3, in <module>\n",
      "    import pscheduler\n",
      "  PL/Python function \"pscheduler_internal\", line 4, in <module>\n",
      "  PL/Python function \"pscheduler_internal\", line 16, in <module>\n",
      "  PL/Python function \"pscheduler_internal\", line 7, in <module>\n",
      "  PL/Python function \"pscheduler_internal\", line 57, in <module>\n",
      "  PL/Python function \"pscheduler_internal\", line 31, in <module>\n",
      "  PL/Python function \"pscheduler_internal\", line 9, in <module>\n",
      "  PL/Python function \"pscheduler_internal\", line 94, in load_module\n",
      "PL/Python function \"pscheduler_internal\"\n",
      "PL/pgSQL function test_boot() line 10 at assignment\n",
      "SQL statement \"SELECT test_boot()\"\n",
      "PL/pgSQL function warm_boot() line 4 at PERFORM\n",
      "SQL statement \"SELECT warm_boot()\"\n",
      "PL/pgSQL function inline_code_block line 3 at PERFORM\n",
      "warning: %post(pscheduler-tool-paris-traceroute-1.0.2.3-1.el7.centos.noarch) scriptlet failed, exit status 3\n",
      "Non-fatal POSTIN scriptlet failure in rpm package pscheduler-tool-paris-traceroute-1.0.2.3-1.el7.centos.noarch\n",
      "ERROR:  ImportError: No module named 'requests.packages.urllib3'\n",
      "CONTEXT:  Traceback (most recent call last):\n",
      "  PL/Python function \"pscheduler_internal\", line 3, in <module>\n",
      "    import pscheduler\n",
      "  PL/Python function \"pscheduler_internal\", line 4, in <module>\n",
      "  PL/Python function \"pscheduler_internal\", line 16, in <module>\n",
      "  PL/Python function \"pscheduler_internal\", line 7, in <module>\n",
      "  PL/Python function \"pscheduler_internal\", line 57, in <module>\n",
      "  PL/Python function \"pscheduler_internal\", line 31, in <module>\n",
      "  PL/Python function \"pscheduler_internal\", line 9, in <module>\n",
      "  PL/Python function \"pscheduler_internal\", line 94, in load_module\n",
      "PL/Python function \"pscheduler_internal\"\n",
      "PL/pgSQL function test_boot() line 10 at assignment\n",
      "SQL statement \"SELECT test_boot()\"\n",
      "PL/pgSQL function warm_boot() line 4 at PERFORM\n",
      "SQL statement \"SELECT warm_boot()\"\n",
      "PL/pgSQL function inline_code_block line 3 at PERFORM\n",
      "warning: %post(pscheduler-tool-nuttcp-1.0.2.3-1.el7.centos.noarch) scriptlet failed, exit status 3\n",
      "Non-fatal POSTIN scriptlet failure in rpm package pscheduler-tool-nuttcp-1.0.2.3-1.el7.centos.noarch\n",
      "ERROR:  ImportError: No module named 'requests.packages.urllib3'\n",
      "CONTEXT:  Traceback (most recent call last):\n",
      "  PL/Python function \"pscheduler_internal\", line 3, in <module>\n",
      "    import pscheduler\n",
      "  PL/Python function \"pscheduler_internal\", line 4, in <module>\n",
      "  PL/Python function \"pscheduler_internal\", line 16, in <module>\n",
      "  PL/Python function \"pscheduler_internal\", line 7, in <module>\n",
      "  PL/Python function \"pscheduler_internal\", line 57, in <module>\n",
      "  PL/Python function \"pscheduler_internal\", line 31, in <module>\n",
      "  PL/Python function \"pscheduler_internal\", line 9, in <module>\n",
      "  PL/Python function \"pscheduler_internal\", line 94, in load_module\n",
      "PL/Python function \"pscheduler_internal\"\n",
      "PL/pgSQL function test_boot() line 10 at assignment\n",
      "SQL statement \"SELECT test_boot()\"\n",
      "PL/pgSQL function warm_boot() line 4 at PERFORM\n",
      "SQL statement \"SELECT warm_boot()\"\n",
      "PL/pgSQL function inline_code_block line 3 at PERFORM\n",
      "warning: %post(pscheduler-tool-bwctliperf2-1.0.2.3-1.el7.centos.noarch) scriptlet failed, exit status 3\n",
      "Non-fatal POSTIN scriptlet failure in rpm package pscheduler-tool-bwctliperf2-1.0.2.3-1.el7.centos.noarch\n",
      "ERROR:  ImportError: No module named 'requests.packages.urllib3'\n",
      "CONTEXT:  Traceback (most recent call last):\n",
      "  PL/Python function \"pscheduler_internal\", line 3, in <module>\n",
      "    import pscheduler\n",
      "  PL/Python function \"pscheduler_internal\", line 4, in <module>\n",
      "  PL/Python function \"pscheduler_internal\", line 16, in <module>\n",
      "  PL/Python function \"pscheduler_internal\", line 7, in <module>\n",
      "  PL/Python function \"pscheduler_internal\", line 57, in <module>\n",
      "  PL/Python function \"pscheduler_internal\", line 31, in <module>\n",
      "  PL/Python function \"pscheduler_internal\", line 9, in <module>\n",
      "  PL/Python function \"pscheduler_internal\", line 94, in load_module\n",
      "PL/Python function \"pscheduler_internal\"\n",
      "PL/pgSQL function test_boot() line 10 at assignment\n",
      "SQL statement \"SELECT test_boot()\"\n",
      "PL/pgSQL function warm_boot() line 4 at PERFORM\n",
      "SQL statement \"SELECT warm_boot()\"\n",
      "PL/pgSQL function inline_code_block line 3 at PERFORM\n",
      "warning: %post(pscheduler-tool-iperf3-1.0.2.3-1.el7.centos.noarch) scriptlet failed, exit status 3\n",
      "Non-fatal POSTIN scriptlet failure in rpm package pscheduler-tool-iperf3-1.0.2.3-1.el7.centos.noarch\n",
      "ERROR:  ImportError: No module named 'requests.packages.urllib3'\n",
      "CONTEXT:  Traceback (most recent call last):\n",
      "  PL/Python function \"pscheduler_internal\", line 3, in <module>\n",
      "    import pscheduler\n",
      "  PL/Python function \"pscheduler_internal\", line 4, in <module>\n",
      "  PL/Python function \"pscheduler_internal\", line 16, in <module>\n",
      "  PL/Python function \"pscheduler_internal\", line 7, in <module>\n",
      "  PL/Python function \"pscheduler_internal\", line 57, in <module>\n",
      "  PL/Python function \"pscheduler_internal\", line 31, in <module>\n",
      "  PL/Python function \"pscheduler_internal\", line 9, in <module>\n",
      "  PL/Python function \"pscheduler_internal\", line 94, in load_module\n",
      "PL/Python function \"pscheduler_internal\"\n",
      "PL/pgSQL function test_boot() line 10 at assignment\n",
      "SQL statement \"SELECT test_boot()\"\n",
      "PL/pgSQL function warm_boot() line 4 at PERFORM\n",
      "SQL statement \"SELECT warm_boot()\"\n",
      "PL/pgSQL function inline_code_block line 3 at PERFORM\n",
      "warning: %post(pscheduler-tool-bwctliperf3-1.0.2.3-1.el7.centos.noarch) scriptlet failed, exit status 3\n",
      "Non-fatal POSTIN scriptlet failure in rpm package pscheduler-tool-bwctliperf3-1.0.2.3-1.el7.centos.noarch\n",
      "ERROR:  ImportError: No module named 'requests.packages.urllib3'\n",
      "CONTEXT:  Traceback (most recent call last):\n",
      "  PL/Python function \"pscheduler_internal\", line 3, in <module>\n",
      "    import pscheduler\n",
      "  PL/Python function \"pscheduler_internal\", line 4, in <module>\n",
      "  PL/Python function \"pscheduler_internal\", line 16, in <module>\n",
      "  PL/Python function \"pscheduler_internal\", line 7, in <module>\n",
      "  PL/Python function \"pscheduler_internal\", line 57, in <module>\n",
      "  PL/Python function \"pscheduler_internal\", line 31, in <module>\n",
      "  PL/Python function \"pscheduler_internal\", line 9, in <module>\n",
      "  PL/Python function \"pscheduler_internal\", line 94, in load_module\n",
      "PL/Python function \"pscheduler_internal\"\n",
      "PL/pgSQL function test_boot() line 10 at assignment\n",
      "SQL statement \"SELECT test_boot()\"\n",
      "PL/pgSQL function warm_boot() line 4 at PERFORM\n",
      "SQL statement \"SELECT warm_boot()\"\n",
      "PL/pgSQL function inline_code_block line 3 at PERFORM\n",
      "warning: %post(pscheduler-tool-iperf2-1.0.2.3-1.el7.centos.noarch) scriptlet failed, exit status 3\n",
      "Non-fatal POSTIN scriptlet failure in rpm package pscheduler-tool-iperf2-1.0.2.3-1.el7.centos.noarch\n",
      "ERROR:  ImportError: No module named 'requests.packages.urllib3'\n",
      "CONTEXT:  Traceback (most recent call last):\n",
      "  PL/Python function \"pscheduler_internal\", line 3, in <module>\n",
      "    import pscheduler\n",
      "  PL/Python function \"pscheduler_internal\", line 4, in <module>\n",
      "  PL/Python function \"pscheduler_internal\", line 16, in <module>\n",
      "  PL/Python function \"pscheduler_internal\", line 7, in <module>\n",
      "  PL/Python function \"pscheduler_internal\", line 57, in <module>\n",
      "  PL/Python function \"pscheduler_internal\", line 31, in <module>\n",
      "  PL/Python function \"pscheduler_internal\", line 9, in <module>\n",
      "  PL/Python function \"pscheduler_internal\", line 94, in load_module\n",
      "PL/Python function \"pscheduler_internal\"\n",
      "PL/pgSQL function test_boot() line 10 at assignment\n",
      "SQL statement \"SELECT test_boot()\"\n",
      "PL/pgSQL function warm_boot() line 4 at PERFORM\n",
      "SQL statement \"SELECT warm_boot()\"\n",
      "PL/pgSQL function inline_code_block line 3 at PERFORM\n",
      "Created symlink from /etc/systemd/system/multi-user.target.wants/memcached.service to /usr/lib/systemd/system/memcached.service.\n",
      "ERROR:  ImportError: No module named 'requests.packages.urllib3'\n",
      "CONTEXT:  Traceback (most recent call last):\n",
      "  PL/Python function \"pscheduler_internal\", line 3, in <module>\n",
      "    import pscheduler\n",
      "  PL/Python function \"pscheduler_internal\", line 4, in <module>\n",
      "  PL/Python function \"pscheduler_internal\", line 16, in <module>\n",
      "  PL/Python function \"pscheduler_internal\", line 7, in <module>\n",
      "  PL/Python function \"pscheduler_internal\", line 57, in <module>\n",
      "  PL/Python function \"pscheduler_internal\", line 31, in <module>\n",
      "  PL/Python function \"pscheduler_internal\", line 9, in <module>\n",
      "  PL/Python function \"pscheduler_internal\", line 94, in load_module\n",
      "PL/Python function \"pscheduler_internal\"\n",
      "PL/pgSQL function test_boot() line 10 at assignment\n",
      "SQL statement \"SELECT test_boot()\"\n",
      "PL/pgSQL function warm_boot() line 4 at PERFORM\n",
      "SQL statement \"SELECT warm_boot()\"\n",
      "PL/pgSQL function inline_code_block line 3 at PERFORM\n",
      "warning: %post(pscheduler-archiver-syslog-1.0.2.3-1.el7.centos.noarch) scriptlet failed, exit status 3\n",
      "Non-fatal POSTIN scriptlet failure in rpm package pscheduler-archiver-syslog-1.0.2.3-1.el7.centos.noarch\n",
      "ERROR:  ImportError: No module named 'requests.packages.urllib3'\n",
      "CONTEXT:  Traceback (most recent call last):\n",
      "  PL/Python function \"pscheduler_internal\", line 3, in <module>\n",
      "    import pscheduler\n",
      "  PL/Python function \"pscheduler_internal\", line 4, in <module>\n",
      "  PL/Python function \"pscheduler_internal\", line 16, in <module>\n",
      "  PL/Python function \"pscheduler_internal\", line 7, in <module>\n",
      "  PL/Python function \"pscheduler_internal\", line 57, in <module>\n",
      "  PL/Python function \"pscheduler_internal\", line 31, in <module>\n",
      "  PL/Python function \"pscheduler_internal\", line 9, in <module>\n",
      "  PL/Python function \"pscheduler_internal\", line 94, in load_module\n",
      "PL/Python function \"pscheduler_internal\"\n",
      "PL/pgSQL function test_boot() line 10 at assignment\n",
      "SQL statement \"SELECT test_boot()\"\n",
      "PL/pgSQL function warm_boot() line 4 at PERFORM\n",
      "SQL statement \"SELECT warm_boot()\"\n",
      "PL/pgSQL function inline_code_block line 3 at PERFORM\n",
      "warning: %post(pscheduler-context-linuxnns-1.0.2.3-1.el7.centos.noarch) scriptlet failed, exit status 3\n",
      "Non-fatal POSTIN scriptlet failure in rpm package pscheduler-context-linuxnns-1.0.2.3-1.el7.centos.noarch\n",
      "ERROR:  ImportError: No module named 'requests.packages.urllib3'\n",
      "CONTEXT:  Traceback (most recent call last):\n",
      "  PL/Python function \"pscheduler_internal\", line 3, in <module>\n",
      "    import pscheduler\n",
      "  PL/Python function \"pscheduler_internal\", line 4, in <module>\n",
      "  PL/Python function \"pscheduler_internal\", line 16, in <module>\n",
      "  PL/Python function \"pscheduler_internal\", line 7, in <module>\n",
      "  PL/Python function \"pscheduler_internal\", line 57, in <module>\n",
      "  PL/Python function \"pscheduler_internal\", line 31, in <module>\n",
      "  PL/Python function \"pscheduler_internal\", line 9, in <module>\n",
      "  PL/Python function \"pscheduler_internal\", line 94, in load_module\n",
      "PL/Python function \"pscheduler_internal\"\n",
      "PL/pgSQL function test_boot() line 10 at assignment\n",
      "SQL statement \"SELECT test_boot()\"\n",
      "PL/pgSQL function warm_boot() line 4 at PERFORM\n",
      "SQL statement \"SELECT warm_boot()\"\n",
      "PL/pgSQL function inline_code_block line 3 at PERFORM\n",
      "warning: %post(pscheduler-context-changenothing-1.0.2.3-1.el7.centos.noarch) scriptlet failed, exit status 3\n",
      "Non-fatal POSTIN scriptlet failure in rpm package pscheduler-context-changenothing-1.0.2.3-1.el7.centos.noarch\n",
      "ERROR:  ImportError: No module named 'requests.packages.urllib3'\n",
      "CONTEXT:  Traceback (most recent call last):\n",
      "  PL/Python function \"pscheduler_internal\", line 3, in <module>\n",
      "    import pscheduler\n",
      "  PL/Python function \"pscheduler_internal\", line 4, in <module>\n",
      "  PL/Python function \"pscheduler_internal\", line 16, in <module>\n",
      "  PL/Python function \"pscheduler_internal\", line 7, in <module>\n",
      "  PL/Python function \"pscheduler_internal\", line 57, in <module>\n",
      "  PL/Python function \"pscheduler_internal\", line 31, in <module>\n",
      "  PL/Python function \"pscheduler_internal\", line 9, in <module>\n",
      "  PL/Python function \"pscheduler_internal\", line 94, in load_module\n",
      "PL/Python function \"pscheduler_internal\"\n",
      "PL/pgSQL function test_boot() line 10 at assignment\n",
      "SQL statement \"SELECT test_boot()\"\n",
      "PL/pgSQL function warm_boot() line 4 at PERFORM\n",
      "SQL statement \"SELECT warm_boot()\"\n",
      "PL/pgSQL function inline_code_block line 3 at PERFORM\n",
      "warning: %post(pscheduler-test-idlebgm-1.0.2.3-1.el7.centos.noarch) scriptlet failed, exit status 3\n",
      "Non-fatal POSTIN scriptlet failure in rpm package pscheduler-test-idlebgm-1.0.2.3-1.el7.centos.noarch\n",
      "ERROR:  ImportError: No module named 'requests.packages.urllib3'\n",
      "CONTEXT:  Traceback (most recent call last):\n",
      "  PL/Python function \"pscheduler_internal\", line 3, in <module>\n",
      "    import pscheduler\n",
      "  PL/Python function \"pscheduler_internal\", line 4, in <module>\n",
      "  PL/Python function \"pscheduler_internal\", line 16, in <module>\n",
      "  PL/Python function \"pscheduler_internal\", line 7, in <module>\n",
      "  PL/Python function \"pscheduler_internal\", line 57, in <module>\n",
      "  PL/Python function \"pscheduler_internal\", line 31, in <module>\n",
      "  PL/Python function \"pscheduler_internal\", line 9, in <module>\n",
      "  PL/Python function \"pscheduler_internal\", line 94, in load_module\n",
      "PL/Python function \"pscheduler_internal\"\n",
      "PL/pgSQL function test_boot() line 10 at assignment\n",
      "SQL statement \"SELECT test_boot()\"\n",
      "PL/pgSQL function warm_boot() line 4 at PERFORM\n",
      "SQL statement \"SELECT warm_boot()\"\n",
      "PL/pgSQL function inline_code_block line 3 at PERFORM\n",
      "warning: %post(pscheduler-archiver-failer-1.0.2.3-1.el7.centos.noarch) scriptlet failed, exit status 3\n",
      "Non-fatal POSTIN scriptlet failure in rpm package pscheduler-archiver-failer-1.0.2.3-1.el7.centos.noarch\n",
      "ERROR:  ImportError: No module named 'requests.packages.urllib3'\n",
      "CONTEXT:  Traceback (most recent call last):\n",
      "  PL/Python function \"pscheduler_internal\", line 3, in <module>\n",
      "    import pscheduler\n",
      "  PL/Python function \"pscheduler_internal\", line 4, in <module>\n",
      "  PL/Python function \"pscheduler_internal\", line 16, in <module>\n",
      "  PL/Python function \"pscheduler_internal\", line 7, in <module>\n",
      "  PL/Python function \"pscheduler_internal\", line 57, in <module>\n",
      "  PL/Python function \"pscheduler_internal\", line 31, in <module>\n",
      "  PL/Python function \"pscheduler_internal\", line 9, in <module>\n",
      "  PL/Python function \"pscheduler_internal\", line 94, in load_module\n",
      "PL/Python function \"pscheduler_internal\"\n",
      "PL/pgSQL function test_boot() line 10 at assignment\n",
      "SQL statement \"SELECT test_boot()\"\n",
      "PL/pgSQL function warm_boot() line 4 at PERFORM\n",
      "SQL statement \"SELECT warm_boot()\"\n",
      "PL/pgSQL function inline_code_block line 3 at PERFORM\n",
      "warning: %post(pscheduler-archiver-http-1.0.2.3-1.el7.centos.noarch) scriptlet failed, exit status 3\n",
      "Non-fatal POSTIN scriptlet failure in rpm package pscheduler-archiver-http-1.0.2.3-1.el7.centos.noarch\n",
      "ERROR:  ImportError: No module named 'requests.packages.urllib3'\n",
      "CONTEXT:  Traceback (most recent call last):\n",
      "  PL/Python function \"pscheduler_internal\", line 3, in <module>\n",
      "    import pscheduler\n",
      "  PL/Python function \"pscheduler_internal\", line 4, in <module>\n",
      "  PL/Python function \"pscheduler_internal\", line 16, in <module>\n",
      "  PL/Python function \"pscheduler_internal\", line 7, in <module>\n",
      "  PL/Python function \"pscheduler_internal\", line 57, in <module>\n",
      "  PL/Python function \"pscheduler_internal\", line 31, in <module>\n",
      "  PL/Python function \"pscheduler_internal\", line 9, in <module>\n",
      "  PL/Python function \"pscheduler_internal\", line 94, in load_module\n",
      "PL/Python function \"pscheduler_internal\"\n",
      "PL/pgSQL function test_boot() line 10 at assignment\n",
      "SQL statement \"SELECT test_boot()\"\n",
      "PL/pgSQL function warm_boot() line 4 at PERFORM\n",
      "SQL statement \"SELECT warm_boot()\"\n",
      "PL/pgSQL function inline_code_block line 3 at PERFORM\n",
      "warning: %post(pscheduler-test-clock-1.0.2.3-1.el7.centos.noarch) scriptlet failed, exit status 3\n",
      "Non-fatal POSTIN scriptlet failure in rpm package pscheduler-test-clock-1.0.2.3-1.el7.centos.noarch\n",
      "ERROR:  ImportError: No module named 'requests.packages.urllib3'\n",
      "CONTEXT:  Traceback (most recent call last):\n",
      "  PL/Python function \"pscheduler_internal\", line 3, in <module>\n",
      "    import pscheduler\n",
      "  PL/Python function \"pscheduler_internal\", line 4, in <module>\n",
      "  PL/Python function \"pscheduler_internal\", line 16, in <module>\n",
      "  PL/Python function \"pscheduler_internal\", line 7, in <module>\n",
      "  PL/Python function \"pscheduler_internal\", line 57, in <module>\n",
      "  PL/Python function \"pscheduler_internal\", line 31, in <module>\n",
      "  PL/Python function \"pscheduler_internal\", line 9, in <module>\n",
      "  PL/Python function \"pscheduler_internal\", line 94, in load_module\n",
      "PL/Python function \"pscheduler_internal\"\n",
      "PL/pgSQL function test_boot() line 10 at assignment\n",
      "SQL statement \"SELECT test_boot()\"\n",
      "PL/pgSQL function warm_boot() line 4 at PERFORM\n",
      "SQL statement \"SELECT warm_boot()\"\n",
      "PL/pgSQL function inline_code_block line 3 at PERFORM\n",
      "warning: %post(pscheduler-archiver-rabbitmq-1.0.2.3-1.el7.centos.noarch) scriptlet failed, exit status 3\n",
      "Non-fatal POSTIN scriptlet failure in rpm package pscheduler-archiver-rabbitmq-1.0.2.3-1.el7.centos.noarch\n",
      "ERROR:  ImportError: No module named 'requests.packages.urllib3'\n",
      "CONTEXT:  Traceback (most recent call last):\n",
      "  PL/Python function \"pscheduler_internal\", line 3, in <module>\n",
      "    import pscheduler\n",
      "  PL/Python function \"pscheduler_internal\", line 4, in <module>\n",
      "  PL/Python function \"pscheduler_internal\", line 16, in <module>\n",
      "  PL/Python function \"pscheduler_internal\", line 7, in <module>\n",
      "  PL/Python function \"pscheduler_internal\", line 57, in <module>\n",
      "  PL/Python function \"pscheduler_internal\", line 31, in <module>\n",
      "  PL/Python function \"pscheduler_internal\", line 9, in <module>\n",
      "  PL/Python function \"pscheduler_internal\", line 94, in load_module\n",
      "PL/Python function \"pscheduler_internal\"\n",
      "PL/pgSQL function test_boot() line 10 at assignment\n",
      "SQL statement \"SELECT test_boot()\"\n",
      "PL/pgSQL function warm_boot() line 4 at PERFORM\n",
      "SQL statement \"SELECT warm_boot()\"\n",
      "PL/pgSQL function inline_code_block line 3 at PERFORM\n",
      "warning: %post(pscheduler-test-idleex-1.0.2.3-1.el7.centos.noarch) scriptlet failed, exit status 3\n",
      "Non-fatal POSTIN scriptlet failure in rpm package pscheduler-test-idleex-1.0.2.3-1.el7.centos.noarch\n",
      "ERROR:  ImportError: No module named 'requests.packages.urllib3'\n",
      "CONTEXT:  Traceback (most recent call last):\n",
      "  PL/Python function \"pscheduler_internal\", line 3, in <module>\n",
      "    import pscheduler\n",
      "  PL/Python function \"pscheduler_internal\", line 4, in <module>\n",
      "  PL/Python function \"pscheduler_internal\", line 16, in <module>\n",
      "  PL/Python function \"pscheduler_internal\", line 7, in <module>\n",
      "  PL/Python function \"pscheduler_internal\", line 57, in <module>\n",
      "  PL/Python function \"pscheduler_internal\", line 31, in <module>\n",
      "  PL/Python function \"pscheduler_internal\", line 9, in <module>\n",
      "  PL/Python function \"pscheduler_internal\", line 94, in load_module\n",
      "PL/Python function \"pscheduler_internal\"\n",
      "PL/pgSQL function test_boot() line 10 at assignment\n",
      "SQL statement \"SELECT test_boot()\"\n",
      "PL/pgSQL function warm_boot() line 4 at PERFORM\n",
      "SQL statement \"SELECT warm_boot()\"\n",
      "PL/pgSQL function inline_code_block line 3 at PERFORM\n",
      "warning: %post(pscheduler-archiver-bitbucket-1.0.2.3-1.el7.centos.noarch) scriptlet failed, exit status 3\n",
      "Non-fatal POSTIN scriptlet failure in rpm package pscheduler-archiver-bitbucket-1.0.2.3-1.el7.centos.noarch\n",
      "ERROR:  ImportError: No module named 'requests.packages.urllib3'\n",
      "CONTEXT:  Traceback (most recent call last):\n",
      "  PL/Python function \"pscheduler_internal\", line 3, in <module>\n",
      "    import pscheduler\n",
      "  PL/Python function \"pscheduler_internal\", line 4, in <module>\n",
      "  PL/Python function \"pscheduler_internal\", line 16, in <module>\n",
      "  PL/Python function \"pscheduler_internal\", line 7, in <module>\n",
      "  PL/Python function \"pscheduler_internal\", line 57, in <module>\n",
      "  PL/Python function \"pscheduler_internal\", line 31, in <module>\n",
      "  PL/Python function \"pscheduler_internal\", line 9, in <module>\n",
      "  PL/Python function \"pscheduler_internal\", line 94, in load_module\n",
      "PL/Python function \"pscheduler_internal\"\n",
      "PL/pgSQL function test_boot() line 10 at assignment\n",
      "SQL statement \"SELECT test_boot()\"\n",
      "PL/pgSQL function warm_boot() line 4 at PERFORM\n",
      "SQL statement \"SELECT warm_boot()\"\n",
      "PL/pgSQL function inline_code_block line 3 at PERFORM\n",
      "warning: %post(pscheduler-context-changefail-1.0.2.3-1.el7.centos.noarch) scriptlet failed, exit status 3\n",
      "Non-fatal POSTIN scriptlet failure in rpm package pscheduler-context-changefail-1.0.2.3-1.el7.centos.noarch\n"
     ]
    },
    {
     "ename": "",
     "evalue": "1",
     "execution_count": 23,
     "output_type": "error",
     "traceback": []
    }
   ],
   "source": [
    "yum -y -q install perfsonar-testpoint"
   ]
  },
  {
   "cell_type": "markdown",
   "metadata": {},
   "source": [
    "## install optional `perfsonar-testpoint` packages"
   ]
  },
  {
   "cell_type": "code",
   "execution_count": null,
   "metadata": {},
   "outputs": [],
   "source": [
    "yum -y install perfsonar-toolkit-ntp perfsonar-toolkit-security perfsonar-toolkit-sysctl perfsonar-toolkit-servicewatcher perfsonar-toolkit-systemenv-testpoint"
   ]
  },
  {
   "cell_type": "markdown",
   "metadata": {},
   "source": [
    "## reload the firewall ruleset"
   ]
  },
  {
   "cell_type": "code",
   "execution_count": null,
   "metadata": {},
   "outputs": [],
   "source": [
    "firewall-cmd --reload"
   ]
  },
  {
   "cell_type": "markdown",
   "metadata": {},
   "source": [
    "## check current active firewall rules"
   ]
  },
  {
   "cell_type": "code",
   "execution_count": null,
   "metadata": {},
   "outputs": [],
   "source": [
    "firewall-cmd --list-all"
   ]
  },
  {
   "cell_type": "markdown",
   "metadata": {},
   "source": [
    "## NOTE: if the output of entry for `services:` entry does include `bwctl` or `owamp-control` re-run the script to configure the firewall rules for perfSONAR"
   ]
  },
  {
   "cell_type": "code",
   "execution_count": null,
   "metadata": {},
   "outputs": [],
   "source": [
    "/usr/lib/perfsonar/scripts/configure_firewall install"
   ]
  },
  {
   "cell_type": "markdown",
   "metadata": {},
   "source": [
    "## re-check firewall rules"
   ]
  },
  {
   "cell_type": "code",
   "execution_count": null,
   "metadata": {},
   "outputs": [],
   "source": [
    "firewall-cmd --list-all"
   ]
  },
  {
   "cell_type": "markdown",
   "metadata": {},
   "source": [
    "## use `systemctl` to check the status of processes"
   ]
  },
  {
   "cell_type": "code",
   "execution_count": null,
   "metadata": {},
   "outputs": [],
   "source": [
    "systemctl status postgresql-9.5 -l\n",
    "systemctl status httpd -l\n",
    "systemctl status pscheduler* -l\n",
    "systemctl status perfsonar-meshconfig-agent -l"
   ]
  },
  {
   "cell_type": "markdown",
   "metadata": {},
   "source": [
    "## Save your work NOW\n",
    "## Reboot the server and verify everything came up as expected\n",
    "## You will need to re-login to your machine and launch the notebook"
   ]
  },
  {
   "cell_type": "code",
   "execution_count": null,
   "metadata": {},
   "outputs": [],
   "source": [
    "reboot"
   ]
  },
  {
   "cell_type": "code",
   "execution_count": null,
   "metadata": {},
   "outputs": [],
   "source": [
    "systemctl status postgresql-9.5 -l\n",
    "systemctl status httpd -l\n",
    "systemctl status pscheduler* -l\n",
    "systemctl status perfsonar-meshconfig-agent -l"
   ]
  },
  {
   "cell_type": "markdown",
   "metadata": {},
   "source": [
    "## update the `meshconfig-agent` to add a reference for the group mesh json\n",
    "<p>review the current contents</p>"
   ]
  },
  {
   "cell_type": "code",
   "execution_count": null,
   "metadata": {},
   "outputs": [],
   "source": [
    "cat /etc/perfsonar/meshconfig-agent.conf"
   ]
  },
  {
   "cell_type": "markdown",
   "metadata": {},
   "source": [
    "## update the `meshconfig-agent.conf` with a mesh stanza referencing the group mesh json"
   ]
  },
  {
   "cell_type": "code",
   "execution_count": null,
   "metadata": {},
   "outputs": [],
   "source": [
    "cd /etc/perfsonar\n",
    "wget http://fiona-10-01:8000/host-to-group -O /usr/local/etc/prp-fiona-ws--host-to-group\n",
    "mygrp=$(grep $(hostname -s) /usr/local/etc/prp-fiona-ws--host-to-group | awk '{print $4}')\n",
    "if [ ! -f /etc/perfsonar/meshconfig-agent.conf.orig ]; then\n",
    "cp /etc/perfsonar/meshconfig-agent.conf /etc/perfsonar/meshconfig-agent.conf.orig\n",
    "fi\n",
    "cat >> /etc/perfsonar/meshconfig-agent.conf <<EOL\n",
    "<mesh>\n",
    "   configuration_url http://gigiot-ma-$mygrp/prp-fiona-ws-mesh--gigiot-ma-$mygrp.json\n",
    "   #validate_certificate         0\n",
    "   #ca_certificate_file          /etc/pki/tls/certs/ca-bundle.crt\n",
    "   configure_archives 1\n",
    "</mesh>\n",
    "EOL\n",
    "chown perfsonar:perfsonar /etc/perfsonar/meshconfig-agent.conf\n",
    "chmod 644 /etc/perfsonar/meshconfig-agent.conf"
   ]
  },
  {
   "cell_type": "code",
   "execution_count": null,
   "metadata": {},
   "outputs": [],
   "source": [
    "cat /etc/perfsonar/meshconfig-agent.conf"
   ]
  },
  {
   "cell_type": "markdown",
   "metadata": {},
   "source": [
    "## restart the `perfsonar-meshconfig-agent` process"
   ]
  },
  {
   "cell_type": "code",
   "execution_count": null,
   "metadata": {},
   "outputs": [],
   "source": [
    "systemctl restart perfsonar-meshconfig-agent"
   ]
  },
  {
   "cell_type": "markdown",
   "metadata": {},
   "source": [
    "## verify the contents of `meshconfig-agent-tasks.conf` to determine if the mesh json has been processed correctly\n",
    "<p>it should have `<test>` stanzas which includes sections for test schedule, parameters, targets, and measurement archives</p> "
   ]
  },
  {
   "cell_type": "code",
   "execution_count": null,
   "metadata": {},
   "outputs": [],
   "source": [
    "cat /etc/perfsonar/meshconfig-agent-tasks.conf"
   ]
  },
  {
   "cell_type": "markdown",
   "metadata": {},
   "source": [
    "# confirming a succesful installation and mesh participation\n"
   ]
  },
  {
   "cell_type": "markdown",
   "metadata": {},
   "source": [
    "## open a terminal session and run the following to help determine the functionality of the system\n",
    "<ul>\n",
    "<li> `pscheduler monitor` to show an updating display of completed, running, and pending tasks</li>\n",
    "<li> `pscheduler task throughput --dest some.other.ps.node` to run a throughput (iperf3) test</li>\n",
    "<li> `pscheduler task latency --dest some.other.ps.node` to run a latency/loss (owping) test</li> \n",
    "</ul>"
   ]
  },
  {
   "cell_type": "markdown",
   "metadata": {},
   "source": [
    "# perfSONAR testpoint appendix: perfSONAR testpoint installation troubleshooting "
   ]
  },
  {
   "cell_type": "markdown",
   "metadata": {},
   "source": [
    "## pscheduler processes fail to start \n",
    "<p>there are reports of a recent dependency breakage in the perfSONAR repo which may cause `httpd` to be absent from the bundle installation. pScheduler will not function without httpd.  if you attempt to use pscheduler and you receive an error message that says:<pre>Unable to find pScheduler on localhost</pre> this can be an indication that httpd is missing.</p>\n",
    "<p>install and enable httpd if not present on the system</p>"
   ]
  },
  {
   "cell_type": "code",
   "execution_count": null,
   "metadata": {},
   "outputs": [],
   "source": [
    "yum -y -q install httpd\n",
    "systemctl enable httpd\n",
    "systemctl start httpd\n",
    "systemctl status httpd -l"
   ]
  },
  {
   "cell_type": "markdown",
   "metadata": {},
   "source": [
    "## python library incompatibility on systems having both perSONAR and GridFTP\n",
    "<p>We have seen an issue with the GridFTP installation where an incompatible python library is installed and this causes the pscheduler processes to not start. If your pscheduler-* processes do not start you can try the following:</p>"
   ]
  },
  {
   "cell_type": "code",
   "execution_count": null,
   "metadata": {},
   "outputs": [],
   "source": [
    "pip uninstall urllib3\n",
    "yum install -y python-urllib3\n",
    "systemctl start pscheduler-*\n",
    "systemctl status pscheduler-* -l"
   ]
  },
  {
   "cell_type": "markdown",
   "metadata": {},
   "source": [
    "# Setting up scheduled GridFTP testing\n",
    "<p>the following steps will set up cron jobs to accomplish</p>\n",
    "<ul>\n",
    "<li>a schedule of GridFTP transfers from a group of participating nodes</li>\n",
    "<li>parsing the GridFTP transfer log and uploading the results to a central Measurement Archive (MA)</li>\n",
    "</ul>"
   ]
  },
  {
   "cell_type": "markdown",
   "metadata": {},
   "source": [
    "## wget the host-to-group map and the group-specific script for GridFTP and make it executable"
   ]
  },
  {
   "cell_type": "code",
   "execution_count": null,
   "metadata": {},
   "outputs": [],
   "source": [
    "wget http://fiona-10-01:8000/host-to-group -O /usr/local/etc/prp-fiona-ws--host-to-group\n",
    "mygrp=$(grep $(hostname -s) /usr/local/etc/prp-fiona-ws--host-to-group | awk '{print $4}')\n",
    "wget http://fiona-10-01:8000/cron-load-gridftp-grp-0$mygrp.sh -O /usr/local/bin/cron-load-gridftp-grp-0$mygrp.sh\n",
    "chmod 755 /usr/local/bin/cron-load-gridftp-grp-0$mygrp.sh"
   ]
  },
  {
   "cell_type": "markdown",
   "metadata": {},
   "source": [
    "## inspect the contents of the script"
   ]
  },
  {
   "cell_type": "code",
   "execution_count": null,
   "metadata": {},
   "outputs": [],
   "source": [
    "cat /usr/local/bin/cron-load-gridftp-grp-0$mygrp.sh"
   ]
  },
  {
   "cell_type": "markdown",
   "metadata": {},
   "source": [
    "## using your favorite editor, update the `GRIDFTP_API_KEY` entry\n",
    "<p>update the <pre>GRIDFTP_API_KEY</pre> entry with the API key generated earlier for the gridftp user on the MA for your group<p>"
   ]
  },
  {
   "cell_type": "markdown",
   "metadata": {},
   "source": [
    "## Grab a helper script that gragefully times out the globus url copy if it exceeds a value in seconds."
   ]
  },
  {
   "cell_type": "code",
   "execution_count": null,
   "metadata": {},
   "outputs": [],
   "source": [
    "mkdir /opt/esmond-gridftp/\n",
    "wget http://fiona-10-01:8000/timeout.sh -O /usr/local/bin/timeout.sh\n",
    "chmod 755 /usr/local/bin/timeout.sh"
   ]
  },
  {
   "cell_type": "markdown",
   "metadata": {},
   "source": [
    "## This script scrapes the gridftp transfer log for transfers that it has not yet processed\n",
    "<p>The results are uploaded to the central measurement archive running on the MA host for your group.</p>"
   ]
  },
  {
   "cell_type": "code",
   "execution_count": null,
   "metadata": {},
   "outputs": [],
   "source": [
    "/usr/local/bin/cron-load-gridftp-grp-0$mygrp.sh "
   ]
  },
  {
   "cell_type": "markdown",
   "metadata": {},
   "source": [
    "\n",
    "## Running this file the first time pulls in the cron-gridftp-transfer-mesh for this host"
   ]
  },
  {
   "cell_type": "code",
   "execution_count": null,
   "metadata": {},
   "outputs": [],
   "source": [
    "chmod 644 /etc/cron.d/cron-gridftp-transfer-mesh-grp-0$mygrp"
   ]
  },
  {
   "cell_type": "markdown",
   "metadata": {},
   "source": [
    "## Inspect the cron job"
   ]
  },
  {
   "cell_type": "code",
   "execution_count": null,
   "metadata": {},
   "outputs": [],
   "source": [
    "cat /etc/cron.d/cron-gridftp-transfer-mesh-grp-0$mygrp"
   ]
  }
 ],
 "metadata": {
  "kernelspec": {
   "display_name": "Bash",
   "language": "bash",
   "name": "bash"
  },
  "language_info": {
   "codemirror_mode": "shell",
   "file_extension": ".sh",
   "mimetype": "text/x-sh",
   "name": "bash"
  }
 },
 "nbformat": 4,
 "nbformat_minor": 2
}
