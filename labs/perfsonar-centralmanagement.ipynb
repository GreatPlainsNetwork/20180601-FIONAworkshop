{
 "cells": [
  {
   "cell_type": "markdown",
   "metadata": {},
   "source": [
    "# MaDDash and central esmond Measurement Archive\n",
    "<p>The following steps will install the `perfsonar-centralmanagement` bundle to provide a standalone MaDDash server and central esmond Measurement Archive (MA)</p>\n",
    "\n",
    "<p>At the end of the session we will have a central MA to which to register GridFTP and perfSONAR test results and dashboards to visualize performance:</p>\n",
    "<ul>\n",
    "<li>initial system setup, base installation, and initial configuration</li>\n",
    "<li>build and publish a mesh json for consumption by the MaDDash server and participating perfSONAR nodes</li>\n",
    "<li>update the MaDDash configuration for GridFTP</li>\n",
    "<li>establish credentials for nodes to use in registering GridFTP and perfSONAR results</li>\n",
    "</ul>"
   ]
  },
  {
   "cell_type": "markdown",
   "metadata": {},
   "source": [
    "## pull in the perfsonar-centralmanagement notebook\n",
    "<p>using your terminal app log into your fionette as root, and cd into /root</p>\n",
    "<p>use wget to transfer the perfsonar-centralmanagement notebook<pre>\n",
    "wget http://fiona-10-01:8000/perfsonar-centralmanagement.ipynb -O perfsonar-centralmanagement.ipynb\n",
    "</pre>\n",
    "<p>launch jupyter lab</p>\n",
    "<pre>jupyter lab --allow-root --ip=`your.fionette.ip`</pre>"
   ]
  },
  {
   "cell_type": "markdown",
   "metadata": {},
   "source": [
    "## initial system setup"
   ]
  },
  {
   "cell_type": "code",
   "execution_count": null,
   "metadata": {},
   "outputs": [],
   "source": [
    "uname -r"
   ]
  },
  {
   "cell_type": "code",
   "execution_count": null,
   "metadata": {},
   "outputs": [],
   "source": [
    "sed -i 's/SELINUX=enforcing/SELINUX=disabled/g' /etc/selinux/config\n",
    "setenforce 0"
   ]
  },
  {
   "cell_type": "markdown",
   "metadata": {},
   "source": [
    "## install NTP, bind-utils, traceroute if not already present"
   ]
  },
  {
   "cell_type": "code",
   "execution_count": null,
   "metadata": {},
   "outputs": [],
   "source": [
    "yum -y install ntp bind-utils traceroute"
   ]
  },
  {
   "cell_type": "code",
   "execution_count": null,
   "metadata": {},
   "outputs": [],
   "source": [
    "systemctl enable ntpd"
   ]
  },
  {
   "cell_type": "markdown",
   "metadata": {},
   "source": [
    "# adjust `/etc/ntp.conf` for the workshop NTP server\n",
    "<p>review the contents of the file</p>"
   ]
  },
  {
   "cell_type": "code",
   "execution_count": null,
   "metadata": {},
   "outputs": [],
   "source": [
    "cat /etc/ntp.conf"
   ]
  },
  {
   "cell_type": "markdown",
   "metadata": {},
   "source": [
    "<p>using your favorite editor, comment out NTP servers outside of the workshop and add an entry for the local NTP server</p>\n",
    "<pre>\n",
    "#server time.apple.com\n",
    "server 137.164.48.196 iburst\n",
    "</pre>"
   ]
  },
  {
   "cell_type": "markdown",
   "metadata": {},
   "source": [
    "## verify the changes"
   ]
  },
  {
   "cell_type": "code",
   "execution_count": null,
   "metadata": {},
   "outputs": [],
   "source": [
    "cat /etc/ntp.conf"
   ]
  },
  {
   "cell_type": "code",
   "execution_count": null,
   "metadata": {},
   "outputs": [],
   "source": [
    "systemctl start ntpd"
   ]
  },
  {
   "cell_type": "code",
   "execution_count": null,
   "metadata": {},
   "outputs": [],
   "source": [
    "systemctl status ntpd -l"
   ]
  },
  {
   "cell_type": "code",
   "execution_count": null,
   "metadata": {},
   "outputs": [],
   "source": [
    "ntpq -p -c rv"
   ]
  },
  {
   "cell_type": "markdown",
   "metadata": {},
   "source": [
    "## determine default interface"
   ]
  },
  {
   "cell_type": "code",
   "execution_count": null,
   "metadata": {},
   "outputs": [],
   "source": [
    "default_iface=$(awk '$2 == 00000000 { print $1 }' /proc/net/route)\n",
    "echo $default_iface"
   ]
  },
  {
   "cell_type": "markdown",
   "metadata": {},
   "source": [
    "## confirm `hostname -f` responds with FQHN"
   ]
  },
  {
   "cell_type": "code",
   "execution_count": null,
   "metadata": {},
   "outputs": [],
   "source": [
    "hostname -f"
   ]
  },
  {
   "cell_type": "markdown",
   "metadata": {},
   "source": [
    "## use hostnamectl to set if its not a valid FQHN"
   ]
  },
  {
   "cell_type": "code",
   "execution_count": null,
   "metadata": {},
   "outputs": [],
   "source": [
    "myip=$(ip addr show dev $default_iface | grep 'inet '| awk '{print $2}' | awk -F \"/\" '{print $1}')\n",
    "dig -x $myip +short"
   ]
  },
  {
   "cell_type": "code",
   "execution_count": null,
   "metadata": {},
   "outputs": [],
   "source": [
    "hostnamectl set-hostname `dig -x $myip +short`\n",
    "hostname -f"
   ]
  },
  {
   "cell_type": "markdown",
   "metadata": {},
   "source": [
    "## view current link settings on default interface"
   ]
  },
  {
   "cell_type": "code",
   "execution_count": null,
   "metadata": {},
   "outputs": [],
   "source": [
    "ip link show dev $default_iface"
   ]
  },
  {
   "cell_type": "markdown",
   "metadata": {},
   "source": [
    "## create a custom udev rules file for tuning the network configuration "
   ]
  },
  {
   "cell_type": "code",
   "execution_count": null,
   "metadata": {},
   "outputs": [],
   "source": [
    "if [ ! -f /etc/udev/rules.d/80-prp-fiona-ws-ma-netconf.rules ]; then\n",
    "cat > /etc/udev/rules.d/80-prp-fiona-ws-ma-netconf.rules <<EOL\n",
    "KERNEL==\"$default_iface\", RUN+=\"/sbin/ip link set %k mtu 9000\"\n",
    "KERNEL==\"$default_iface\", RUN+=\"/sbin/ip link set %k txqueuelen 10000\"\n",
    "EOL\n",
    "chmod 644 /etc/udev/rules.d/80-prp-fiona-ws-ma-netconf.rules\n",
    "fi"
   ]
  },
  {
   "cell_type": "markdown",
   "metadata": {},
   "source": [
    "## Use udevadm to reload the rules and trigger the action"
   ]
  },
  {
   "cell_type": "code",
   "execution_count": null,
   "metadata": {},
   "outputs": [],
   "source": [
    "/sbin/udevadm control --reload-rules\n",
    "/sbin/udevadm trigger"
   ]
  },
  {
   "cell_type": "markdown",
   "metadata": {},
   "source": [
    "## confirm desired settings are in effect"
   ]
  },
  {
   "cell_type": "code",
   "execution_count": null,
   "metadata": {},
   "outputs": [],
   "source": [
    "ip link show dev $default_iface"
   ]
  },
  {
   "cell_type": "markdown",
   "metadata": {},
   "source": [
    "## Create a custom sysctl file with desired settings"
   ]
  },
  {
   "cell_type": "code",
   "execution_count": null,
   "metadata": {},
   "outputs": [],
   "source": [
    "if [ ! -f /etc/sysctl.d/80-prp-fiona-ws-ma-sysctl.conf ]; then\n",
    "cat>/etc/sysctl.d/80-prp-fiona-ws-ma-sysctl.conf <<EOL\n",
    "net.core.rmem_max = 67108864 \n",
    "net.core.wmem_max = 67108864 \n",
    "net.ipv4.tcp_rmem = 4096 87380 33554432\n",
    "net.ipv4.tcp_wmem = 4096 65536 33554432\n",
    "net.ipv4.tcp_congestion_control=htcp\n",
    "EOL\n",
    "chmod 644 /etc/sysctl.d/80-prp-fiona-ws-ma-sysctl.conf\n",
    "fi"
   ]
  },
  {
   "cell_type": "markdown",
   "metadata": {},
   "source": [
    "## Adjust kernel boot-time defaults and rebuild grub.cfg"
   ]
  },
  {
   "cell_type": "code",
   "execution_count": null,
   "metadata": {},
   "outputs": [],
   "source": [
    "if ! grep --quiet default_hugepagesz /etc/default/grub; then\n",
    "\tsed -i 's/^GRUB_CMDLINE_LINUX=\\\"[^\\\"]*/& default_hugepagesz=1GB hugepagesz=1GB hugepages=8 elevator=noop processor.max_cstate=1 intel_iommu=off idle=poll intel_idle.max_cstate=0 nosoftlockup mce=ignore_mce/' /etc/default/grub\n",
    "\tgrub2-mkconfig -o /boot/grub2/grub.cfg\n",
    "fi"
   ]
  },
  {
   "cell_type": "code",
   "execution_count": null,
   "metadata": {},
   "outputs": [],
   "source": [
    "cat /etc/default/grub"
   ]
  },
  {
   "cell_type": "markdown",
   "metadata": {},
   "source": [
    "# SAVE your work NOW"
   ]
  },
  {
   "cell_type": "code",
   "execution_count": null,
   "metadata": {},
   "outputs": [],
   "source": [
    "reboot"
   ]
  },
  {
   "cell_type": "markdown",
   "metadata": {},
   "source": [
    "## confirm intended tuning settings are present "
   ]
  },
  {
   "cell_type": "code",
   "execution_count": null,
   "metadata": {},
   "outputs": [],
   "source": [
    "ip link show | grep UP | grep -v lo"
   ]
  },
  {
   "cell_type": "markdown",
   "metadata": {},
   "source": [
    "## disable a few unwanted services and enable the `tuned` service"
   ]
  },
  {
   "cell_type": "code",
   "execution_count": null,
   "metadata": {},
   "outputs": [],
   "source": [
    "systemctl stop NetworkManager \n",
    "systemctl disable NetworkManager\n",
    "systemctl stop irqbalance.service\n",
    "systemctl disable irqbalance.service\n",
    "systemctl stop wpa_supplicant\n",
    "systemctl disable wpa_supplicant\n",
    "systemctl start tuned\n",
    "systemctl enable tuned\n"
   ]
  },
  {
   "cell_type": "markdown",
   "metadata": {},
   "source": [
    "## check the current clock rate of the CPU cores"
   ]
  },
  {
   "cell_type": "code",
   "execution_count": null,
   "metadata": {},
   "outputs": [],
   "source": [
    "cat /proc/cpuinfo | grep Hz"
   ]
  },
  {
   "cell_type": "markdown",
   "metadata": {},
   "source": [
    "## use `tuned-adm` to show the current active profile"
   ]
  },
  {
   "cell_type": "code",
   "execution_count": null,
   "metadata": {},
   "outputs": [],
   "source": [
    "tuned-adm active"
   ]
  },
  {
   "cell_type": "markdown",
   "metadata": {},
   "source": [
    "## set `throughput-performance` at the active profile"
   ]
  },
  {
   "cell_type": "code",
   "execution_count": null,
   "metadata": {},
   "outputs": [],
   "source": [
    "tuned-adm profile throughput-performance"
   ]
  },
  {
   "cell_type": "markdown",
   "metadata": {},
   "source": [
    "## re-check the clock rate of the CPU cores"
   ]
  },
  {
   "cell_type": "code",
   "execution_count": null,
   "metadata": {},
   "outputs": [],
   "source": [
    "cat /proc/cpuinfo | grep Hz"
   ]
  },
  {
   "cell_type": "markdown",
   "metadata": {},
   "source": [
    "# Installing the perfSONAR Central Management bundle\n",
    "<p>The instructions below follow the perfSONAR CentOS Bundle Installation page, here:</p>\n",
    "<p>http://docs.perfsonar.net/install_centos.html</p>"
   ]
  },
  {
   "cell_type": "markdown",
   "metadata": {},
   "source": [
    "## point yum to local perfSONAR repo "
   ]
  },
  {
   "cell_type": "code",
   "execution_count": null,
   "metadata": {},
   "outputs": [],
   "source": [
    "cat << EOF > /etc/yum.repos.d/perfsonar.repo\n",
    "[perfsonar]\n",
    "name=Extra Packages for Enterprise Linux 7 - $basearch\n",
    "baseurl=http://137.164.48.196/centos-7-x86_64/perfsonar\n",
    "failovermethod=priority\n",
    "enabled=1\n",
    "gpgcheck=0\n",
    "EOF"
   ]
  },
  {
   "cell_type": "markdown",
   "metadata": {},
   "source": [
    "## Refresh the yum cache "
   ]
  },
  {
   "cell_type": "code",
   "execution_count": null,
   "metadata": {},
   "outputs": [],
   "source": [
    "yum clean all"
   ]
  },
  {
   "cell_type": "markdown",
   "metadata": {},
   "source": [
    "## Now we are ready to install the `perfsonar-centralmanagement` bundle:\n",
    "<p>due to the large number of packages involved, the call to yum in the next cell includes the `-q` switch to set yum to quiet mode.  output to `stderr` and any non-zero exit code will appear in the cell.</p>\n",
    "<p>NOTE: launch a separate terminal session and run <pre>tail -f /var/log/yum.log</pre> to follow the installation process.</p>"
   ]
  },
  {
   "cell_type": "code",
   "execution_count": null,
   "metadata": {},
   "outputs": [],
   "source": [
    "yum -y -q install perfsonar-centralmanagement"
   ]
  },
  {
   "cell_type": "markdown",
   "metadata": {},
   "source": [
    "## use `systemctl` to enable services"
   ]
  },
  {
   "cell_type": "code",
   "execution_count": null,
   "metadata": {},
   "outputs": [],
   "source": [
    "systemctl enable httpd\n",
    "systemctl start httpd\n",
    "systemctl enable cassandra\n",
    "systemctl start cassandra"
   ]
  },
  {
   "cell_type": "markdown",
   "metadata": {},
   "source": [
    "## check firewall rules"
   ]
  },
  {
   "cell_type": "code",
   "execution_count": null,
   "metadata": {},
   "outputs": [],
   "source": [
    "firewall-cmd --list-all"
   ]
  },
  {
   "cell_type": "markdown",
   "metadata": {},
   "source": [
    "## configure the firewall rules to allow http / https"
   ]
  },
  {
   "cell_type": "code",
   "execution_count": null,
   "metadata": {},
   "outputs": [],
   "source": [
    "firewall-cmd --permanent --zone=public --add-service=http\n",
    "firewall-cmd --permanent --zone=public --add-service=https\n",
    "firewall-cmd --reload"
   ]
  },
  {
   "cell_type": "markdown",
   "metadata": {},
   "source": [
    "## verify updates to the firewall ruleset"
   ]
  },
  {
   "cell_type": "code",
   "execution_count": null,
   "metadata": {},
   "outputs": [],
   "source": [
    "firewall-cmd --list-all"
   ]
  },
  {
   "cell_type": "markdown",
   "metadata": {},
   "source": [
    "## SAVE your work NOW\n",
    "## Reboot the server \n"
   ]
  },
  {
   "cell_type": "code",
   "execution_count": null,
   "metadata": {},
   "outputs": [],
   "source": [
    "reboot"
   ]
  },
  {
   "cell_type": "markdown",
   "metadata": {},
   "source": [
    "## verify things came up as expected"
   ]
  },
  {
   "cell_type": "code",
   "execution_count": null,
   "metadata": {},
   "outputs": [],
   "source": [
    "systemctl status maddash-server -l\n",
    "systemctl status perfsonar-meshconfig-guiagent -l\n",
    "systemctl status postgresql-9.5 -l\n",
    "systemctl status cassandra -l\n",
    "systemctl status httpd -l"
   ]
  },
  {
   "cell_type": "markdown",
   "metadata": {},
   "source": [
    "## verify the MaDDash webUI is available\n",
    "<p>the following cell will make a call to `curl` to request the text of the MaDDash webUI main page.</p>\n",
    "<p>alternatively, launch a new web browser tab to view the dashboard.</p>"
   ]
  },
  {
   "cell_type": "code",
   "execution_count": null,
   "metadata": {},
   "outputs": [],
   "source": [
    "curl http://$(hostname -s)/maddash-webui/"
   ]
  },
  {
   "cell_type": "markdown",
   "metadata": {},
   "source": [
    "## verify the esmond MA is operational\n",
    "<p>without any data in the MA at this point the expected output is an open and close pair of square brackets</p>"
   ]
  },
  {
   "cell_type": "code",
   "execution_count": null,
   "metadata": {},
   "outputs": [],
   "source": [
    "curl http://$(hostname -s)/esmond/perfsonar/archive/?format=json"
   ]
  },
  {
   "cell_type": "markdown",
   "metadata": {},
   "source": [
    "## create an adminstrative user for the MaDDash webUI\n",
    "<p>MaDDash provides an adminstrative interface available through the webUI at <pre>http://enter.the.ma.ip.here/maddash-webui/admin</pre> <p>in a termal session, use `htpasswd` to update `/etc/maddash/maddash-webui/admin-users`</p>\n",
    "<pre>htpasswd /etc/maddash/maddash-webui/admin-users admin</pre>"
   ]
  },
  {
   "cell_type": "markdown",
   "metadata": {},
   "source": [
    "# Creating and publishing a perfSONAR mesh json\n",
    "<p>the next set of steps will produce and publish an updated mesh json:\n",
    "<ul>\n",
    "<li>process the mesh json to update MaDDash server yaml configuration: configuring checks to query the esmond; thresholds for performance, and organizing dashboards</li>\n",
    "<li>publish the mesh json for participating perfSONAR nodes: which process the mesh json to update their test configuration</li>\n",
    "</ul>\n",
    "</p>"
   ]
  },
  {
   "cell_type": "markdown",
   "metadata": {},
   "source": [
    "## use wget to transfer a baseline mesh configuration (.conf)\n",
    "<p>the mesh .conf file provides a more human-readable configuration syntax (than json).</p>\n",
    "<p>subsequent steps reference the mesh .conf to build the mesh json</p>"
   ]
  },
  {
   "cell_type": "code",
   "execution_count": null,
   "metadata": {},
   "outputs": [],
   "source": [
    "cd /var/www/html\n",
    "wget http://fiona-10-01:8000/prp-fiona-ws-mesh--$(hostname -s).conf -O prp-fiona-ws-mesh--$(hostname -s).conf"
   ]
  },
  {
   "cell_type": "markdown",
   "metadata": {},
   "source": [
    "## check the contents of the baseline mesh .conf\n",
    "<p>use your favorite editor to make any necessary changes</p>"
   ]
  },
  {
   "cell_type": "code",
   "execution_count": null,
   "metadata": {},
   "outputs": [],
   "source": [
    "cat /var/www/html/prp-fiona-ws-mesh--$(hostname -s).conf"
   ]
  },
  {
   "cell_type": "markdown",
   "metadata": {},
   "source": [
    "## generate the perfSONAR mesh json"
   ]
  },
  {
   "cell_type": "code",
   "execution_count": null,
   "metadata": {},
   "outputs": [],
   "source": [
    "/usr/lib/perfsonar/bin/build_json --verbose /var/www/html/prp-fiona-ws-mesh--$(hostname -s).conf > /var/www/html/prp-fiona-ws-mesh--$(hostname -s).json"
   ]
  },
  {
   "cell_type": "markdown",
   "metadata": {},
   "source": [
    "## view the mesh json"
   ]
  },
  {
   "cell_type": "code",
   "execution_count": null,
   "metadata": {},
   "outputs": [],
   "source": [
    "cat /var/www/html/prp-fiona-ws-mesh--$(hostname -s).json"
   ]
  },
  {
   "cell_type": "markdown",
   "metadata": {},
   "source": [
    "## validate the generated perfSONAR mesh json"
   ]
  },
  {
   "cell_type": "code",
   "execution_count": null,
   "metadata": {},
   "outputs": [],
   "source": [
    "/usr/lib/perfsonar/bin/validate_json --verbose --config_url=http://$(hostname -s)/prp-fiona-ws-mesh--$(hostname -s).json"
   ]
  },
  {
   "cell_type": "markdown",
   "metadata": {},
   "source": [
    "# Update the MaDDash server yaml configuration\n",
    "<p>in the next series of steps we will:</p>\n",
    "<ul>\n",
    "<li>set up a fresh `maddash.yaml` configuration on which to subsequently apply changes</li>\n",
    "<li>update the `meshconfig-guiagent.conf` file to create a mesh referencing the newly created perfSONAR mesh json</li>\n",
    "<li>update the `maddash.yaml` for GridFTP checks, thresholds, and dashboards</li>\n",
    "</ul>"
   ]
  },
  {
   "cell_type": "markdown",
   "metadata": {},
   "source": [
    "## create a fresh `maddash.yaml` file"
   ]
  },
  {
   "cell_type": "code",
   "execution_count": null,
   "metadata": {},
   "outputs": [],
   "source": [
    "if [ -f /etc/maddash/maddash-server/maddash.yaml ]; then\n",
    "mv /etc/maddash/maddash-server/maddash.yaml /etc/maddash/maddash-server/maddash.yaml.orig\n",
    "cat>/etc/maddash/maddash-server/maddash.yaml <<EOL\n",
    "##\n",
    "# Set the directory where the database will be stored\n",
    "database: /var/lib/maddash/\n",
    "\n",
    "##\n",
    "# Set the number of jobs that can run in parallel. Default is 20.\n",
    "#jobThreadPoolSize: 20\n",
    "\n",
    "##\n",
    "# Set number of jobs that can be in queue at one time. Default is 250.\n",
    "#jobBatchSize: 250\n",
    "\n",
    "###\n",
    "# Disable the job scheduler if you only want to run the REST server\n",
    "#disableScheduler: 0\n",
    "\n",
    "###\n",
    "# Skips table and index rebuild at start-up. It can speed up start-up time if set to 1.\n",
    "#skipTableBuild: 0\n",
    "\n",
    "##\n",
    "# Set the host where the REST server listens\n",
    "serverHost: \"localhost\"\n",
    "\n",
    "##\n",
    "# Activate http and set the port where it listens\n",
    "http:\n",
    "    port: 8881\n",
    "EOL\n",
    "chown maddash:maddash /etc/maddash/maddash-server/maddash.yaml\n",
    "chmod 644 /etc/maddash/maddash-server/maddash.yaml\n",
    "fi"
   ]
  },
  {
   "cell_type": "markdown",
   "metadata": {},
   "source": [
    "## view the `maddash.yaml` file"
   ]
  },
  {
   "cell_type": "code",
   "execution_count": null,
   "metadata": {},
   "outputs": [],
   "source": [
    "cat /etc/maddash/maddash-server/maddash.yaml"
   ]
  },
  {
   "cell_type": "markdown",
   "metadata": {},
   "source": [
    "## update `meshconfig-guiagent.conf` to add a `<mesh>` stanza referencing the mesh json</p>"
   ]
  },
  {
   "cell_type": "code",
   "execution_count": null,
   "metadata": {},
   "outputs": [],
   "source": [
    "if [ ! -f /etc/perfsonar/meshconfig-guiagent.conf.orig ]; then\n",
    "cp /etc/perfsonar/meshconfig-guiagent.conf /etc/perfsonar/meshconfig-guiagent.conf.orig\n",
    "cat >> /etc/perfsonar/meshconfig-guiagent.conf <<EOL\n",
    "## You can define more meshes to configure against by adding more 'mesh' blocks.\n",
    "<mesh>\n",
    "    configuration_url             http://$(hostname -s)/prp-fiona-ws-mesh--$(hostname -s).json\n",
    "#    #validate_certificate         0\n",
    "#    #ca_certificate_file          /etc/pki/tls/certs/ca-bundle.crt\n",
    "</mesh>\n",
    "EOL\n",
    "elif [ -f /etc/perfsonar/meshconfig-guiagent.conf.orig ]; then\n",
    "rm -f /etc/perfsonar/meshconfig-guiagent.conf\n",
    "cp /etc/perfsonar/meshconfig-guiagent.conf.orig /etc/perfsonar/meshconfig-guiagent.conf\n",
    "cat >> /etc/perfsonar/meshconfig-guiagent.conf <<EOL\n",
    "## You can define more meshes to configure against by adding more 'mesh' blocks.\n",
    "<mesh>\n",
    "    configuration_url             http://$(hostname -s)/prp-fiona-ws-mesh--$(hostname -s).json\n",
    "#    #validate_certificate         0\n",
    "#    #ca_certificate_file          /etc/pki/tls/certs/ca-bundle.crt\n",
    "</mesh>\n",
    "EOL\n",
    "fi"
   ]
  },
  {
   "cell_type": "markdown",
   "metadata": {},
   "source": [
    "## review the updated `meshconfig-guiagent.conf`"
   ]
  },
  {
   "cell_type": "code",
   "execution_count": null,
   "metadata": {},
   "outputs": [],
   "source": [
    "cat /etc/perfsonar/meshconfig-guiagent.conf "
   ]
  },
  {
   "cell_type": "markdown",
   "metadata": {},
   "source": [
    "## restart the `perfsonar-meshconfig-guiagent` process"
   ]
  },
  {
   "cell_type": "code",
   "execution_count": null,
   "metadata": {},
   "outputs": [],
   "source": [
    "systemctl restart perfsonar-meshconfig-guiagent"
   ]
  },
  {
   "cell_type": "markdown",
   "metadata": {},
   "source": [
    "## review the updated `maddash.yaml`"
   ]
  },
  {
   "cell_type": "code",
   "execution_count": null,
   "metadata": {},
   "outputs": [],
   "source": [
    "cat /etc/maddash/maddash-server/maddash.yaml"
   ]
  },
  {
   "cell_type": "markdown",
   "metadata": {},
   "source": [
    "## restart the `maddash-server` process\n"
   ]
  },
  {
   "cell_type": "code",
   "execution_count": null,
   "metadata": {},
   "outputs": [],
   "source": [
    "systemctl restart maddash-server"
   ]
  },
  {
   "cell_type": "markdown",
   "metadata": {},
   "source": [
    "## browse to the MaDDAsh server webUI to confirm the updates"
   ]
  },
  {
   "cell_type": "markdown",
   "metadata": {},
   "source": [
    "# Update MaDDash server configuration file for visualizing GridFTP disk-to-disk throughput  \n"
   ]
  },
  {
   "cell_type": "markdown",
   "metadata": {},
   "source": [
    "## apply a patch file to a copy of `maddash.yaml` to insert sections for GridFTP-related checks, dashboards and grids, and groups"
   ]
  },
  {
   "cell_type": "code",
   "execution_count": null,
   "metadata": {},
   "outputs": [],
   "source": [
    "cd /etc/maddash/maddash-server/\n",
    "cat maddash.yaml > maddash--$(hostname -s)--ps.yaml\n",
    "wget http://fiona-10-01:8000/maddash--$(hostname -s)--ps-gridftp.yaml.patch -O maddash--$(hostname -s)--ps-gridftp.yaml.patch\n",
    "patch --input=maddash--$(hostname -s)--ps-gridftp.yaml.patch --output=maddash--$(hostname -s)--ps-gridftp.yaml maddash--$(hostname -s)--ps.yaml"
   ]
  },
  {
   "cell_type": "markdown",
   "metadata": {},
   "source": [
    "## sanity check the diff of the copy of `maddash.yaml` and patched file"
   ]
  },
  {
   "cell_type": "code",
   "execution_count": null,
   "metadata": {},
   "outputs": [],
   "source": [
    "diff -U 4 maddash--$(hostname -s)--ps.yaml maddash--$(hostname -s)--ps-gridftp.yaml"
   ]
  },
  {
   "cell_type": "markdown",
   "metadata": {},
   "source": [
    "## replace `maddash.yaml` with the patched file"
   ]
  },
  {
   "cell_type": "code",
   "execution_count": null,
   "metadata": {},
   "outputs": [],
   "source": [
    "cat maddash--$(hostname -s)--ps-gridftp.yaml > maddash.yaml"
   ]
  },
  {
   "cell_type": "markdown",
   "metadata": {},
   "source": [
    "# update the MaDDash webUI `config.json` to reflect the customized dashboard naming\n",
    "<p>review the current contents of <pre>/etc/maddash/maddash-webui/config.json</pre></p>"
   ]
  },
  {
   "cell_type": "code",
   "execution_count": null,
   "metadata": {},
   "outputs": [],
   "source": [
    "cd /etc/maddash/maddash-webui\n",
    "cat config.json"
   ]
  },
  {
   "cell_type": "markdown",
   "metadata": {},
   "source": [
    "## use `wget` to transfer an customized `config.json` and replace the original"
   ]
  },
  {
   "cell_type": "code",
   "execution_count": null,
   "metadata": {},
   "outputs": [],
   "source": [
    "wget http://fiona-10-01:8000/webui--$(hostname -s)--config.json -O webui--$(hostname -s)--config.json\n",
    "cat webui--$(hostname -s)--config.json > config.json"
   ]
  },
  {
   "cell_type": "markdown",
   "metadata": {},
   "source": [
    "## restart the `maddash-server` process \n",
    "<p>NOTE: in a separate terminal session, run <pre>tail -f /var/log/maddash/maddash-server.netlogger.log</pre> to check for errors</p>"
   ]
  },
  {
   "cell_type": "code",
   "execution_count": null,
   "metadata": {},
   "outputs": [],
   "source": [
    "systemctl restart maddash-server"
   ]
  },
  {
   "cell_type": "markdown",
   "metadata": {},
   "source": [
    "## browse to the MaDDash webUI to confirm the new GridFTP dashboards are present\n",
    "<p>NOTE: you will need to clear your browsers cache in order to view the results of the updated webUI config.json</p>\n",
    "<p>ex: with Chrome, select <pre>Clear Browsing Data...</pre> to bring up a dialog of options.  clearing the last hour of browsing data should be sufficient</p>"
   ]
  },
  {
   "cell_type": "markdown",
   "metadata": {},
   "source": [
    "# Update esmond to add credentials to register GridFTP transfer results\n",
    "<p>the following steps will update your central esmond MA to authtenticate GridFTP nodes by an API key</p>  \n",
    "<p>on the nodes running GridFTP transfers, we will use the generated API key to configure the script which parses the transfer logs and registers the throughput results to the esmond MA</p>\n",
    "<p>NOTE: you may re-run this cell and it will display the previously generated API key</p>\n"
   ]
  },
  {
   "cell_type": "code",
   "execution_count": null,
   "metadata": {},
   "outputs": [],
   "source": [
    "cd /usr/lib/esmond\n",
    ". bin/activate\n",
    "python esmond/manage.py add_api_key_user gridftp"
   ]
  },
  {
   "cell_type": "markdown",
   "metadata": {},
   "source": [
    "# Update esmond to add credentials for pS nodes to register results\n",
    "<p>the following cell will update your central esmond MA to authtenticate pS nodes to by their IP address</p>"
   ]
  },
  {
   "cell_type": "code",
   "execution_count": null,
   "metadata": {},
   "outputs": [],
   "source": [
    "cd /usr/lib/esmond\n",
    ". bin/activate\n",
    "for node in $(cat /var/www/html/prp-fiona-ws-mesh--$(hostname -s).conf | grep member | awk '{ print $2 }'); do  python esmond/manage.py add_user_ip_address $node `dig +short $node` ; done\n"
   ]
  },
  {
   "cell_type": "markdown",
   "metadata": {},
   "source": [
    "# Update nodes to schedule GridFTP transfers and perfSONAR tests, and register results to the central MA \n",
    "<p>in the next session, we will work on the nodes running GridFTP server and perfSONAR testpoint to update their configurations</p>\n",
    "<p>this would be a good time to SAVE your WORK in this notebook</p>"
   ]
  }
 ],
 "metadata": {
  "kernelspec": {
   "display_name": "Bash",
   "language": "bash",
   "name": "bash"
  },
  "language_info": {
   "codemirror_mode": "shell",
   "file_extension": ".sh",
   "mimetype": "text/x-sh",
   "name": "bash"
  }
 },
 "nbformat": 4,
 "nbformat_minor": 2
}
