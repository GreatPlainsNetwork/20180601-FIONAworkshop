{
 "cells": [
  {
   "cell_type": "markdown",
   "metadata": {},
   "source": [
    "# Warning ! Executing these cells will wipe the boot sector and cause the system to PXE boot and reinstall the OS"
   ]
  },
  {
   "cell_type": "markdown",
   "metadata": {},
   "source": [
    "# Are you SURE ?"
   ]
  },
  {
   "cell_type": "code",
   "execution_count": 1,
   "metadata": {},
   "outputs": [
    {
     "name": "stdout",
     "output_type": "stream",
     "text": [
      "100+0 records in\n",
      "100+0 records out\n",
      "104857600 bytes (105 MB) copied, 0.122185 s, 858 MB/s\n"
     ]
    }
   ],
   "source": [
    "ssh -o \"StrictHostKeyChecking no\" 67.58.53.201 dd if=/dev/zero of=/dev/mmcblk0 bs=1M count=100"
   ]
  },
  {
   "cell_type": "code",
   "execution_count": 2,
   "metadata": {},
   "outputs": [
    {
     "name": "stdout",
     "output_type": "stream",
     "text": [
      "Connection to 67.58.53.201 closed by remote host.\n"
     ]
    },
    {
     "ename": "",
     "evalue": "255",
     "execution_count": 2,
     "output_type": "error",
     "traceback": []
    }
   ],
   "source": [
    "ssh -o \"StrictHostKeyChecking no\" 67.58.53.201 reboot"
   ]
  },
  {
   "cell_type": "code",
   "execution_count": 3,
   "metadata": {},
   "outputs": [
    {
     "name": "stdout",
     "output_type": "stream",
     "text": [
      "100+0 records in\n",
      "100+0 records out\n",
      "104857600 bytes (105 MB) copied, 0.262958 s, 399 MB/s\n"
     ]
    }
   ],
   "source": [
    "ssh -o \"StrictHostKeyChecking no\" 67.58.53.202 dd if=/dev/zero of=/dev/mmcblk0 bs=1M count=100"
   ]
  },
  {
   "cell_type": "code",
   "execution_count": 4,
   "metadata": {},
   "outputs": [
    {
     "name": "stdout",
     "output_type": "stream",
     "text": [
      "Connection to 67.58.53.202 closed by remote host.\n"
     ]
    },
    {
     "ename": "",
     "evalue": "255",
     "execution_count": 4,
     "output_type": "error",
     "traceback": []
    }
   ],
   "source": [
    "ssh -o \"StrictHostKeyChecking no\" 67.58.53.202 reboot"
   ]
  },
  {
   "cell_type": "code",
   "execution_count": 5,
   "metadata": {},
   "outputs": [
    {
     "name": "stdout",
     "output_type": "stream",
     "text": [
      "100+0 records in\n",
      "100+0 records out\n",
      "104857600 bytes (105 MB) copied, 0.252188 s, 416 MB/s\n"
     ]
    }
   ],
   "source": [
    "ssh -o \"StrictHostKeyChecking no\" 67.58.53.203 dd if=/dev/zero of=/dev/mmcblk0 bs=1M count=100"
   ]
  },
  {
   "cell_type": "code",
   "execution_count": 6,
   "metadata": {},
   "outputs": [
    {
     "name": "stdout",
     "output_type": "stream",
     "text": [
      "Connection to 67.58.53.203 closed by remote host.\n"
     ]
    },
    {
     "ename": "",
     "evalue": "255",
     "execution_count": 6,
     "output_type": "error",
     "traceback": []
    }
   ],
   "source": [
    "ssh -o \"StrictHostKeyChecking no\" 67.58.53.203 reboot"
   ]
  },
  {
   "cell_type": "code",
   "execution_count": 7,
   "metadata": {},
   "outputs": [
    {
     "name": "stdout",
     "output_type": "stream",
     "text": [
      "100+0 records in\n",
      "100+0 records out\n",
      "104857600 bytes (105 MB) copied, 0.262518 s, 399 MB/s\n"
     ]
    }
   ],
   "source": [
    "ssh -o \"StrictHostKeyChecking no\" 67.58.53.204 dd if=/dev/zero of=/dev/mmcblk0 bs=1M count=100"
   ]
  },
  {
   "cell_type": "code",
   "execution_count": 8,
   "metadata": {},
   "outputs": [
    {
     "name": "stdout",
     "output_type": "stream",
     "text": [
      "Connection to 67.58.53.204 closed by remote host.\n"
     ]
    },
    {
     "ename": "",
     "evalue": "255",
     "execution_count": 8,
     "output_type": "error",
     "traceback": []
    }
   ],
   "source": [
    "ssh -o \"StrictHostKeyChecking no\" 67.58.53.204 reboot"
   ]
  },
  {
   "cell_type": "code",
   "execution_count": 3,
   "metadata": {},
   "outputs": [
    {
     "name": "stdout",
     "output_type": "stream",
     "text": [
      "@@@@@@@@@@@@@@@@@@@@@@@@@@@@@@@@@@@@@@@@@@@@@@@@@@@@@@@@@@@\n",
      "@    WARNING: REMOTE HOST IDENTIFICATION HAS CHANGED!     @\n",
      "@@@@@@@@@@@@@@@@@@@@@@@@@@@@@@@@@@@@@@@@@@@@@@@@@@@@@@@@@@@\n",
      "IT IS POSSIBLE THAT SOMEONE IS DOING SOMETHING NASTY!\n",
      "Someone could be eavesdropping on you right now (man-in-the-middle attack)!\n",
      "It is also possible that a host key has just been changed.\n",
      "The fingerprint for the ECDSA key sent by the remote host is\n",
      "SHA256:gFLZkH+SEHk9BwWb6WcqFM9owvmSlUSiK1FtYRODAx8.\n",
      "Please contact your system administrator.\n",
      "Add correct host key in /root/.ssh/known_hosts to get rid of this message.\n",
      "Offending ECDSA key in /root/.ssh/known_hosts:5\n",
      "Password authentication is disabled to avoid man-in-the-middle attacks.\n",
      "Keyboard-interactive authentication is disabled to avoid man-in-the-middle attacks.\n",
      "100+0 records in\n",
      "100+0 records out\n",
      "104857600 bytes (105 MB) copied, 0.122483 s, 856 MB/s\n"
     ]
    }
   ],
   "source": [
    "ssh -o \"StrictHostKeyChecking no\" 67.58.53.205 dd if=/dev/zero of=/dev/mmcblk0 bs=1M count=100"
   ]
  },
  {
   "cell_type": "code",
   "execution_count": 4,
   "metadata": {},
   "outputs": [
    {
     "name": "stdout",
     "output_type": "stream",
     "text": [
      "@@@@@@@@@@@@@@@@@@@@@@@@@@@@@@@@@@@@@@@@@@@@@@@@@@@@@@@@@@@\n",
      "@    WARNING: REMOTE HOST IDENTIFICATION HAS CHANGED!     @\n",
      "@@@@@@@@@@@@@@@@@@@@@@@@@@@@@@@@@@@@@@@@@@@@@@@@@@@@@@@@@@@\n",
      "IT IS POSSIBLE THAT SOMEONE IS DOING SOMETHING NASTY!\n",
      "Someone could be eavesdropping on you right now (man-in-the-middle attack)!\n",
      "It is also possible that a host key has just been changed.\n",
      "The fingerprint for the ECDSA key sent by the remote host is\n",
      "SHA256:gFLZkH+SEHk9BwWb6WcqFM9owvmSlUSiK1FtYRODAx8.\n",
      "Please contact your system administrator.\n",
      "Add correct host key in /root/.ssh/known_hosts to get rid of this message.\n",
      "Offending ECDSA key in /root/.ssh/known_hosts:5\n",
      "Password authentication is disabled to avoid man-in-the-middle attacks.\n",
      "Keyboard-interactive authentication is disabled to avoid man-in-the-middle attacks.\n",
      "Connection to 67.58.53.205 closed by remote host.\n"
     ]
    },
    {
     "ename": "",
     "evalue": "255",
     "execution_count": 4,
     "output_type": "error",
     "traceback": []
    }
   ],
   "source": [
    "ssh -o \"StrictHostKeyChecking no\" 67.58.53.205 reboot"
   ]
  },
  {
   "cell_type": "code",
   "execution_count": 11,
   "metadata": {},
   "outputs": [
    {
     "name": "stdout",
     "output_type": "stream",
     "text": [
      "100+0 records in\n",
      "100+0 records out\n",
      "104857600 bytes (105 MB) copied, 0.251675 s, 417 MB/s\n"
     ]
    }
   ],
   "source": [
    "ssh -o \"StrictHostKeyChecking no\" 67.58.53.206 dd if=/dev/zero of=/dev/mmcblk0 bs=1M count=100"
   ]
  },
  {
   "cell_type": "code",
   "execution_count": 12,
   "metadata": {},
   "outputs": [
    {
     "name": "stdout",
     "output_type": "stream",
     "text": [
      "Connection to 67.58.53.206 closed by remote host.\n"
     ]
    },
    {
     "ename": "",
     "evalue": "255",
     "execution_count": 12,
     "output_type": "error",
     "traceback": []
    }
   ],
   "source": [
    "ssh -o \"StrictHostKeyChecking no\" 67.58.53.206 reboot"
   ]
  },
  {
   "cell_type": "code",
   "execution_count": 13,
   "metadata": {},
   "outputs": [
    {
     "name": "stdout",
     "output_type": "stream",
     "text": [
      "100+0 records in\n",
      "100+0 records out\n",
      "104857600 bytes (105 MB) copied, 0.253598 s, 413 MB/s\n"
     ]
    }
   ],
   "source": [
    "ssh -o \"StrictHostKeyChecking no\" 67.58.53.207 dd if=/dev/zero of=/dev/mmcblk0 bs=1M count=100"
   ]
  },
  {
   "cell_type": "code",
   "execution_count": 14,
   "metadata": {},
   "outputs": [
    {
     "name": "stdout",
     "output_type": "stream",
     "text": [
      "Connection to 67.58.53.207 closed by remote host.\n"
     ]
    },
    {
     "ename": "",
     "evalue": "255",
     "execution_count": 14,
     "output_type": "error",
     "traceback": []
    }
   ],
   "source": [
    "ssh -o \"StrictHostKeyChecking no\" 67.58.53.207 reboot"
   ]
  },
  {
   "cell_type": "code",
   "execution_count": 15,
   "metadata": {},
   "outputs": [
    {
     "name": "stdout",
     "output_type": "stream",
     "text": [
      "100+0 records in\n",
      "100+0 records out\n",
      "104857600 bytes (105 MB) copied, 0.24417 s, 429 MB/s\n"
     ]
    }
   ],
   "source": [
    "ssh -o \"StrictHostKeyChecking no\" 67.58.53.208 dd if=/dev/zero of=/dev/mmcblk0 bs=1M count=100"
   ]
  },
  {
   "cell_type": "code",
   "execution_count": 16,
   "metadata": {},
   "outputs": [
    {
     "name": "stdout",
     "output_type": "stream",
     "text": [
      "Connection to 67.58.53.208 closed by remote host.\n"
     ]
    },
    {
     "ename": "",
     "evalue": "255",
     "execution_count": 16,
     "output_type": "error",
     "traceback": []
    }
   ],
   "source": [
    "ssh -o \"StrictHostKeyChecking no\" 67.58.53.208 reboot"
   ]
  },
  {
   "cell_type": "code",
   "execution_count": 17,
   "metadata": {},
   "outputs": [
    {
     "name": "stdout",
     "output_type": "stream",
     "text": [
      "100+0 records in\n",
      "100+0 records out\n",
      "104857600 bytes (105 MB) copied, 0.256257 s, 409 MB/s\n"
     ]
    }
   ],
   "source": [
    "ssh -o \"StrictHostKeyChecking no\" 67.58.53.209 dd if=/dev/zero of=/dev/mmcblk0 bs=1M count=100"
   ]
  },
  {
   "cell_type": "code",
   "execution_count": 18,
   "metadata": {},
   "outputs": [
    {
     "name": "stdout",
     "output_type": "stream",
     "text": [
      "Connection to 67.58.53.209 closed by remote host.\n"
     ]
    },
    {
     "ename": "",
     "evalue": "255",
     "execution_count": 18,
     "output_type": "error",
     "traceback": []
    }
   ],
   "source": [
    "ssh -o \"StrictHostKeyChecking no\" 67.58.53.209 reboot"
   ]
  },
  {
   "cell_type": "code",
   "execution_count": 19,
   "metadata": {},
   "outputs": [
    {
     "name": "stdout",
     "output_type": "stream",
     "text": [
      "100+0 records in\n",
      "100+0 records out\n",
      "104857600 bytes (105 MB) copied, 0.231392 s, 453 MB/s\n"
     ]
    }
   ],
   "source": [
    "ssh -o \"StrictHostKeyChecking no\" 67.58.53.210 dd if=/dev/zero of=/dev/mmcblk0 bs=1M count=100"
   ]
  },
  {
   "cell_type": "code",
   "execution_count": 20,
   "metadata": {},
   "outputs": [
    {
     "name": "stdout",
     "output_type": "stream",
     "text": [
      "Connection to 67.58.53.210 closed by remote host.\n"
     ]
    },
    {
     "ename": "",
     "evalue": "255",
     "execution_count": 20,
     "output_type": "error",
     "traceback": []
    }
   ],
   "source": [
    "ssh -o \"StrictHostKeyChecking no\" 67.58.53.210 reboot"
   ]
  },
  {
   "cell_type": "code",
   "execution_count": 1,
   "metadata": {},
   "outputs": [
    {
     "name": "stdout",
     "output_type": "stream",
     "text": [
      "100+0 records in\n",
      "100+0 records out\n",
      "104857600 bytes (105 MB) copied, 0.260704 s, 402 MB/s\n"
     ]
    }
   ],
   "source": [
    "ssh -o \"StrictHostKeyChecking no\" 67.58.53.211 dd if=/dev/zero of=/dev/mmcblk0 bs=1M count=100"
   ]
  },
  {
   "cell_type": "code",
   "execution_count": 2,
   "metadata": {},
   "outputs": [
    {
     "name": "stdout",
     "output_type": "stream",
     "text": [
      "Connection to 67.58.53.211 closed by remote host.\n"
     ]
    },
    {
     "ename": "",
     "evalue": "255",
     "execution_count": 2,
     "output_type": "error",
     "traceback": []
    }
   ],
   "source": [
    "ssh -o \"StrictHostKeyChecking no\" 67.58.53.211 reboot"
   ]
  },
  {
   "cell_type": "code",
   "execution_count": 23,
   "metadata": {},
   "outputs": [
    {
     "name": "stdout",
     "output_type": "stream",
     "text": [
      "100+0 records in\n",
      "100+0 records out\n",
      "104857600 bytes (105 MB) copied, 0.254066 s, 413 MB/s\n"
     ]
    }
   ],
   "source": [
    "ssh -o \"StrictHostKeyChecking no\" 67.58.53.212 dd if=/dev/zero of=/dev/mmcblk0 bs=1M count=100"
   ]
  },
  {
   "cell_type": "code",
   "execution_count": 24,
   "metadata": {},
   "outputs": [
    {
     "name": "stdout",
     "output_type": "stream",
     "text": [
      "Connection to 67.58.53.212 closed by remote host.\n"
     ]
    },
    {
     "ename": "",
     "evalue": "255",
     "execution_count": 24,
     "output_type": "error",
     "traceback": []
    }
   ],
   "source": [
    "ssh -o \"StrictHostKeyChecking no\" 67.58.53.212 reboot"
   ]
  },
  {
   "cell_type": "code",
   "execution_count": 25,
   "metadata": {},
   "outputs": [
    {
     "name": "stdout",
     "output_type": "stream",
     "text": [
      "100+0 records in\n",
      "100+0 records out\n",
      "104857600 bytes (105 MB) copied, 0.257552 s, 407 MB/s\n"
     ]
    }
   ],
   "source": [
    "ssh -o \"StrictHostKeyChecking no\" 67.58.53.213 dd if=/dev/zero of=/dev/mmcblk0 bs=1M count=100"
   ]
  },
  {
   "cell_type": "code",
   "execution_count": 26,
   "metadata": {},
   "outputs": [
    {
     "name": "stdout",
     "output_type": "stream",
     "text": [
      "Connection to 67.58.53.213 closed by remote host.\n"
     ]
    },
    {
     "ename": "",
     "evalue": "255",
     "execution_count": 26,
     "output_type": "error",
     "traceback": []
    }
   ],
   "source": [
    "ssh -o \"StrictHostKeyChecking no\" 67.58.53.213 reboot"
   ]
  },
  {
   "cell_type": "code",
   "execution_count": 3,
   "metadata": {},
   "outputs": [
    {
     "name": "stdout",
     "output_type": "stream",
     "text": [
      "100+0 records in\n",
      "100+0 records out\n",
      "104857600 bytes (105 MB) copied, 0.251803 s, 416 MB/s\n"
     ]
    }
   ],
   "source": [
    "ssh -o \"StrictHostKeyChecking no\" 67.58.53.214 dd if=/dev/zero of=/dev/mmcblk0 bs=1M count=100"
   ]
  },
  {
   "cell_type": "code",
   "execution_count": 4,
   "metadata": {},
   "outputs": [
    {
     "name": "stdout",
     "output_type": "stream",
     "text": [
      "Connection to 67.58.53.214 closed by remote host.\n"
     ]
    },
    {
     "ename": "",
     "evalue": "255",
     "execution_count": 4,
     "output_type": "error",
     "traceback": []
    }
   ],
   "source": [
    "ssh -o \"StrictHostKeyChecking no\" 67.58.53.214 reboot"
   ]
  },
  {
   "cell_type": "code",
   "execution_count": 5,
   "metadata": {},
   "outputs": [
    {
     "name": "stdout",
     "output_type": "stream",
     "text": [
      "100+0 records in\n",
      "100+0 records out\n",
      "104857600 bytes (105 MB) copied, 0.24633 s, 426 MB/s\n"
     ]
    }
   ],
   "source": [
    "ssh -o \"StrictHostKeyChecking no\" 67.58.53.215 dd if=/dev/zero of=/dev/mmcblk0 bs=1M count=100"
   ]
  },
  {
   "cell_type": "code",
   "execution_count": 6,
   "metadata": {},
   "outputs": [
    {
     "name": "stdout",
     "output_type": "stream",
     "text": [
      "Connection to 67.58.53.215 closed by remote host.\n"
     ]
    },
    {
     "ename": "",
     "evalue": "255",
     "execution_count": 6,
     "output_type": "error",
     "traceback": []
    }
   ],
   "source": [
    "ssh -o \"StrictHostKeyChecking no\" 67.58.53.215 reboot"
   ]
  },
  {
   "cell_type": "code",
   "execution_count": 7,
   "metadata": {},
   "outputs": [
    {
     "name": "stdout",
     "output_type": "stream",
     "text": [
      "100+0 records in\n",
      "100+0 records out\n",
      "104857600 bytes (105 MB) copied, 0.255147 s, 411 MB/s\n"
     ]
    }
   ],
   "source": [
    "ssh -o \"StrictHostKeyChecking no\" 67.58.53.216 dd if=/dev/zero of=/dev/mmcblk0 bs=1M count=100"
   ]
  },
  {
   "cell_type": "code",
   "execution_count": 8,
   "metadata": {},
   "outputs": [
    {
     "name": "stdout",
     "output_type": "stream",
     "text": [
      "Connection to 67.58.53.216 closed by remote host.\n"
     ]
    },
    {
     "ename": "",
     "evalue": "255",
     "execution_count": 8,
     "output_type": "error",
     "traceback": []
    }
   ],
   "source": [
    "ssh -o \"StrictHostKeyChecking no\" 67.58.53.216 reboot"
   ]
  },
  {
   "cell_type": "code",
   "execution_count": 9,
   "metadata": {},
   "outputs": [
    {
     "name": "stdout",
     "output_type": "stream",
     "text": [
      "100+0 records in\n",
      "100+0 records out\n",
      "104857600 bytes (105 MB) copied, 0.254917 s, 411 MB/s\n"
     ]
    }
   ],
   "source": [
    "ssh -o \"StrictHostKeyChecking no\" 67.58.53.217 dd if=/dev/zero of=/dev/mmcblk0 bs=1M count=100"
   ]
  },
  {
   "cell_type": "code",
   "execution_count": 10,
   "metadata": {},
   "outputs": [
    {
     "name": "stdout",
     "output_type": "stream",
     "text": [
      "Connection to 67.58.53.217 closed by remote host.\n"
     ]
    },
    {
     "ename": "",
     "evalue": "255",
     "execution_count": 10,
     "output_type": "error",
     "traceback": []
    }
   ],
   "source": [
    "ssh -o \"StrictHostKeyChecking no\" 67.58.53.217 reboot"
   ]
  },
  {
   "cell_type": "code",
   "execution_count": 11,
   "metadata": {},
   "outputs": [
    {
     "name": "stdout",
     "output_type": "stream",
     "text": [
      "Warning: Permanently added '67.58.53.218' (ECDSA) to the list of known hosts.\n",
      "100+0 records in\n",
      "100+0 records out\n",
      "104857600 bytes (105 MB) copied, 0.253359 s, 414 MB/s\n"
     ]
    }
   ],
   "source": [
    "ssh -o \"StrictHostKeyChecking no\" 67.58.53.218 dd if=/dev/zero of=/dev/mmcblk0 bs=1M count=100"
   ]
  },
  {
   "cell_type": "code",
   "execution_count": 12,
   "metadata": {},
   "outputs": [
    {
     "name": "stdout",
     "output_type": "stream",
     "text": [
      "Connection to 67.58.53.218 closed by remote host.\n"
     ]
    },
    {
     "ename": "",
     "evalue": "255",
     "execution_count": 12,
     "output_type": "error",
     "traceback": []
    }
   ],
   "source": [
    "ssh -o \"StrictHostKeyChecking no\" 67.58.53.218 reboot"
   ]
  },
  {
   "cell_type": "code",
   "execution_count": 13,
   "metadata": {},
   "outputs": [
    {
     "name": "stdout",
     "output_type": "stream",
     "text": [
      "Warning: Permanently added '67.58.53.219' (ECDSA) to the list of known hosts.\n",
      "100+0 records in\n",
      "100+0 records out\n",
      "104857600 bytes (105 MB) copied, 0.258082 s, 406 MB/s\n"
     ]
    }
   ],
   "source": [
    "ssh -o \"StrictHostKeyChecking no\" 67.58.53.219 dd if=/dev/zero of=/dev/mmcblk0 bs=1M count=100"
   ]
  },
  {
   "cell_type": "code",
   "execution_count": 14,
   "metadata": {},
   "outputs": [
    {
     "name": "stdout",
     "output_type": "stream",
     "text": [
      "Connection to 67.58.53.219 closed by remote host.\n"
     ]
    },
    {
     "ename": "",
     "evalue": "255",
     "execution_count": 14,
     "output_type": "error",
     "traceback": []
    }
   ],
   "source": [
    "ssh -o \"StrictHostKeyChecking no\" 67.58.53.219 reboot"
   ]
  },
  {
   "cell_type": "code",
   "execution_count": 15,
   "metadata": {},
   "outputs": [
    {
     "name": "stdout",
     "output_type": "stream",
     "text": [
      "Warning: Permanently added '67.58.53.220' (ECDSA) to the list of known hosts.\n",
      "100+0 records in\n",
      "100+0 records out\n",
      "104857600 bytes (105 MB) copied, 0.250891 s, 418 MB/s\n"
     ]
    }
   ],
   "source": [
    "ssh -o \"StrictHostKeyChecking no\" 67.58.53.220 dd if=/dev/zero of=/dev/mmcblk0 bs=1M count=100"
   ]
  },
  {
   "cell_type": "code",
   "execution_count": 16,
   "metadata": {},
   "outputs": [
    {
     "name": "stdout",
     "output_type": "stream",
     "text": [
      "Connection to 67.58.53.220 closed by remote host.\n"
     ]
    },
    {
     "ename": "",
     "evalue": "255",
     "execution_count": 16,
     "output_type": "error",
     "traceback": []
    }
   ],
   "source": [
    "ssh -o \"StrictHostKeyChecking no\" 67.58.53.220 reboot"
   ]
  },
  {
   "cell_type": "code",
   "execution_count": 17,
   "metadata": {},
   "outputs": [
    {
     "name": "stdout",
     "output_type": "stream",
     "text": [
      "Warning: Permanently added '67.58.53.221' (ECDSA) to the list of known hosts.\n",
      "100+0 records in\n",
      "100+0 records out\n",
      "104857600 bytes (105 MB) copied, 0.252434 s, 415 MB/s\n"
     ]
    }
   ],
   "source": [
    "ssh -o \"StrictHostKeyChecking no\" 67.58.53.221 dd if=/dev/zero of=/dev/mmcblk0 bs=1M count=100"
   ]
  },
  {
   "cell_type": "code",
   "execution_count": 18,
   "metadata": {},
   "outputs": [
    {
     "name": "stdout",
     "output_type": "stream",
     "text": [
      "Connection to 67.58.53.221 closed by remote host.\n"
     ]
    },
    {
     "ename": "",
     "evalue": "255",
     "execution_count": 18,
     "output_type": "error",
     "traceback": []
    }
   ],
   "source": [
    "ssh -o \"StrictHostKeyChecking no\" 67.58.53.221 reboot"
   ]
  },
  {
   "cell_type": "code",
   "execution_count": 19,
   "metadata": {},
   "outputs": [
    {
     "name": "stdout",
     "output_type": "stream",
     "text": [
      "Warning: Permanently added '67.58.53.222' (ECDSA) to the list of known hosts.\n",
      "100+0 records in\n",
      "100+0 records out\n",
      "104857600 bytes (105 MB) copied, 0.273421 s, 384 MB/s\n"
     ]
    }
   ],
   "source": [
    "ssh -o \"StrictHostKeyChecking no\" 67.58.53.222 dd if=/dev/zero of=/dev/mmcblk0 bs=1M count=100"
   ]
  },
  {
   "cell_type": "code",
   "execution_count": 20,
   "metadata": {},
   "outputs": [
    {
     "name": "stdout",
     "output_type": "stream",
     "text": [
      "Connection to 67.58.53.222 closed by remote host.\n"
     ]
    },
    {
     "ename": "",
     "evalue": "255",
     "execution_count": 20,
     "output_type": "error",
     "traceback": []
    }
   ],
   "source": [
    "ssh -o \"StrictHostKeyChecking no\" 67.58.53.222 reboot"
   ]
  },
  {
   "cell_type": "code",
   "execution_count": 21,
   "metadata": {},
   "outputs": [
    {
     "name": "stdout",
     "output_type": "stream",
     "text": [
      "Warning: Permanently added '67.58.53.223' (ECDSA) to the list of known hosts.\n",
      "100+0 records in\n",
      "100+0 records out\n",
      "104857600 bytes (105 MB) copied, 0.207141 s, 506 MB/s\n"
     ]
    }
   ],
   "source": [
    "ssh -o \"StrictHostKeyChecking no\" 67.58.53.223 dd if=/dev/zero of=/dev/mmcblk0 bs=1M count=100"
   ]
  },
  {
   "cell_type": "code",
   "execution_count": 22,
   "metadata": {},
   "outputs": [
    {
     "name": "stdout",
     "output_type": "stream",
     "text": [
      "Connection to 67.58.53.223 closed by remote host.\n"
     ]
    },
    {
     "ename": "",
     "evalue": "255",
     "execution_count": 22,
     "output_type": "error",
     "traceback": []
    }
   ],
   "source": [
    "ssh -o \"StrictHostKeyChecking no\" 67.58.53.223 reboot"
   ]
  },
  {
   "cell_type": "code",
   "execution_count": 23,
   "metadata": {},
   "outputs": [
    {
     "name": "stdout",
     "output_type": "stream",
     "text": [
      "Warning: Permanently added '67.58.53.224' (ECDSA) to the list of known hosts.\n",
      "100+0 records in\n",
      "100+0 records out\n",
      "104857600 bytes (105 MB) copied, 0.262367 s, 400 MB/s\n"
     ]
    }
   ],
   "source": [
    "ssh -o \"StrictHostKeyChecking no\" 67.58.53.224 dd if=/dev/zero of=/dev/mmcblk0 bs=1M count=100"
   ]
  },
  {
   "cell_type": "code",
   "execution_count": 24,
   "metadata": {},
   "outputs": [
    {
     "name": "stdout",
     "output_type": "stream",
     "text": [
      "Connection to 67.58.53.224 closed by remote host.\n"
     ]
    },
    {
     "ename": "",
     "evalue": "255",
     "execution_count": 24,
     "output_type": "error",
     "traceback": []
    }
   ],
   "source": [
    "ssh -o \"StrictHostKeyChecking no\" 67.58.53.224 reboot"
   ]
  },
  {
   "cell_type": "code",
   "execution_count": 25,
   "metadata": {},
   "outputs": [
    {
     "name": "stdout",
     "output_type": "stream",
     "text": [
      "Warning: Permanently added '67.58.53.225' (ECDSA) to the list of known hosts.\n",
      "100+0 records in\n",
      "100+0 records out\n",
      "104857600 bytes (105 MB) copied, 0.263819 s, 397 MB/s\n"
     ]
    }
   ],
   "source": [
    "ssh -o \"StrictHostKeyChecking no\" 67.58.53.225 dd if=/dev/zero of=/dev/mmcblk0 bs=1M count=100"
   ]
  },
  {
   "cell_type": "code",
   "execution_count": 26,
   "metadata": {},
   "outputs": [
    {
     "name": "stdout",
     "output_type": "stream",
     "text": [
      "Connection to 67.58.53.225 closed by remote host.\n"
     ]
    },
    {
     "ename": "",
     "evalue": "255",
     "execution_count": 26,
     "output_type": "error",
     "traceback": []
    }
   ],
   "source": [
    "ssh -o \"StrictHostKeyChecking no\" 67.58.53.225 reboot"
   ]
  },
  {
   "cell_type": "code",
   "execution_count": 27,
   "metadata": {},
   "outputs": [
    {
     "name": "stdout",
     "output_type": "stream",
     "text": [
      "Warning: Permanently added '67.58.53.226' (ECDSA) to the list of known hosts.\n",
      "100+0 records in\n",
      "100+0 records out\n",
      "104857600 bytes (105 MB) copied, 0.254466 s, 412 MB/s\n"
     ]
    }
   ],
   "source": [
    "ssh -o \"StrictHostKeyChecking no\" 67.58.53.226 dd if=/dev/zero of=/dev/mmcblk0 bs=1M count=100"
   ]
  },
  {
   "cell_type": "code",
   "execution_count": 28,
   "metadata": {},
   "outputs": [
    {
     "name": "stdout",
     "output_type": "stream",
     "text": [
      "Connection to 67.58.53.226 closed by remote host.\n"
     ]
    },
    {
     "ename": "",
     "evalue": "255",
     "execution_count": 28,
     "output_type": "error",
     "traceback": []
    }
   ],
   "source": [
    "ssh -o \"StrictHostKeyChecking no\" 67.58.53.226 reboot"
   ]
  },
  {
   "cell_type": "code",
   "execution_count": 29,
   "metadata": {},
   "outputs": [
    {
     "name": "stdout",
     "output_type": "stream",
     "text": [
      "Warning: Permanently added '67.58.53.227' (ECDSA) to the list of known hosts.\n",
      "100+0 records in\n",
      "100+0 records out\n",
      "104857600 bytes (105 MB) copied, 0.224516 s, 467 MB/s\n"
     ]
    }
   ],
   "source": [
    "ssh -o \"StrictHostKeyChecking no\" 67.58.53.227 dd if=/dev/zero of=/dev/mmcblk0 bs=1M count=100"
   ]
  },
  {
   "cell_type": "code",
   "execution_count": 30,
   "metadata": {},
   "outputs": [
    {
     "name": "stdout",
     "output_type": "stream",
     "text": [
      "Connection to 67.58.53.227 closed by remote host.\n"
     ]
    },
    {
     "ename": "",
     "evalue": "255",
     "execution_count": 30,
     "output_type": "error",
     "traceback": []
    }
   ],
   "source": [
    "ssh -o \"StrictHostKeyChecking no\" 67.58.53.227 reboot"
   ]
  },
  {
   "cell_type": "code",
   "execution_count": 31,
   "metadata": {},
   "outputs": [
    {
     "name": "stdout",
     "output_type": "stream",
     "text": [
      "Warning: Permanently added '67.58.53.228' (ECDSA) to the list of known hosts.\n",
      "100+0 records in\n",
      "100+0 records out\n",
      "104857600 bytes (105 MB) copied, 0.239967 s, 437 MB/s\n"
     ]
    }
   ],
   "source": [
    "ssh -o \"StrictHostKeyChecking no\" 67.58.53.228 dd if=/dev/zero of=/dev/mmcblk0 bs=1M count=100"
   ]
  },
  {
   "cell_type": "code",
   "execution_count": 32,
   "metadata": {},
   "outputs": [
    {
     "name": "stdout",
     "output_type": "stream",
     "text": [
      "Connection to 67.58.53.228 closed by remote host.\n"
     ]
    },
    {
     "ename": "",
     "evalue": "255",
     "execution_count": 32,
     "output_type": "error",
     "traceback": []
    }
   ],
   "source": [
    "ssh -o \"StrictHostKeyChecking no\" 67.58.53.228 reboot"
   ]
  },
  {
   "cell_type": "code",
   "execution_count": 33,
   "metadata": {},
   "outputs": [
    {
     "name": "stdout",
     "output_type": "stream",
     "text": [
      "Warning: Permanently added '67.58.53.229' (ECDSA) to the list of known hosts.\n",
      "100+0 records in\n",
      "100+0 records out\n",
      "104857600 bytes (105 MB) copied, 0.247171 s, 424 MB/s\n"
     ]
    }
   ],
   "source": [
    "ssh -o \"StrictHostKeyChecking no\" 67.58.53.229 dd if=/dev/zero of=/dev/mmcblk0 bs=1M count=100"
   ]
  },
  {
   "cell_type": "code",
   "execution_count": 34,
   "metadata": {},
   "outputs": [
    {
     "name": "stdout",
     "output_type": "stream",
     "text": [
      "Connection to 67.58.53.229 closed by remote host.\n"
     ]
    },
    {
     "ename": "",
     "evalue": "255",
     "execution_count": 34,
     "output_type": "error",
     "traceback": []
    }
   ],
   "source": [
    "ssh -o \"StrictHostKeyChecking no\" 67.58.53.229 reboot"
   ]
  },
  {
   "cell_type": "code",
   "execution_count": 35,
   "metadata": {},
   "outputs": [
    {
     "name": "stdout",
     "output_type": "stream",
     "text": [
      "Warning: Permanently added '67.58.53.230' (ECDSA) to the list of known hosts.\n",
      "100+0 records in\n",
      "100+0 records out\n",
      "104857600 bytes (105 MB) copied, 0.263991 s, 397 MB/s\n"
     ]
    }
   ],
   "source": [
    "ssh -o \"StrictHostKeyChecking no\" 67.58.53.230 dd if=/dev/zero of=/dev/mmcblk0 bs=1M count=100"
   ]
  },
  {
   "cell_type": "code",
   "execution_count": 36,
   "metadata": {},
   "outputs": [
    {
     "name": "stdout",
     "output_type": "stream",
     "text": [
      "Connection to 67.58.53.230 closed by remote host.\n"
     ]
    },
    {
     "ename": "",
     "evalue": "255",
     "execution_count": 36,
     "output_type": "error",
     "traceback": []
    }
   ],
   "source": [
    "ssh -o \"StrictHostKeyChecking no\" 67.58.53.230 reboot"
   ]
  },
  {
   "cell_type": "code",
   "execution_count": 37,
   "metadata": {},
   "outputs": [
    {
     "name": "stdout",
     "output_type": "stream",
     "text": [
      "ssh: connect to host 67.58.53.231 port 22: No route to host\n"
     ]
    },
    {
     "ename": "",
     "evalue": "255",
     "execution_count": 37,
     "output_type": "error",
     "traceback": []
    }
   ],
   "source": [
    "#ssh -o \"StrictHostKeyChecking no\" 67.58.53.231 dd if=/dev/zero of=/dev/mmcblk0 bs=1M count=100"
   ]
  },
  {
   "cell_type": "code",
   "execution_count": 60,
   "metadata": {},
   "outputs": [
    {
     "name": "stdout",
     "output_type": "stream",
     "text": [
      "Connection to 67.58.53.230 closed by remote host.\n"
     ]
    },
    {
     "ename": "",
     "evalue": "255",
     "execution_count": 60,
     "output_type": "error",
     "traceback": []
    }
   ],
   "source": [
    "#ssh -o \"StrictHostKeyChecking no\" 67.58.53.231 reboot"
   ]
  },
  {
   "cell_type": "code",
   "execution_count": null,
   "metadata": {},
   "outputs": [],
   "source": []
  }
 ],
 "metadata": {
  "kernelspec": {
   "display_name": "Bash",
   "language": "bash",
   "name": "bash"
  },
  "language_info": {
   "codemirror_mode": "shell",
   "file_extension": ".sh",
   "mimetype": "text/x-sh",
   "name": "bash"
  }
 },
 "nbformat": 4,
 "nbformat_minor": 2
}
