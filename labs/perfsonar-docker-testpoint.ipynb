{
 "cells": [
  {
   "cell_type": "markdown",
   "metadata": {},
   "source": [
    "# perfSONAR tools docker container installation and configuration\n",
    "<p>The following steps will install the perfSONAR tools docker container as described at https://github.com/perfsonar/perfsonar-tools-docker. This is broken down into three steps as follows:</p>\n",
    "<ul>\n",
    "    <li>Installing docker and the perfSONAR tool container</li>\n",
    "    <li>Starting the container</li>\n",
    "    <li>Testing examples</li>\n",
    "</ul>"
   ]
  },
  {
   "cell_type": "markdown",
   "metadata": {},
   "source": [
    "## Install docker and the perfSONAR tool container\n",
    "<p>Using your terminal app log into your fionette as root and install docker via yum.</p>"
   ]
  },
  {
   "cell_type": "code",
   "execution_count": 1,
   "metadata": {},
   "outputs": [
    {
     "data": {
      "text/plain": [
       "Loaded plugins: fastestmirror\r\n",
       "Loading mirror speeds from cached hostfile\r\n",
       " * base: centos.mirror.lstn.net\r\n",
       " * epel: fedora-epel.mirror.lstn.net\r\n",
       " * extras: mirror.team-cymru.com\r\n",
       " * perfSONAR: mirror.net.cen.ct.gov\r\n",
       " * updates: mirror.oss.ou.edu\r\n",
       "Package 2:docker-1.13.1-63.git94f4240.el7.centos.x86_64 already installed and latest version\r\n",
       "Nothing to do"
      ]
     },
     "execution_count": 1,
     "metadata": {},
     "output_type": "execute_result"
    }
   ],
   "source": [
    "yum -y install docker"
   ]
  },
  {
   "cell_type": "markdown",
   "metadata": {},
   "source": [
    "Pull down the container from dockerhub with the following."
   ]
  },
  {
   "cell_type": "code",
   "execution_count": null,
   "metadata": {},
   "outputs": [],
   "source": [
    "docker pull perfsonar/tools"
   ]
  },
  {
   "cell_type": "markdown",
   "metadata": {},
   "source": [
    "## Start the perfSONAR tool container\n",
    "Note that in order to use owping you will need to add the SYS_TIME capability to your docker run command. This provides owping the necessary access to the system clock."
   ]
  },
  {
   "cell_type": "code",
   "execution_count": null,
   "metadata": {},
   "outputs": [],
   "source": [
    "docker run --cap-add SYS_TIME -d -P --net=host -v /var/run perfsonar/tools"
   ]
  },
  {
   "cell_type": "markdown",
   "metadata": {},
   "source": [
    "<ul>\n",
    "    <li>**--cap-add** SYS_TIME gives access to the system clock</li>\n",
    "    <li>**-d** detaches the container and prints the container ID</li>\n",
    "    <li>**-P** publishes all exposed ports to the host interface</li>\n",
    "    <li>**--net=host** gives the container full access to the hosts network</li>\n",
    "    <li>**-v /var/run** df bind mounts /var/run into the container</li>\n",
    "</ul>\n",
    " \n",
    "\n",
    "Pay attention to the output and make note of the container ID so you can use it in the next step. At this point the container *should* be running and tests can be conducted against your host running the container."
   ]
  },
  {
   "cell_type": "markdown",
   "metadata": {},
   "source": [
    "## Start a shell in the container and run tests\n",
    "Start an interactive shell within the container."
   ]
  },
  {
   "cell_type": "code",
   "execution_count": null,
   "metadata": {},
   "outputs": [],
   "source": [
    "docker run -it <container ID> bash"
   ]
  },
  {
   "cell_type": "markdown",
   "metadata": {},
   "source": [
    "You should now have a shell within the container and be able to use the perfsonar tools such as owping and bwctl. Minimalistic examples are listed below to test with thing.example.com. Note that if your host is behind NAT owping will be unlikely to work and give a permission denied error."
   ]
  },
  {
   "cell_type": "code",
   "execution_count": null,
   "metadata": {},
   "outputs": [],
   "source": [
    "bwctl -c thing.example.com"
   ]
  },
  {
   "cell_type": "code",
   "execution_count": null,
   "metadata": {},
   "outputs": [],
   "source": [
    "owping thing.example.com"
   ]
  }
 ],
 "metadata": {
  "kernelspec": {
   "display_name": "MetaKernel Bash",
   "language": "bash",
   "name": "metakernel_bash"
  },
  "language_info": {
   "file_extension": ".sh",
   "help_links": [
    {
     "text": "MetaKernel Magics",
     "url": "https://github.com/calysto/metakernel/blob/master/metakernel/magics/README.md"
    }
   ],
   "mimetype": "text/x-bash",
   "name": "bash"
  }
 },
 "nbformat": 4,
 "nbformat_minor": 2
}
