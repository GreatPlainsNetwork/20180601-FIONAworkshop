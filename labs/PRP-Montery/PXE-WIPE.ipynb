{
 "cells": [
  {
   "cell_type": "markdown",
   "metadata": {},
   "source": [
    "# Warning ! Executing these cells will wipe the boot sector and cause the system to PXE boot and reinstall the OS"
   ]
  },
  {
   "cell_type": "markdown",
   "metadata": {},
   "source": [
    "# Are you SURE ?"
   ]
  },
  {
   "cell_type": "code",
   "execution_count": null,
   "metadata": {},
   "outputs": [],
   "source": [
    "ssh -o \"StrictHostKeyChecking no\" 67.58.53.201 dd if=/dev/zero of=/dev/mmcblk0 bs=1M count=100"
   ]
  },
  {
   "cell_type": "code",
   "execution_count": null,
   "metadata": {},
   "outputs": [],
   "source": [
    "ssh -o \"StrictHostKeyChecking no\" 67.58.53.201 reboot"
   ]
  },
  {
   "cell_type": "code",
   "execution_count": null,
   "metadata": {},
   "outputs": [],
   "source": [
    "ssh -o \"StrictHostKeyChecking no\" 67.58.53.202 dd if=/dev/zero of=/dev/mmcblk0 bs=1M count=100"
   ]
  },
  {
   "cell_type": "code",
   "execution_count": null,
   "metadata": {},
   "outputs": [],
   "source": [
    "ssh -o \"StrictHostKeyChecking no\" 67.58.53.202 reboot"
   ]
  },
  {
   "cell_type": "code",
   "execution_count": null,
   "metadata": {},
   "outputs": [],
   "source": [
    "ssh -o \"StrictHostKeyChecking no\" 67.58.53.203 dd if=/dev/zero of=/dev/mmcblk0 bs=1M count=100"
   ]
  },
  {
   "cell_type": "code",
   "execution_count": null,
   "metadata": {},
   "outputs": [],
   "source": [
    "ssh -o \"StrictHostKeyChecking no\" 67.58.53.203 reboot"
   ]
  },
  {
   "cell_type": "code",
   "execution_count": null,
   "metadata": {},
   "outputs": [],
   "source": [
    "ssh -o \"StrictHostKeyChecking no\" 67.58.53.204 dd if=/dev/zero of=/dev/mmcblk0 bs=1M count=100"
   ]
  },
  {
   "cell_type": "code",
   "execution_count": null,
   "metadata": {},
   "outputs": [],
   "source": [
    "ssh -o \"StrictHostKeyChecking no\" 67.58.53.204 reboot"
   ]
  },
  {
   "cell_type": "code",
   "execution_count": null,
   "metadata": {},
   "outputs": [],
   "source": [
    "ssh -o \"StrictHostKeyChecking no\" 67.58.53.205 dd if=/dev/zero of=/dev/mmcblk0 bs=1M count=100"
   ]
  },
  {
   "cell_type": "code",
   "execution_count": null,
   "metadata": {},
   "outputs": [],
   "source": [
    "ssh -o \"StrictHostKeyChecking no\" 67.58.53.205 reboot"
   ]
  },
  {
   "cell_type": "code",
   "execution_count": null,
   "metadata": {},
   "outputs": [],
   "source": [
    "ssh -o \"StrictHostKeyChecking no\" 67.58.53.206 dd if=/dev/zero of=/dev/mmcblk0 bs=1M count=100"
   ]
  },
  {
   "cell_type": "code",
   "execution_count": null,
   "metadata": {},
   "outputs": [],
   "source": [
    "ssh -o \"StrictHostKeyChecking no\" 67.58.53.206 reboot"
   ]
  },
  {
   "cell_type": "code",
   "execution_count": null,
   "metadata": {},
   "outputs": [],
   "source": [
    "ssh -o \"StrictHostKeyChecking no\" 67.58.53.207 dd if=/dev/zero of=/dev/mmcblk0 bs=1M count=100"
   ]
  },
  {
   "cell_type": "code",
   "execution_count": null,
   "metadata": {},
   "outputs": [],
   "source": [
    "ssh -o \"StrictHostKeyChecking no\" 67.58.53.207 reboot"
   ]
  },
  {
   "cell_type": "code",
   "execution_count": null,
   "metadata": {},
   "outputs": [],
   "source": [
    "ssh -o \"StrictHostKeyChecking no\" 67.58.53.208 dd if=/dev/zero of=/dev/mmcblk0 bs=1M count=100"
   ]
  },
  {
   "cell_type": "code",
   "execution_count": null,
   "metadata": {},
   "outputs": [],
   "source": [
    "ssh -o \"StrictHostKeyChecking no\" 67.58.53.208 reboot"
   ]
  },
  {
   "cell_type": "code",
   "execution_count": null,
   "metadata": {},
   "outputs": [],
   "source": [
    "ssh -o \"StrictHostKeyChecking no\" 67.58.53.209 dd if=/dev/zero of=/dev/mmcblk0 bs=1M count=100"
   ]
  },
  {
   "cell_type": "code",
   "execution_count": null,
   "metadata": {},
   "outputs": [],
   "source": [
    "ssh -o \"StrictHostKeyChecking no\" 67.58.53.209 reboot"
   ]
  },
  {
   "cell_type": "code",
   "execution_count": null,
   "metadata": {},
   "outputs": [],
   "source": [
    "ssh -o \"StrictHostKeyChecking no\" 67.58.53.210 dd if=/dev/zero of=/dev/mmcblk0 bs=1M count=100"
   ]
  },
  {
   "cell_type": "code",
   "execution_count": null,
   "metadata": {},
   "outputs": [],
   "source": [
    "ssh -o \"StrictHostKeyChecking no\" 67.58.53.210 reboot"
   ]
  },
  {
   "cell_type": "code",
   "execution_count": null,
   "metadata": {},
   "outputs": [],
   "source": [
    "ssh -o \"StrictHostKeyChecking no\" 67.58.53.211 dd if=/dev/zero of=/dev/mmcblk0 bs=1M count=100"
   ]
  },
  {
   "cell_type": "code",
   "execution_count": null,
   "metadata": {},
   "outputs": [],
   "source": [
    "ssh -o \"StrictHostKeyChecking no\" 67.58.53.211 reboot"
   ]
  },
  {
   "cell_type": "code",
   "execution_count": null,
   "metadata": {},
   "outputs": [],
   "source": [
    "ssh -o \"StrictHostKeyChecking no\" 67.58.53.212 dd if=/dev/zero of=/dev/mmcblk0 bs=1M count=100"
   ]
  },
  {
   "cell_type": "code",
   "execution_count": null,
   "metadata": {},
   "outputs": [],
   "source": [
    "ssh -o \"StrictHostKeyChecking no\" 67.58.53.212 reboot"
   ]
  },
  {
   "cell_type": "code",
   "execution_count": null,
   "metadata": {},
   "outputs": [],
   "source": [
    "ssh -o \"StrictHostKeyChecking no\" 67.58.53.213 dd if=/dev/zero of=/dev/mmcblk0 bs=1M count=100"
   ]
  },
  {
   "cell_type": "code",
   "execution_count": null,
   "metadata": {},
   "outputs": [],
   "source": [
    "ssh -o \"StrictHostKeyChecking no\" 67.58.53.213 reboot"
   ]
  },
  {
   "cell_type": "code",
   "execution_count": null,
   "metadata": {},
   "outputs": [],
   "source": [
    "ssh -o \"StrictHostKeyChecking no\" 67.58.53.214 dd if=/dev/zero of=/dev/mmcblk0 bs=1M count=100"
   ]
  },
  {
   "cell_type": "code",
   "execution_count": null,
   "metadata": {},
   "outputs": [],
   "source": [
    "ssh -o \"StrictHostKeyChecking no\" 67.58.53.214 reboot"
   ]
  },
  {
   "cell_type": "code",
   "execution_count": null,
   "metadata": {},
   "outputs": [],
   "source": [
    "ssh -o \"StrictHostKeyChecking no\" 67.58.53.215 dd if=/dev/zero of=/dev/mmcblk0 bs=1M count=100"
   ]
  },
  {
   "cell_type": "code",
   "execution_count": null,
   "metadata": {},
   "outputs": [],
   "source": [
    "ssh -o \"StrictHostKeyChecking no\" 67.58.53.215 reboot"
   ]
  },
  {
   "cell_type": "code",
   "execution_count": null,
   "metadata": {},
   "outputs": [],
   "source": [
    "ssh -o \"StrictHostKeyChecking no\" 67.58.53.216 dd if=/dev/zero of=/dev/mmcblk0 bs=1M count=100"
   ]
  },
  {
   "cell_type": "code",
   "execution_count": null,
   "metadata": {},
   "outputs": [],
   "source": [
    "ssh -o \"StrictHostKeyChecking no\" 67.58.53.216 reboot"
   ]
  },
  {
   "cell_type": "code",
   "execution_count": null,
   "metadata": {},
   "outputs": [],
   "source": [
    "ssh -o \"StrictHostKeyChecking no\" 67.58.53.217 dd if=/dev/zero of=/dev/mmcblk0 bs=1M count=100"
   ]
  },
  {
   "cell_type": "code",
   "execution_count": null,
   "metadata": {},
   "outputs": [],
   "source": [
    "ssh -o \"StrictHostKeyChecking no\" 67.58.53.217 reboot"
   ]
  },
  {
   "cell_type": "code",
   "execution_count": null,
   "metadata": {},
   "outputs": [],
   "source": [
    "ssh -o \"StrictHostKeyChecking no\" 67.58.53.218 dd if=/dev/zero of=/dev/mmcblk0 bs=1M count=100"
   ]
  },
  {
   "cell_type": "code",
   "execution_count": null,
   "metadata": {},
   "outputs": [],
   "source": [
    "ssh -o \"StrictHostKeyChecking no\" 67.58.53.218 reboot"
   ]
  },
  {
   "cell_type": "code",
   "execution_count": null,
   "metadata": {},
   "outputs": [],
   "source": [
    "ssh -o \"StrictHostKeyChecking no\" 67.58.53.219 dd if=/dev/zero of=/dev/mmcblk0 bs=1M count=100"
   ]
  },
  {
   "cell_type": "code",
   "execution_count": null,
   "metadata": {},
   "outputs": [],
   "source": [
    "ssh -o \"StrictHostKeyChecking no\" 67.58.53.219 reboot"
   ]
  },
  {
   "cell_type": "code",
   "execution_count": null,
   "metadata": {},
   "outputs": [],
   "source": [
    "ssh -o \"StrictHostKeyChecking no\" 67.58.53.220 dd if=/dev/zero of=/dev/mmcblk0 bs=1M count=100"
   ]
  },
  {
   "cell_type": "code",
   "execution_count": null,
   "metadata": {},
   "outputs": [],
   "source": [
    "ssh -o \"StrictHostKeyChecking no\" 67.58.53.220 reboot"
   ]
  },
  {
   "cell_type": "code",
   "execution_count": null,
   "metadata": {},
   "outputs": [],
   "source": [
    "ssh -o \"StrictHostKeyChecking no\" 67.58.53.221 dd if=/dev/zero of=/dev/mmcblk0 bs=1M count=100"
   ]
  },
  {
   "cell_type": "code",
   "execution_count": null,
   "metadata": {},
   "outputs": [],
   "source": [
    "ssh -o \"StrictHostKeyChecking no\" 67.58.53.221 reboot"
   ]
  },
  {
   "cell_type": "code",
   "execution_count": null,
   "metadata": {},
   "outputs": [],
   "source": [
    "ssh -o \"StrictHostKeyChecking no\" 67.58.53.222 dd if=/dev/zero of=/dev/mmcblk0 bs=1M count=100"
   ]
  },
  {
   "cell_type": "code",
   "execution_count": null,
   "metadata": {},
   "outputs": [],
   "source": [
    "ssh -o \"StrictHostKeyChecking no\" 67.58.53.222 reboot"
   ]
  },
  {
   "cell_type": "code",
   "execution_count": null,
   "metadata": {},
   "outputs": [],
   "source": [
    "ssh -o \"StrictHostKeyChecking no\" 67.58.53.223 dd if=/dev/zero of=/dev/mmcblk0 bs=1M count=100"
   ]
  },
  {
   "cell_type": "code",
   "execution_count": null,
   "metadata": {},
   "outputs": [],
   "source": [
    "ssh -o \"StrictHostKeyChecking no\" 67.58.53.223 reboot"
   ]
  },
  {
   "cell_type": "code",
   "execution_count": null,
   "metadata": {},
   "outputs": [],
   "source": [
    "ssh -o \"StrictHostKeyChecking no\" 67.58.53.224 dd if=/dev/zero of=/dev/mmcblk0 bs=1M count=100"
   ]
  },
  {
   "cell_type": "code",
   "execution_count": null,
   "metadata": {},
   "outputs": [],
   "source": [
    "ssh -o \"StrictHostKeyChecking no\" 67.58.53.224 reboot"
   ]
  },
  {
   "cell_type": "code",
   "execution_count": null,
   "metadata": {},
   "outputs": [],
   "source": [
    "ssh -o \"StrictHostKeyChecking no\" 67.58.53.225 dd if=/dev/zero of=/dev/mmcblk0 bs=1M count=100"
   ]
  },
  {
   "cell_type": "code",
   "execution_count": null,
   "metadata": {},
   "outputs": [],
   "source": [
    "ssh -o \"StrictHostKeyChecking no\" 67.58.53.225 reboot"
   ]
  },
  {
   "cell_type": "code",
   "execution_count": null,
   "metadata": {},
   "outputs": [],
   "source": [
    "ssh -o \"StrictHostKeyChecking no\" 67.58.53.226 dd if=/dev/zero of=/dev/mmcblk0 bs=1M count=100"
   ]
  },
  {
   "cell_type": "code",
   "execution_count": null,
   "metadata": {},
   "outputs": [],
   "source": [
    "ssh -o \"StrictHostKeyChecking no\" 67.58.53.226 reboot"
   ]
  },
  {
   "cell_type": "code",
   "execution_count": null,
   "metadata": {},
   "outputs": [],
   "source": [
    "ssh -o \"StrictHostKeyChecking no\" 67.58.53.227 dd if=/dev/zero of=/dev/mmcblk0 bs=1M count=100"
   ]
  },
  {
   "cell_type": "code",
   "execution_count": null,
   "metadata": {},
   "outputs": [],
   "source": [
    "ssh -o \"StrictHostKeyChecking no\" 67.58.53.227 reboot"
   ]
  },
  {
   "cell_type": "code",
   "execution_count": null,
   "metadata": {},
   "outputs": [],
   "source": [
    "ssh -o \"StrictHostKeyChecking no\" 67.58.53.228 dd if=/dev/zero of=/dev/mmcblk0 bs=1M count=100"
   ]
  },
  {
   "cell_type": "code",
   "execution_count": null,
   "metadata": {},
   "outputs": [],
   "source": [
    "ssh -o \"StrictHostKeyChecking no\" 67.58.53.228 reboot"
   ]
  },
  {
   "cell_type": "code",
   "execution_count": null,
   "metadata": {},
   "outputs": [],
   "source": [
    "ssh -o \"StrictHostKeyChecking no\" 67.58.53.229 dd if=/dev/zero of=/dev/mmcblk0 bs=1M count=100"
   ]
  },
  {
   "cell_type": "code",
   "execution_count": null,
   "metadata": {},
   "outputs": [],
   "source": [
    "ssh -o \"StrictHostKeyChecking no\" 67.58.53.229 reboot"
   ]
  },
  {
   "cell_type": "code",
   "execution_count": null,
   "metadata": {},
   "outputs": [],
   "source": [
    "ssh -o \"StrictHostKeyChecking no\" 67.58.53.230 dd if=/dev/zero of=/dev/mmcblk0 bs=1M count=100"
   ]
  },
  {
   "cell_type": "code",
   "execution_count": null,
   "metadata": {},
   "outputs": [],
   "source": [
    "ssh -o \"StrictHostKeyChecking no\" 67.58.53.230 reboot"
   ]
  },
  {
   "cell_type": "code",
   "execution_count": null,
   "metadata": {},
   "outputs": [],
   "source": [
    "#ssh -o \"StrictHostKeyChecking no\" 67.58.53.231 dd if=/dev/zero of=/dev/mmcblk0 bs=1M count=100"
   ]
  },
  {
   "cell_type": "code",
   "execution_count": null,
   "metadata": {},
   "outputs": [],
   "source": [
    "#ssh -o \"StrictHostKeyChecking no\" 67.58.53.231 reboot"
   ]
  },
  {
   "cell_type": "code",
   "execution_count": null,
   "metadata": {},
   "outputs": [],
   "source": []
  }
 ],
 "metadata": {
  "kernelspec": {
   "display_name": "MetaKernel Bash",
   "language": "bash",
   "name": "metakernel_bash"
  },
  "language_info": {
   "file_extension": ".sh",
   "help_links": [
    {
     "text": "MetaKernel Magics",
     "url": "https://github.com/calysto/metakernel/blob/master/metakernel/magics/README.md"
    }
   ],
   "mimetype": "text/x-bash",
   "name": "bash"
  }
 },
 "nbformat": 4,
 "nbformat_minor": 2
}
