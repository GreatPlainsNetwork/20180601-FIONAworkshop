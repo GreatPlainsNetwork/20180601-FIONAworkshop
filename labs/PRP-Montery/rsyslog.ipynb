{
 "cells": [
  {
   "cell_type": "markdown",
   "metadata": {},
   "source": [
    "# rsyslog Client Setup\n",
    "https://www.svennd.be/setup-central-syslog-server-on-centos-7/"
   ]
  },
  {
   "cell_type": "code",
   "execution_count": null,
   "metadata": {},
   "outputs": [],
   "source": [
    "wget http://fiona-10-01:8000/rsyslog.ipynb -O rsyslog.ipynb"
   ]
  },
  {
   "cell_type": "markdown",
   "metadata": {},
   "source": [
    "# again be good sysadmin"
   ]
  },
  {
   "cell_type": "code",
   "execution_count": null,
   "metadata": {},
   "outputs": [],
   "source": [
    "yum -y update"
   ]
  },
  {
   "cell_type": "markdown",
   "metadata": {},
   "source": [
    "# install if not there"
   ]
  },
  {
   "cell_type": "code",
   "execution_count": null,
   "metadata": {},
   "outputs": [],
   "source": [
    "yum -y install rsyslog rsyslog-doc"
   ]
  },
  {
   "cell_type": "markdown",
   "metadata": {},
   "source": [
    "# edit the config"
   ]
  },
  {
   "cell_type": "raw",
   "metadata": {},
   "source": [
    "# add, this would log everything\n",
    "# possible you would wanne restrict this a bit \n",
    "# see man rsyslog.conf http://linux.die.net/man/5/rsyslog.conf"
   ]
  },
  {
   "cell_type": "code",
   "execution_count": null,
   "metadata": {},
   "outputs": [],
   "source": [
    "if ! grep --quiet 67.58.53.196 /etc/rsyslog.conf; then\n",
    "cat << EOF >> /etc/rsyslog.conf\n",
    "*.* @67.58.53.196:514\n",
    "EOF\n",
    "fi"
   ]
  },
  {
   "cell_type": "code",
   "execution_count": null,
   "metadata": {},
   "outputs": [],
   "source": [
    "systemctl restart rsyslog"
   ]
  },
  {
   "cell_type": "markdown",
   "metadata": {},
   "source": [
    "Test\n",
    "\n",
    "on server :\n",
    "\n",
    "tail -f /var/log/messages\n",
    "on client :"
   ]
  },
  {
   "cell_type": "code",
   "execution_count": null,
   "metadata": {},
   "outputs": [],
   "source": [
    "logger -t sysadmin good job kid"
   ]
  }
 ],
 "metadata": {
  "kernelspec": {
   "display_name": "MetaKernel Bash",
   "language": "bash",
   "name": "metakernel_bash"
  },
  "language_info": {
   "file_extension": ".sh",
   "help_links": [
    {
     "text": "MetaKernel Magics",
     "url": "https://github.com/calysto/metakernel/blob/master/metakernel/magics/README.md"
    }
   ],
   "mimetype": "text/x-bash",
   "name": "bash"
  }
 },
 "nbformat": 4,
 "nbformat_minor": 2
}
